{
 "cells": [
  {
   "cell_type": "markdown",
   "metadata": {},
   "source": [
    "# NLP - CA1\n",
    "**Saman Eslami Nazari - 810199375**"
   ]
  },
  {
   "cell_type": "markdown",
   "metadata": {},
   "source": [
    "## Q1"
   ]
  },
  {
   "cell_type": "code",
   "execution_count": 47,
   "metadata": {},
   "outputs": [],
   "source": [
    "import re\n",
    "\n",
    "def custom_tokenizer(text):\n",
    "  pattern = r'\\b\\w+\\b'\n",
    "  tokens = re.findall(pattern, text)\n",
    "  return tokens"
   ]
  },
  {
   "cell_type": "markdown",
   "metadata": {},
   "source": [
    "### Part 1. What kind of tokenizer does the code above indicate? Is it character-based, subword-based, or word-based?\n",
    "\n",
    "Let's first take a look into each kind of tokenization:\n",
    "  - Character-based: We split the input by each character resulting resulting an array of characters.\n",
    "  - Subword-based: We split the input by each word; After getting the list of words, we won't touch the commonly used words but we will break down the rare ones to more common and meaningful words, e.g. \"Tokenization\" to \"Token\" and \"ization\".\n",
    "  - Word-based: We split the input by words without changing the outcome (like we did in Subword-based).\n",
    "\n",
    "The code above will break the input word by word, which means that **it's word-based**. The `\\b` indicates delimiters between words. The `\\w` indicates word characters, therefore `\\w+` matches a single word.\n",
    "<br>\n",
    "*Problems*: There are some problems with the word-based technique:\n",
    "  - One problem with this approach is that for words with punctuations it will lead to incomprehensible tokens. Consider the word \"Don't\". This leads to tokens \"Don\" and \"t\", while a better tokenization could be \"Do\" and \"n't\".\n",
    "  - Also this technique doesn't know the similarity of the words with the same root. For example it doesn't the similarity between \"Apple\" and \"Apples\".\n",
    "  - Another problem with word-based tokenization is that it leads to huge vocabulary. On important reason for this issue is what was mentioned previously: Lack of understanding the similarities. With this technique we end up storing the same root word with different looks so many times."
   ]
  },
  {
   "cell_type": "markdown",
   "metadata": {},
   "source": [
    "### Part 2. Run the tokenization code below and show two problems with this approach."
   ]
  },
  {
   "cell_type": "code",
   "execution_count": 48,
   "metadata": {},
   "outputs": [
    {
     "name": "stdout",
     "output_type": "stream",
     "text": [
      "['Just', 'received', 'my', 'M', 'Sc', 'diploma', 'today', 'on', '2024', '02', '10', 'Excited', 'to', 'embark', 'on', 'this', 'new', 'journey', 'of', 'knowledge', 'and', 'discovery', 'MScGraduate', 'EducationMatters']\n"
     ]
    }
   ],
   "source": [
    "q1_part2_text = \"Just received my M.Sc. diploma today, on 2024/02/10! Excited to embark on this new journey of knowledge and discovery. #MScGraduate #EducationMatters.\"\n",
    "\n",
    "print(custom_tokenizer(q1_part2_text))"
   ]
  },
  {
   "cell_type": "markdown",
   "metadata": {},
   "source": [
    "- First big problem is that it separates \"M.Sc.\" into different parts. This word should not be split because it has meaning as whole. Also the token \"M\" can mean anything in different sentence which can mislead the model.\n",
    "- Second problem can be the date tokenization, which could be more meaningful as a whole."
   ]
  },
  {
   "cell_type": "markdown",
   "metadata": {},
   "source": [
    "### Part 3. Improve the `custom_tokenizer` to fix at least one of the problems mentioned."
   ]
  },
  {
   "cell_type": "code",
   "execution_count": 49,
   "metadata": {},
   "outputs": [
    {
     "name": "stdout",
     "output_type": "stream",
     "text": [
      "['Just', 'received', 'my', 'MSc', 'diploma', 'today', 'on', '20240210', 'Excited', 'to', 'embark', 'on', 'this', 'new', 'journey', 'of', 'knowledge', 'and', 'discovery', 'MScGraduate', 'EducationMatters']\n"
     ]
    }
   ],
   "source": [
    "import string\n",
    "\n",
    "def improved_custom_tokenizer(text: str):\n",
    "  tokens = text.split()\n",
    "  tokens = [token.translate(str.maketrans('', '', string.punctuation)) for token in tokens]\n",
    "  return tokens\n",
    "\n",
    "print(improved_custom_tokenizer(q1_part2_text))"
   ]
  },
  {
   "cell_type": "markdown",
   "metadata": {},
   "source": [
    "With this approach the input text will be split into words and then have their punctuations removed. So in this case \"M.Sc\" won't be split into two tokens and the date will remain in one piece. But this approach still doesn't solve the problem with root words. This problem requires more advances methods."
   ]
  },
  {
   "cell_type": "markdown",
   "metadata": {},
   "source": [
    "## Q2"
   ]
  },
  {
   "cell_type": "markdown",
   "metadata": {},
   "source": [
    "### Part 1. What kind of tokenizer do BERT and GPT use? What's the reason?\n",
    "\n",
    "- BERT tokenizer uses subword-based method. It uses WordPiece to generate the vocabulary. The WordPiece technique generates subwords based on the likelihood of characters occurring together.\n",
    "- GPT also uses subword-based method. To make it work, it uses techniques like Byte Pair Encoding or SentencePiece.\n",
    "\n",
    "One reason for this decision is that it helps to handle the out-of-vocabulary tokens. It also helps us to handle larger variety of words."
   ]
  },
  {
   "cell_type": "markdown",
   "metadata": {},
   "source": [
    "### Part 2. Describe the two algorithms used by BERT and GPT models.\n",
    "\n",
    "#### Bert Method\n",
    "\n",
    "Bert uses WordPiece algorithm. It starts with a small special vocabulary from the model and the alphabet. It then starts to learn merge rules. The algorithm will calculate a score for each possible pair and then merges the one with the highest score. The formula for this score is like this:\n",
    "\n",
    "$$score = \\frac{frequency of pair}{frequency of first element \\times frequency of second element}$$\n",
    "\n",
    "With this function, the algorithm will prioritize the pairs that its individual parts are less frequent, meaning that frequent parts of words will not create new tokens in the vocabulary. For example \"dis\" and \"able\" might not be good candidates to merge because \"able\" is a frequent token and appears in many other words. But on the other hand \"hel\" and \"llo\" are more likely to be merged because they're both less frequent.\n",
    "\n",
    "#### GPT Method\n",
    "\n",
    "GPT uses Byte-Pair Encoding (BPE) Method. This algorithms starts with calculating the unique set of words available. Then it builds the vocabulary with the symbols used to make these words. After this it will start to learn merges. For every consecutive pair it will merge the most frequent ones. The result will be added to the vocabulary. This continues and the subwords grow bigger.\n",
    "\n",
    "#### Differences\n",
    "\n",
    "The main difference between these two algorithms is the score function that they use. The WordPiece considers frequency of elements as well while the BPE method only cares about the frequency of the pair itself."
   ]
  },
  {
   "cell_type": "markdown",
   "metadata": {},
   "source": [
    "### Part 3. Implement a simple version of these algorithms."
   ]
  },
  {
   "cell_type": "code",
   "execution_count": 50,
   "metadata": {},
   "outputs": [],
   "source": [
    "corpus_file = open(\"./data/All_Around_the_Moon.txt\", encoding=\"utf8\")\n",
    "corpus = corpus_file.read()"
   ]
  },
  {
   "cell_type": "markdown",
   "metadata": {},
   "source": [
    "#### WordPiece\n",
    "\n",
    "First We'll start by splitting the text into words and create the frequency map of words."
   ]
  },
  {
   "cell_type": "code",
   "execution_count": 51,
   "metadata": {},
   "outputs": [],
   "source": [
    "from collections import Counter\n",
    "\n",
    "words = re.findall(r\"[\\w']+|[.,!?;]\", corpus)\n",
    "words_freq = Counter(words)"
   ]
  },
  {
   "cell_type": "markdown",
   "metadata": {},
   "source": [
    "We then need to create the initial vocabulary, which is the alphabet used in the corpus."
   ]
  },
  {
   "cell_type": "code",
   "execution_count": 52,
   "metadata": {},
   "outputs": [],
   "source": [
    "vocab = {c for word in words for c in word}"
   ]
  },
  {
   "cell_type": "markdown",
   "metadata": {},
   "source": [
    "In order to count the occurrence of each pair and commit the merges, we need to calculate a map from each word to its characters."
   ]
  },
  {
   "cell_type": "code",
   "execution_count": 53,
   "metadata": {},
   "outputs": [],
   "source": [
    "splits = {word : [c for c in word] for word in words_freq.keys()}"
   ]
  },
  {
   "cell_type": "markdown",
   "metadata": {},
   "source": [
    "In the next step we write the function to calculate the score of each pair. This function will be used in each step of the training."
   ]
  },
  {
   "cell_type": "code",
   "execution_count": 54,
   "metadata": {},
   "outputs": [],
   "source": [
    "from collections import defaultdict\n",
    "\n",
    "def word_piece_pairs_score(splits: dict[str, list], words_freq: Counter) -> dict[tuple[str, str], int]:\n",
    "  \"\"\"\n",
    "  This method calculate the score of each pair available in the corpus. It first\n",
    "  iterates over all the words in the corpus and count the frequency of each\n",
    "  symbol. It then count the frequency of each pair occurred in the words. At\n",
    "  last it calculates the score of each pair by the formula below:\n",
    "  current pair score = frequency of pair / (frequency of the first element * frequency of the second element)\n",
    "  \"\"\"\n",
    "\n",
    "  pair_elem_freq = defaultdict(int)\n",
    "  pair_freq = defaultdict(int)\n",
    "\n",
    "  for word, split in splits.items():\n",
    "    for pair_elem in split:\n",
    "      pair_elem_freq[pair_elem] += words_freq[word]\n",
    "    \n",
    "    if len(split) <= 1:\n",
    "      continue\n",
    "\n",
    "    for i in range(len(split) - 1):\n",
    "      pair_freq[(split[i], split[i + 1])] += words_freq[word]\n",
    "    \n",
    "  result_scores = defaultdict()\n",
    "  for pair, freq in pair_freq.items():\n",
    "    result_scores[pair] = freq / (pair_elem_freq[pair[0]] * pair_elem_freq[pair[1]])\n",
    "  \n",
    "  return result_scores"
   ]
  },
  {
   "cell_type": "markdown",
   "metadata": {},
   "source": [
    "After calculating the scores, we need a method to merge the best possible pair."
   ]
  },
  {
   "cell_type": "code",
   "execution_count": 55,
   "metadata": {},
   "outputs": [],
   "source": [
    "def merge_pair(splits: dict[str, list], pair_to_merge: tuple[str, str]) -> None:\n",
    "  \"\"\"\n",
    "  Given a dictionary of splitted words and the designated pair, this function\n",
    "  will merge every pair in each word.\n",
    "  \"\"\"\n",
    "\n",
    "  re_pattern = f\"\\\\w*{pair_to_merge[0]}{pair_to_merge[1]}\\\\w*\"\n",
    "\n",
    "  for word, split in splits.items():\n",
    "    if not re.search(re_pattern, word): continue\n",
    "\n",
    "    for i in range(len(split) - 1):\n",
    "      if split[i] == pair_to_merge[0] and split[i + 1] == pair_to_merge[1]:\n",
    "        splits[word] = split[:i] + [pair_to_merge[0] + pair_to_merge[1]] + split[i + 2:]\n",
    "        break"
   ]
  },
  {
   "cell_type": "markdown",
   "metadata": {},
   "source": [
    "Now it's time for the final function. It will get the words and expand the vocabulary until a certain size is reached. We will also repeat the first steps for calculating `split_words` and other variables to make the function self containing."
   ]
  },
  {
   "cell_type": "code",
   "execution_count": 56,
   "metadata": {},
   "outputs": [],
   "source": [
    "def train_word_piece(corpus: str, vocab_size: int) -> tuple[list[str], dict[tuple, str]]:\n",
    "  words = re.findall(r\"[\\w']+|[.,!?;]\", corpus)\n",
    "  words_freq = Counter(words)\n",
    "  vocab = {c for word in words for c in word}\n",
    "  splits = {word : [c for c in word] for word in words_freq.keys()}\n",
    "\n",
    "  merges = {}\n",
    "\n",
    "  while len(vocab) < vocab_size:\n",
    "    scores = word_piece_pairs_score(splits, words_freq)\n",
    "    best_pair = max(scores, key=scores.get)\n",
    "    merge_pair(splits, best_pair)\n",
    "    vocab.add(best_pair[0] + best_pair[1])\n",
    "    merges[best_pair] = best_pair[0] + best_pair[1]\n",
    "  \n",
    "  return vocab, merges"
   ]
  },
  {
   "cell_type": "code",
   "execution_count": 57,
   "metadata": {},
   "outputs": [
    {
     "ename": "KeyboardInterrupt",
     "evalue": "",
     "output_type": "error",
     "traceback": [
      "\u001b[1;31m---------------------------------------------------------------------------\u001b[0m",
      "\u001b[1;31mKeyboardInterrupt\u001b[0m                         Traceback (most recent call last)",
      "Cell \u001b[1;32mIn[57], line 1\u001b[0m\n\u001b[1;32m----> 1\u001b[0m word_piece_vocab, word_piece_merges \u001b[38;5;241m=\u001b[39m \u001b[43mtrain_word_piece\u001b[49m\u001b[43m(\u001b[49m\u001b[43mcorpus\u001b[49m\u001b[43m,\u001b[49m\u001b[43m \u001b[49m\u001b[38;5;241;43m500\u001b[39;49m\u001b[43m)\u001b[49m\n",
      "Cell \u001b[1;32mIn[56], line 12\u001b[0m, in \u001b[0;36mtrain_word_piece\u001b[1;34m(corpus, vocab_size)\u001b[0m\n\u001b[0;32m     10\u001b[0m scores \u001b[38;5;241m=\u001b[39m word_piece_pairs_score(splits, words_freq)\n\u001b[0;32m     11\u001b[0m best_pair \u001b[38;5;241m=\u001b[39m \u001b[38;5;28mmax\u001b[39m(scores, key\u001b[38;5;241m=\u001b[39mscores\u001b[38;5;241m.\u001b[39mget)\n\u001b[1;32m---> 12\u001b[0m \u001b[43mmerge_pair\u001b[49m\u001b[43m(\u001b[49m\u001b[43msplits\u001b[49m\u001b[43m,\u001b[49m\u001b[43m \u001b[49m\u001b[43mbest_pair\u001b[49m\u001b[43m)\u001b[49m\n\u001b[0;32m     13\u001b[0m vocab\u001b[38;5;241m.\u001b[39madd(best_pair[\u001b[38;5;241m0\u001b[39m] \u001b[38;5;241m+\u001b[39m best_pair[\u001b[38;5;241m1\u001b[39m])\n\u001b[0;32m     14\u001b[0m merges[best_pair] \u001b[38;5;241m=\u001b[39m best_pair[\u001b[38;5;241m0\u001b[39m] \u001b[38;5;241m+\u001b[39m best_pair[\u001b[38;5;241m1\u001b[39m]\n",
      "Cell \u001b[1;32mIn[55], line 10\u001b[0m, in \u001b[0;36mmerge_pair\u001b[1;34m(splits, pair_to_merge)\u001b[0m\n\u001b[0;32m      7\u001b[0m re_pattern \u001b[38;5;241m=\u001b[39m \u001b[38;5;124mf\u001b[39m\u001b[38;5;124m\"\u001b[39m\u001b[38;5;130;01m\\\\\u001b[39;00m\u001b[38;5;124mw*\u001b[39m\u001b[38;5;132;01m{\u001b[39;00mpair_to_merge[\u001b[38;5;241m0\u001b[39m]\u001b[38;5;132;01m}\u001b[39;00m\u001b[38;5;132;01m{\u001b[39;00mpair_to_merge[\u001b[38;5;241m1\u001b[39m]\u001b[38;5;132;01m}\u001b[39;00m\u001b[38;5;130;01m\\\\\u001b[39;00m\u001b[38;5;124mw*\u001b[39m\u001b[38;5;124m\"\u001b[39m\n\u001b[0;32m      9\u001b[0m \u001b[38;5;28;01mfor\u001b[39;00m word, split \u001b[38;5;129;01min\u001b[39;00m splits\u001b[38;5;241m.\u001b[39mitems():\n\u001b[1;32m---> 10\u001b[0m   \u001b[38;5;28;01mif\u001b[39;00m \u001b[38;5;129;01mnot\u001b[39;00m re\u001b[38;5;241m.\u001b[39msearch(re_pattern, word): \u001b[38;5;28;01mcontinue\u001b[39;00m\n\u001b[0;32m     12\u001b[0m   \u001b[38;5;28;01mfor\u001b[39;00m i \u001b[38;5;129;01min\u001b[39;00m \u001b[38;5;28mrange\u001b[39m(\u001b[38;5;28mlen\u001b[39m(split) \u001b[38;5;241m-\u001b[39m \u001b[38;5;241m1\u001b[39m):\n\u001b[0;32m     13\u001b[0m     \u001b[38;5;28;01mif\u001b[39;00m split[i] \u001b[38;5;241m==\u001b[39m pair_to_merge[\u001b[38;5;241m0\u001b[39m] \u001b[38;5;129;01mand\u001b[39;00m split[i \u001b[38;5;241m+\u001b[39m \u001b[38;5;241m1\u001b[39m] \u001b[38;5;241m==\u001b[39m pair_to_merge[\u001b[38;5;241m1\u001b[39m]:\n",
      "\u001b[1;31mKeyboardInterrupt\u001b[0m: "
     ]
    }
   ],
   "source": [
    "word_piece_vocab, word_piece_merges = train_word_piece(corpus, 500)"
   ]
  },
  {
   "cell_type": "markdown",
   "metadata": {},
   "source": [
    "#### Byte-Pair Encoding\n",
    "\n",
    "BPE and WordPiece are very similar in terms of algorithm structure. The only thing we need to do is to replace the scoring function."
   ]
  },
  {
   "cell_type": "code",
   "execution_count": null,
   "metadata": {},
   "outputs": [],
   "source": [
    "def bpe_pairs_score(splits: dict[str, list], words_freq: Counter) -> dict[tuple[str, str], int]:\n",
    "  \"\"\"\n",
    "  Scoring function for BPE algorithm. The score of each pair is simply the\n",
    "  frequency of that pair in the corpus.\n",
    "  \"\"\"\n",
    "\n",
    "  pair_freq = defaultdict(int)\n",
    "\n",
    "  for word, split in splits.items():\n",
    "    for i in range(len(split) - 1):\n",
    "      pair_freq[(split[i], split[i + 1])] += words_freq[word]\n",
    "  \n",
    "  return pair_freq"
   ]
  },
  {
   "cell_type": "code",
   "execution_count": null,
   "metadata": {},
   "outputs": [],
   "source": [
    "def train_bpe(corpus: str, vocab_size: int) -> tuple[list[str], dict[tuple, str]]:\n",
    "  words = re.findall(r\"[\\w']+|[.,!?;]\", corpus)\n",
    "  words_freq = Counter(words)\n",
    "  vocab = {c for word in words for c in word}\n",
    "  splits = {word : [c for c in word] for word in words_freq.keys()}\n",
    "\n",
    "  merges = {}\n",
    "\n",
    "  while len(vocab) < vocab_size:\n",
    "    scores = bpe_pairs_score(splits, words_freq)\n",
    "    best_pair = max(scores, key=scores.get)\n",
    "    merge_pair(splits, best_pair)\n",
    "    vocab.add(best_pair[0] + best_pair[1])\n",
    "    merges[best_pair] = best_pair[0] + best_pair[1]\n",
    "  \n",
    "  return vocab, merges"
   ]
  },
  {
   "cell_type": "code",
   "execution_count": null,
   "metadata": {},
   "outputs": [],
   "source": [
    "bpe_vocab, bpe_merges = train_bpe(corpus, 500)"
   ]
  },
  {
   "cell_type": "markdown",
   "metadata": {},
   "source": [
    "#### What's the size of the words in each method's vocabulary? Are these numbers different? Why?\n",
    "\n",
    "For this question I'll check the largest word created in each vocabulary."
   ]
  },
  {
   "cell_type": "code",
   "execution_count": null,
   "metadata": {},
   "outputs": [
    {
     "name": "stdout",
     "output_type": "stream",
     "text": [
      "WordPiece largest word: CONSEQUENTIAL, size = 13\n",
      "BPE larges word: Projectile, size = 10\n"
     ]
    }
   ],
   "source": [
    "bpe_larges_word = max(word_piece_vocab, key=len)\n",
    "print(f\"WordPiece largest word: {bpe_larges_word}, size = {len(bpe_larges_word)}\")\n",
    "\n",
    "word_piece_largest_word = max(bpe_vocab, key=len)\n",
    "print(f\"BPE larges word: {word_piece_largest_word}, size = {len(word_piece_largest_word)}\")"
   ]
  },
  {
   "cell_type": "markdown",
   "metadata": {},
   "source": [
    "As we can see, the largest word that the BPE created is 10 characters long while for the WordPiece is 13. The main reason behind this difference is the way they each calculate their pair scores. WordPiece give each pair a relational score, which means that with the growth of the size of the pairs the score doesn't reduce a lot in comparison to pairs with smaller size. But in BPE's case, as the pairs get merged, the frequency of bigger pairs reduce in comparison to smaller pairs, because it's more rare to see a unique word than to see a smaller sub-word. Therefore in BPE's case, in each iteration the smaller merges are more probable to choose so it takes longer to build larger words.<br>\n",
    "For example consider the pairs (\"e\", \"t\") and (\"pu\", \"sh\"). The number of the words that has the first pair are probably more than the number of the words that contain \"push\". But in the case of WordPiece we'll also take the frequency of the elements of the pair into account. We might have less \"push\"s than \"et\"s but we also have less \"pu\" and \"sh\"s than \"e\" and \"t\"s in our corpus, therefore the fraction for the second pair isn't *that* small in comparison to the first pair."
   ]
  },
  {
   "cell_type": "markdown",
   "metadata": {},
   "source": [
    "#### Tokenize the given text.\n",
    "\n",
    "In order to tokenize a text we need a method to get the learned merge rules and apply it to the input text."
   ]
  },
  {
   "cell_type": "code",
   "execution_count": null,
   "metadata": {},
   "outputs": [],
   "source": [
    "def tokenize(merge_rules: dict[tuple[str, str], str], text: str) -> list[str]:\n",
    "  \"\"\"\n",
    "  This method will first pre-tokenize the `text` and split it into characters.\n",
    "  After this it will try to merge the tokens using the provided rules.\n",
    "  \"\"\"\n",
    "\n",
    "  def merge_word(split_word: list[str], merge_rule: tuple[str, str, str]) -> list[str]:\n",
    "    i = 0\n",
    "    while i < (len(split_word) - 1):\n",
    "      if split_word[i] == merge_rule[0] and split_word[i + 1] == merge_rule[1]:\n",
    "        split_word = split_word[:i] + [merge_rule[2]] + split_word[i + 2:]\n",
    "      else:\n",
    "        i += 1\n",
    "    return split_word\n",
    "\n",
    "  split_text = [[c for c in word] for word in text.split()]\n",
    "  for pair, merged in merge_rules.items():\n",
    "    for idx, split_word in enumerate(split_text):\n",
    "      split_text[idx] = merge_word(split_word, (pair[0], pair[1], merged))\n",
    "    \n",
    "  return sum(split_text, [])"
   ]
  },
  {
   "cell_type": "code",
   "execution_count": null,
   "metadata": {},
   "outputs": [
    {
     "name": "stdout",
     "output_type": "stream",
     "text": [
      "{('t', 'h'): 'th', ('th', 'e'): 'the', ('i', 'n'): 'in', ('r', 'e'): 're', ('a', 'n'): 'an', ('o', 'n'): 'on', ('e', 'r'): 'er', ('a', 't'): 'at', ('o', 'u'): 'ou', ('e', 'n'): 'en', ('e', 'd'): 'ed', ('a', 'r'): 'ar', ('s', 't'): 'st', ('o', 'f'): 'of', ('o', 'r'): 'or', ('in', 'g'): 'ing', ('i', 't'): 'it', ('l', 'l'): 'll', ('i', 's'): 'is', ('t', 'o'): 'to', ('a', 's'): 'as', ('l', 'e'): 'le', ('an', 'd'): 'and', ('i', 'c'): 'ic', ('h', 'e'): 'he', ('l', 'y'): 'ly', ('s', 'e'): 'se', ('b', 'e'): 'be', ('e', 's'): 'es', ('r', 'o'): 'ro', ('c', 't'): 'ct', ('h', 'a'): 'ha', ('n', 'o'): 'no', ('i', 'on'): 'ion', ('a', 'l'): 'al', ('v', 'e'): 've', ('g', 'h'): 'gh', ('m', 'e'): 'me', ('i', 'd'): 'id', ('en', 't'): 'ent', ('c', 'e'): 'ce', ('w', 'e'): 'we', ('v', 'er'): 'ver', ('l', 'd'): 'ld', ('r', 'i'): 'ri', ('u', 't'): 'ut', ('w', 'h'): 'wh', ('r', 'a'): 'ra', ('c', 'h'): 'ch', ('u', 'n'): 'un', ('th', 'at'): 'that', ('a', 'll'): 'all', ('l', 'i'): 'li', ('i', 'r'): 'ir', ('f', 'or'): 'for', ('m', 'o'): 'mo', ('s', 'u'): 'su', ('w', 'i'): 'wi', ('a', 'in'): 'ain', ('c', 'o'): 'co', ('s', 'o'): 'so', ('e', 'ct'): 'ect', ('d', 'e'): 'de', ('ou', 'ld'): 'ould', ('gh', 't'): 'ght', ('a', 'b'): 'ab', ('o', 'w'): 'ow', ('ou', 'r'): 'our', ('w', 'as'): 'was', ('wi', 'th'): 'with', ('T', 'he'): 'The', ('i', 'm'): 'im', ('c', 'on'): 'con', ('a', 'p'): 'ap', ('t', 'er'): 'ter', ('l', 'a'): 'la', ('e', 'x'): 'ex', ('d', 'i'): 'di', ('b', 'y'): 'by', ('h', 'is'): 'his', ('l', 'o'): 'lo', ('p', 'o'): 'po', ('no', 't'): 'not', ('ou', 'n'): 'oun', ('ha', 'd'): 'had', ('t', 'ain'): 'tain', ('a', 'y'): 'ay', ('a', 're'): 'are', ('e', 't'): 'et', ('u', 's'): 'us', ('n', 'e'): 'ne', ('i', 'le'): 'ile', ('the', 'r'): 'ther', ('u', 'r'): 'ur', (\"'\", 's'): \"'s\", ('ic', 'an'): 'ican', ('a', 'd'): 'ad', ('ar', 'b'): 'arb', ('m', 'p'): 'mp', ('j', 'ect'): 'ject', ('q', 'u'): 'qu', ('B', 'arb'): 'Barb', ('f', 'a'): 'fa', ('Barb', 'ican'): 'Barbican', ('k', 'e'): 'ke', ('s', 's'): 'ss', ('ou', 't'): 'out', ('d', 'an'): 'dan', ('h', 'o'): 'ho', ('f', 'e'): 'fe', ('u', 'l'): 'ul', ('t', 'e'): 'te', ('A', 'r'): 'Ar', ('at', 'ion'): 'ation', ('the', 'y'): 'they', ('y', 'ou'): 'you', ('M', 'o'): 'Mo', ('s', 'p'): 'sp', ('Ar', 'dan'): 'Ardan', ('Mo', 'on'): 'Moon', ('the', 'ir'): 'their', ('ou', 's'): 'ous', ('ro', 'm'): 'rom', ('no', 'w'): 'now', ('ro', 'ject'): 'roject', ('b', 'ut'): 'but', ('ver', 'y'): 'very', ('g', 'e'): 'ge', ('en', 'd'): 'end', ('at', 'e'): 'ate', ('er', 's'): 'ers', ('f', 'rom'): 'from', ('c', 'k'): 'ck', ('ha', 've'): 'have', ('ar', 'd'): 'ard', ('p', 're'): 'pre', ('the', 'm'): 'them', ('s', 'h'): 'sh', ('s', 'a'): 'sa', ('P', 'roject'): 'Project', ('t', 'i'): 'ti', ('on', 'e'): 'one', ('re', 'd'): 'red', ('i', 'f'): 'if', ('it', 'y'): 'ity', ('p', 'ro'): 'pro', ('u', 'st'): 'ust', ('an', 't'): 'ant', ('a', 'st'): 'ast', ('c', 'ould'): 'could', ('ou', 'gh'): 'ough', ('th', 'is'): 'this', ('g', 're'): 'gre', ('u', 'p'): 'up', ('u', 'm'): 'um', ('p', 'er'): 'per', ('t', 'ra'): 'tra', ('it', 's'): 'its', ('i', 'l'): 'il', ('b', 'o'): 'bo', ('p', 'e'): 'pe', ('i', 'll'): 'ill', ('c', 'an'): 'can', ('v', 'en'): 'ven', ('oun', 'd'): 'ound', ('i', 'ght'): 'ight', ('ic', 'h'): 'ich', ('ab', 'le'): 'able', ('we', 're'): 'were', ('wh', 'ich'): 'which', ('mo', 're'): 'more', ('ar', 't'): 'art', ('w', 'ould'): 'would', ('d', 'er'): 'der', ('w', 'or'): 'wor', ('Project', 'ile'): 'Projectile', ('b', 'le'): 'ble', ('th', 'an'): 'than', ('se', 'l'): 'sel', ('m', 'ent'): 'ment', ('a', 'k'): 'ak', ('o', 'b'): 'ob', ('f', 'o'): 'fo', ('C', 'ap'): 'Cap', ('th', 'ing'): 'thing', ('es', 's'): 'ess', ('Cap', 'tain'): 'Captain', ('h', 'er'): 'her', ('he', 're'): 'here', ('a', 'c'): 'ac', ('a', 'g'): 'ag', ('on', 'g'): 'ong', ('u', 're'): 'ure', ('an', 'y'): 'any', ('co', 'mp'): 'comp', ('id', 'e'): 'ide', ('d', 'is'): 'dis', ('ar', 'th'): 'arth', ('ion', 's'): 'ions', ('i', 've'): 'ive', ('be', 'en'): 'been', ('su', 'r'): 'sur', ('s', 'er'): 'ser', ('c', 'ri'): 'cri', ('E', 'arth'): 'Earth', ('d', 'o'): 'do', ('o', 'ther'): 'other', ('it', 'e'): 'ite', ('the', 're'): 'there', ('in', 'd'): 'ind', ('li', 'ght'): 'light', ('in', 't'): 'int', ('so', 'me'): 'some', ('li', 'ke'): 'like', ('wh', 'at'): 'what', ('se', 'e'): 'see', ('it', 't'): 'itt', ('n', 'g'): 'ng', ('u', 'll'): 'ull', ('e', 'l'): 'el', ('e', 'st'): 'est', ('p', 'l'): 'pl', ('all', 'y'): 'ally', ('a', 'ch'): 'ach', ('v', 'ed'): 'ved', ('a', 'm'): 'am', ('gre', 'at'): 'great', ('wh', 'o'): 'who', ('W', 'h'): 'Wh', ('c', 'i'): 'ci', ('en', 'ce'): 'ence', ('e', 'ven'): 'even', ('le', 'ss'): 'less', ('I', 't'): 'It', ('on', 'ly'): 'only', ('m', 'an'): 'man', ('o', 'l'): 'ol', ('sa', 'id'): 'said', ('h', 'im'): 'him', ('re', 'p'): 'rep', ('an', 's'): 'ans', ('o', 'k'): 'ok', ('mo', 'st'): 'most', ('a', 'ct'): 'act', ('an', 'ce'): 'ance', ('ti', 'me'): 'time', ('fa', 'ce'): 'face', ('b', 'er'): 'ber', ('p', 'h'): 'ph', ('cri', 'ed'): 'cried', ('re', 'n'): 'ren', ('g', 'o'): 'go', ('at', 'ed'): 'ated', ('v', 'ing'): 'ving', ('B', 'ut'): 'But', ('f', 'ri'): 'fri', ('sel', 'f'): 'self', ('i', 'g'): 'ig', ('m', 'ile'): 'mile', ('t', 'r'): 'tr', ('fo', 're'): 'fore', ('ab', 'out'): 'about', (\"'\", 't'): \"'t\", ('itt', 'le'): 'ittle', ('st', 'r'): 'str', ('w', 'ay'): 'way', ('or', 't'): 'ort', ('ob', 'ser'): 'obser', ('I', 'n'): 'In', ('ho', 'll'): 'holl', ('c', 'a'): 'ca', ('o', 'd'): 'od', ('M', \"'\"): \"M'\", ('is', 'h'): 'ish', ('N', 'ic'): 'Nic', ('l', 'ittle'): 'little', ('m', 'ust'): 'must', ('m', 'y'): 'my', ('i', 'st'): 'ist', ('di', 'st'): 'dist', ('Nic', 'holl'): 'Nicholl', (\"M'\", 'Nicholl'): \"M'Nicholl\", ('in', 'e'): 'ine', ('m', 'a'): 'ma', ('i', 'ble'): 'ible', ('l', 'ong'): 'long', ('N', 'o'): 'No', ('fri', 'end'): 'friend', ('un', 'ar'): 'unar', ('e', 'y'): 'ey', ('v', 'es'): 'ves', ('po', 'int'): 'point', ('su', 'ch'): 'such', ('f', 'f'): 'ff', ('sur', 'face'): 'surface', ('o', 'p'): 'op', ('e', 'very'): 'every', ('k', 'now'): 'know', ('0', '0'): '00', ('d', 'ay'): 'day', ('ar', 'y'): 'ary', ('wh', 'en'): 'when', ('g', 'l'): 'gl', ('f', 'ull'): 'full', ('mile', 's'): 'miles', ('p', 'art'): 'part', ('ar', 'k'): 'ark', ('st', 'ill'): 'still', ('ur', 'n'): 'urn', ('t', 'w'): 'tw', ('ve', 'll'): 'vell', ('re', 'ad'): 'read', ('t', 'y'): 'ty', ('m', 'ed'): 'med', ('ri', 'ght'): 'right', ('i', 'e'): 'ie', ('T', 'h'): 'Th', ('W', 'e'): 'We', ('e', 'ver'): 'ever', ('tra', 'vell'): 'travell', ('o', 'm'): 'om', ('as', 's'): 'ass', ('sh', 'ould'): 'should', ('i', 'ng'): 'ing', ('re', 'st'): 'rest', ('er', 'tain'): 'ertain', ('y', 'our'): 'your', ('oun', 'tain'): 'ountain', ('re', 'ct'): 'rect', ('ow', 'n'): 'own', ('o', 'ver'): 'over', ('wor', 'k'): 'work', ('g', 'ra'): 'gra', ('in', 'to'): 'into', ('po', 's'): 'pos', ('f', 'ul'): 'ful', ('s', 'ha'): 'sha', ('travell', 'ers'): 'travellers', ('in', 'ter'): 'inter', ('m', 'u'): 'mu', ('the', 'se'): 'these', ('Wh', 'at'): 'What', ('as', 'k'): 'ask', ('co', 'm'): 'com', ('p', 'r'): 'pr', ('f', 'ir'): 'fir', ('e', 'p'): 'ep', ('c', 'c'): 'cc', ('ard', 's'): 'ards', ('at', 'er'): 'ater', ('l', 'unar'): 'lunar', ('c', 'ul'): 'cul', ('d', 'es'): 'des', ('t', 'a'): 'ta', ('un', 'der'): 'under', ('la', 'st'): 'last', ('t', 'ed'): 'ted', ('ne', 'ver'): 'never', ('re', 'g'): 'reg', ('s', 'ent'): 'sent', ('of', 'f'): 'off', ('s', 'ide'): 'side', ('con', 't'): 'cont', ('ation', 's'): 'ations', ('u', 'se'): 'use', ('be', 'fore'): 'before', ('m', 'in'): 'min', ('r', 'ough'): 'rough', ('en', 'se'): 'ense', ('t', 'ion'): 'tion', ('The', 'y'): 'They', ('H', 'e'): 'He', ('m', 'ountain'): 'mountain', ('mo', 'ment'): 'moment', ('for', 'e'): 'fore', ('wi', 'll'): 'will', ('l', 'ed'): 'led', ('s', 'id'): 'sid', ('s', 'ay'): 'say', ('p', 'ar'): 'par', ('re', 'e'): 'ree', ('be', 'ing'): 'being', ('w', 'here'): 'where', ('ve', 'lo'): 'velo', ('co', 'me'): 'come', ('c', 'r'): 'cr', ('l', 'u'): 'lu', ('c', 'ent'): 'cent', ('ar', 's'): 'ars', ('mu', 'ch'): 'much', ('t', 'en'): 'ten', ('c', 'ertain'): 'certain', ('in', 'k'): 'ink', ('c', 'oun'): 'coun', ('fe', 'w'): 'few', ('i', 'o'): 'io', ('fa', 'ct'): 'fact', ('h', 'as'): 'has', ('re', 'm'): 'rem', ('T', 'H'): 'TH', ('ex', 'c'): 'exc', ('a', 'ir'): 'air', ('t', 'ing'): 'ting', ('S', 'un'): 'Sun', ('n', 'or'): 'nor', ('th', 'rough'): 'through', ('g', 'r'): 'gr', ('i', 'ous'): 'ious', ('at', 'ure'): 'ature', ('is', 'e'): 'ise', ('con', 'd'): 'cond', ('tw', 'o'): 'two', ('l', 'ing'): 'ling', ('ask', 'ed'): 'asked', ('for', 'm'): 'form', ('c', 'al'): 'cal', ('lo', 'ok'): 'look', ('v', 'is'): 'vis', ('po', 'ss'): 'poss', ('c', 'or'): 'cor', ('li', 'ed'): 'lied', ('fir', 'st'): 'first', ('g', 'et'): 'get', ('n', 'ess'): 'ness'}\n",
      "{('Z', 'Z'): 'ZZ', ('U', 'ZZ'): 'UZZ', ('X', 'X'): 'XX', ('G', 'ö'): 'Gö', ('X', 'V'): 'XV', ('UZZ', 'L'): 'UZZL', ('9', '7'): '97', ('97', '2'): '972', ('Q', 'U'): 'QU', ('8', '6'): '86', ('1', '86'): '186', ('186', '6'): '1866', ('186', '2'): '1862', ('186', '3'): '1863', ('186', '1'): '1861', ('186', '0'): '1860', ('8', '9'): '89', ('7', '89'): '789', ('1', '789'): '1789', ('P', 'UZZL'): 'PUZZL', ('C', 'ô'): 'Cô', ('7', '6'): '76', ('76', '2'): '762', ('1', '76'): '176', ('176', '0'): '1760', ('1', '762'): '1762', ('1', '6'): '16', ('16', '6'): '166', ('166', '6'): '1666', ('166', '5'): '1665', ('16', '4'): '164', ('164', '7'): '1647', ('164', '5'): '1645', ('1645', '7'): '16457', ('164', '0'): '1640', ('4', '6'): '46', ('46', '5'): '465', ('16', '7'): '167', ('167', '1'): '1671', ('7', '5'): '75', ('8', '75'): '875', ('3', '75'): '375', ('75', '0'): '750', ('1', '8'): '18', ('18', '16'): '1816', ('18', '8'): '188', ('188', '7'): '1887', ('16', '8'): '168', ('168', '8'): '1688', ('7', '18'): '718', ('1', '718'): '1718', ('18', '4'): '184', ('184', '4'): '1844', ('184', '1'): '1841', ('4', '8'): '48', ('48', '0'): '480', ('1', '7'): '17', ('2', '7'): '27', ('18', '27'): '1827', ('2', '8'): '28', ('28', '3'): '283', ('283', '3'): '2833', ('2', '28'): '228', ('9', '8'): '98', ('5', '98'): '598', ('1', '598'): '1598', ('3', '8'): '38', ('18', '38'): '1838', ('17', '4'): '174', ('174', '5'): '1745', ('2', '5'): '25', ('16', '25'): '1625', ('25', '6'): '256', ('6', '25'): '625', ('9', '6'): '96', ('5', '96'): '596', ('5', '4'): '54', ('3', '54'): '354', ('1', '54'): '154', ('2', '154'): '2154', ('2', '2154'): '22154', ('6', '22154'): '622154', ('622154', '1'): '6221541', ('6', '6'): '66', ('3', '6'): '36', ('36', '0'): '360', ('1', '5'): '15', ('5', '7'): '57', ('57', '2'): '572', ('18', '5'): '185', ('185', '1'): '1851', ('6', '5'): '65', ('9', '5'): '95', ('95', '8'): '958', ('2', '95'): '295', ('65', '0'): '650', ('4', '5'): '45', ('45', '0'): '450', ('8', '4'): '84', ('84', '1'): '841', ('841', '16'): '84116', ('2', '4'): '24', ('24', '0'): '240', ('4', '25'): '425', ('25', '0'): '250', ('3', '7'): '37', ('0', '0'): '00', ('00', '0'): '000', ('46', '00'): '4600', ('16', '00'): '1600', ('5', '00'): '500', ('4', '00'): '400', ('15', '00'): '1500', ('3', '00'): '300', ('9', '00'): '900', ('2', '00'): '200', ('6', '00'): '600', ('1', '00'): '100', ('200', '5'): '2005', ('240', '0'): '2400', ('1', '300'): '1300', ('2', '0'): '20', ('3', '0'): '30', ('7', '0'): '70', ('4', '0'): '40', ('5', '0'): '50', ('15', '0'): '150', ('8', '0'): '80', ('80', '9'): '809', ('9', '0'): '90', ('27', '0'): '270', ('1', '0'): '10', ('16', '0'): '160', ('18', '0'): '180', ('6', '0'): '60', ('3', '500'): '3500', ('80', '1'): '801', ('2', '16'): '216', ('5', '5'): '55', ('5', '9'): '59', ('5', '6'): '56', ('3', '5'): '35', ('35', '3'): '353', ('1', '9'): '19', ('2', '19'): '219', ('2', '9'): '29', ('1', '2'): '12', ('17', '12'): '1712', ('2', '6'): '26', ('9', '2'): '92', ('92', '1'): '921', ('1', '3'): '13', ('2', '3'): '23', ('4', '2'): '42', ('6', '4'): '64', ('2', '2'): '22', ('15', '2'): '152', ('1', '152'): '1152', ('200', '1'): '2001', ('20', '20'): '2020', ('4', '30'): '430', ('1', '4'): '14', ('8', '1'): '81', ('16', '1'): '161', ('161', '1'): '1611', ('3', '3'): '33', ('4', '4'): '44', ('2', '12'): '212', ('3', '20'): '320', ('4', '000'): '4000', ('3', '4'): '34', ('4', '3'): '43', ('1', '13'): '113', ('8', '000'): '8000', ('5', '2'): '52', ('6', '000'): '6000', ('1', '18'): '118', ('50', '1'): '501', ('3', '2'): '32', ('2', '1'): '21', ('46', \"'\"): \"46'\", ('37', \"'\"): \"37'\", ('QU', 'E'): 'QUE', ('QUE', 'D'): 'QUED', ('QUED', 'U'): 'QUEDU', ('QUEDU', 'C'): 'QUEDUC', ('Z', 'E'): 'ZE', ('ZE', 'D'): 'ZED', ('E', 'ZE'): 'EZE', ('E', 'EZE'): 'EEZE', ('R', 'EEZE'): 'REEZE', ('F', 'REEZE'): 'FREEZE', ('1', '1'): '11', ('6', '1'): '61', (\"'\", '61'): \"'61\", ('A', 'QUEDUC'): 'AQUEDUC', ('A', 'ZED'): 'AZED', ('G', 'AZED'): 'GAZED', ('5', '000'): '5000', ('_', 'à'): '_à', ('PUZZL', 'I'): 'PUZZLI', ('PUZZLI', 'N'): 'PUZZLIN', ('PUZZLIN', 'G'): 'PUZZLING', ('1', '30'): '130', ('AQUEDUC', 'T'): 'AQUEDUCT', ('3', '000'): '3000', ('3000', '000'): '3000000', ('QUE', 'S'): 'QUES', ('QUE', 'H'): 'QUEH', ('QUE', 'N'): 'QUEN', ('S', 'QUEH'): 'SQUEH', ('U', 'SQUEH'): 'USQUEH', ('S', 'USQUEH'): 'SUSQUEH', ('E', 'QUEN'): 'EQUEN', ('S', 'EQUEN'): 'SEQUEN', ('N', 'SEQUEN'): 'NSEQUEN', ('O', 'NSEQUEN'): 'ONSEQUEN', ('C', 'ONSEQUEN'): 'CONSEQUEN', ('SUSQUEH', 'A'): 'SUSQUEHA', ('SUSQUEHA', 'N'): 'SUSQUEHAN', ('SUSQUEHAN', 'N'): 'SUSQUEHANN', ('SUSQUEHANN', 'A'): 'SUSQUEHANNA', ('QUES', 'T'): 'QUEST', ('QUEST', 'I'): 'QUESTI', ('QUESTI', 'O'): 'QUESTIO', ('QUESTIO', 'N'): 'QUESTION', ('QUESTION', 'S'): 'QUESTIONS', ('CONSEQUEN', 'T'): 'CONSEQUENT', ('CONSEQUENT', 'I'): 'CONSEQUENTI', ('CONSEQUENTI', 'A'): 'CONSEQUENTIA', ('CONSEQUENTIA', 'L'): 'CONSEQUENTIAL', ('XX', 'I'): 'XXI', ('XXI', 'V'): 'XXIV', ('4', '1'): '41', ('1', '20'): '120', ('XV', 'I'): 'XVI', ('QU', 'I'): 'QUI', ('E', 'QU'): 'EQU', ('EQU', 'A'): 'EQUA', ('EQUA', 'L'): 'EQUAL', ('QUI', 'T'): 'QUIT', ('QUIT', 'E'): 'QUITE', ('XVI', 'I'): 'XVII', ('XXI', 'I'): 'XXII', ('z', 'z'): 'zz', ('3', '1'): '31', ('M', 'æ'): 'Mæ', ('O', 'U'): 'OU', ('Y', 'OU'): 'YOU', ('R', 'OU'): 'ROU', ('G', 'ROU'): 'GROU', ('GROU', 'P'): 'GROUP', ('ROU', 'N'): 'ROUN', ('ROU', 'G'): 'ROUG', ('ROUN', 'D'): 'ROUND', ('H', 'ROUG'): 'HROUG', ('HROUG', 'H'): 'HROUGH', ('A', 'ROUND'): 'AROUND', ('J', 'OU'): 'JOU', ('JOU', 'R'): 'JOUR', ('JOUR', 'N'): 'JOURN', ('JOURN', 'E'): 'JOURNE', ('JOURNE', 'Y'): 'JOURNEY', ('T', 'HROUGH'): 'THROUGH', ('OU', 'G'): 'OUG', ('OUG', 'H'): 'OUGH', ('N', 'OUGH'): 'NOUGH', ('H', 'OUGH'): 'HOUGH', ('E', 'NOUGH'): 'ENOUGH', ('T', 'HOUGH'): 'THOUGH', ('OU', 'L'): 'OUL', ('OUL', 'D'): 'OULD', ('C', 'OULD'): 'COULD', ('OU', 'R'): 'OUR', ('H', 'OUR'): 'HOUR', ('X', 'Y'): 'XY', ('XY', 'G'): 'XYG', ('O', 'XYG'): 'OXYG', ('OXYG', 'E'): 'OXYGE', ('OXYGE', 'N'): 'OXYGEN', ('OU', 'N'): 'OUN', ('OUN', 'D'): 'OUND', ('F', 'OUND'): 'FOUND', ('M', 'OUN'): 'MOUN', ('FOUND', 'A'): 'FOUNDA', ('MOUN', 'T'): 'MOUNT', ('MOUNT', 'A'): 'MOUNTA', ('MOUNTA', 'I'): 'MOUNTAI', ('MOUNTAI', 'N'): 'MOUNTAIN', ('MOUNTAIN', 'S'): 'MOUNTAINS', ('FOUNDA', 'T'): 'FOUNDAT', ('FOUNDAT', 'I'): 'FOUNDATI', ('FOUNDATI', 'O'): 'FOUNDATIO', ('FOUNDATIO', 'N'): 'FOUNDATION', ('OU', 'T'): 'OUT', ('OU', 'C'): 'OUC', ('OUC', 'H'): 'OUCH', ('OUT', 'H'): 'OUTH', ('S', 'OUTH'): 'SOUTH', ('SOUTH', 'E'): 'SOUTHE', ('SOUTHE', 'R'): 'SOUTHER', ('SOUTHER', 'N'): 'SOUTHERN', ('OUCH', 'I'): 'OUCHI', ('OUCHI', 'N'): 'OUCHIN', ('OUCHIN', 'G'): 'OUCHING', ('T', 'OUCHING'): 'TOUCHING', ('X', 'I'): 'XI', ('XI', 'X'): 'XIX', ('XI', 'V'): 'XIV', ('XI', 'I'): 'XII', ('XII', 'I'): 'XIII', ('XVII', 'I'): 'XVIII', ('XXII', 'I'): 'XXIII', ('I', 'Z'): 'IZ', ('L', 'IZ'): 'LIZ', ('A', 'LIZ'): 'ALIZ', ('ALIZ', 'I'): 'ALIZI', ('ALIZI', 'N'): 'ALIZIN', ('ALIZIN', 'G'): 'ALIZING', ('T', 'ALIZING'): 'TALIZING', ('I', 'TALIZING'): 'ITALIZING', ('V', 'ITALIZING'): 'VITALIZING', ('E', 'X'): 'EX', ('EX', 'P'): 'EXP', ('EXP', 'R'): 'EXPR', ('EX', 'C'): 'EXC', ('EXC', 'E'): 'EXCE', ('EXCE', 'P'): 'EXCEP', ('EXPR', 'E'): 'EXPRE', ('EXPRE', 'S'): 'EXPRES', ('EXPRES', 'S'): 'EXPRESS', ('EXCEP', 'T'): 'EXCEPT', ('I', 'X'): 'IX', ('L', 'U'): 'LU', ('C', 'LU'): 'CLU', ('CLU', 'B'): 'CLUB', ('CLU', 'D'): 'CLUD', ('N', 'CLUD'): 'NCLUD', ('I', 'NCLUD'): 'INCLUD', ('INCLUD', 'I'): 'INCLUDI', ('INCLUDI', 'N'): 'INCLUDIN', ('INCLUDIN', 'G'): 'INCLUDING', ('LU', 'N'): 'LUN', ('L', 'LU'): 'LLU', ('O', 'LU'): 'OLU', ('LLU', 'S'): 'LLUS', ('S', 'OLU'): 'SOLU', ('LUN', 'A'): 'LUNA', ('LUNA', 'R'): 'LUNAR', ('I', 'LLUS'): 'ILLUS', ('ILLUS', 'T'): 'ILLUST', ('ILLUST', 'R'): 'ILLUSTR', ('ILLUSTR', 'A'): 'ILLUSTRA', ('ILLUSTRA', 'T'): 'ILLUSTRAT', ('SOLU', 'T'): 'SOLUT', ('SOLUT', 'I'): 'SOLUTI', ('SOLUTI', 'O'): 'SOLUTIO', ('SOLUTIO', 'N'): 'SOLUTION', ('LUNA', 'T'): 'LUNAT', ('LUNAT', 'I'): 'LUNATI', ('LUNATI', 'C'): 'LUNATIC', ('LUNATIC', 'O'): 'LUNATICO', ('ILLUSTRAT', 'E'): 'ILLUSTRATE', ('ILLUSTRATE', 'D'): 'ILLUSTRATED', ('ILLUSTRAT', 'I'): 'ILLUSTRATI', ('ILLUSTRATI', 'O'): 'ILLUSTRATIO', ('ILLUSTRATIO', 'N'): 'ILLUSTRATION', ('ILLUSTRATION', 'S'): 'ILLUSTRATIONS', ('V', 'E'): 'VE', ('VE', 'R'): 'VER', ('VER', 'Y'): 'VERY', ('E', 'VERY'): 'EVERY', ('R', 'VER'): 'RVER', ('E', 'RVER'): 'ERVER', ('S', 'ERVER'): 'SERVER', ('SERVER', 'S'): 'SERVERS', ('B', 'SERVERS'): 'BSERVERS', ('O', 'BSERVERS'): 'OBSERVERS', ('O', 'VER'): 'OVER', ('OVER', 'E'): 'OVERE', ('OVERE', 'D'): 'OVERED', ('C', 'OVERED'): 'COVERED', ('S', 'COVERED'): 'SCOVERED', ('I', 'SCOVERED'): 'ISCOVERED', ('D', 'ISCOVERED'): 'DISCOVERED', ('N', 'VER'): 'NVER', ('O', 'NVER'): 'ONVER', ('ONVER', 'S'): 'ONVERS', ('C', 'ONVERS'): 'CONVERS', ('CONVERS', 'A'): 'CONVERSA', ('VER', 'N'): 'VERN', ('VERN', 'E'): 'VERNE', ('E', 'VER'): 'EVER', ('N', 'EVER'): 'NEVER', ('CONVERSA', 'T'): 'CONVERSAT', ('CONVERSAT', 'I'): 'CONVERSATI', ('CONVERSATI', 'O'): 'CONVERSATIO', ('CONVERSATIO', 'N'): 'CONVERSATION', ('NEVER', 'T'): 'NEVERT', ('NEVERT', 'H'): 'NEVERTH', ('NEVERTH', 'E'): 'NEVERTHE', ('NEVERTHE', 'L'): 'NEVERTHEL', ('NEVERTHEL', 'E'): 'NEVERTHELE', ('NEVERTHELE', 'S'): 'NEVERTHELES', ('NEVERTHELES', 'S'): 'NEVERTHELESS', ('L', 'VE'): 'LVE', ('E', 'LVE'): 'ELVE', ('S', 'ELVE'): 'SELVE', ('SELVE', 'S'): 'SELVES', ('M', 'SELVES'): 'MSELVES', ('E', 'MSELVES'): 'EMSELVES', ('H', 'EMSELVES'): 'HEMSELVES', ('T', 'HEMSELVES'): 'THEMSELVES', ('EVERY', 'W'): 'EVERYW', ('EVERYW', 'H'): 'EVERYWH', ('EVERYWH', 'E'): 'EVERYWHE', ('EVERYWHE', 'R'): 'EVERYWHER', ('EVERYWHER', 'E'): 'EVERYWHERE', ('I', 'VE'): 'IVE', ('G', 'IVE'): 'GIVE', ('VE', 'N'): 'VEN', ('E', 'VEN'): 'EVEN'}\n",
      "BPE: ['T', 'his', 'd', 'ark', 'ness', 'is', 'ab', 'so', 'l', 'ut', 'e', 'ly', 'k', 'ill', 'ing', '!', 'I', 'f', 'we', 'ever', 'ta', 'ke', 'this', 't', 'ri', 'p', 'ag', 'ain', ',', 'it', 'must', 'be', 'about', 'the', 'time', 'of', 'the', 's', 'N', 'e', 'w', 'Moon', '!', 'T', 'his', 'is', 'a', 'to', 'k', 'en', 'i', 'z', 'ation', 't', 'ask', '.', 'T', 'ok', 'en', 'i', 'z', 'ation', 'is', 'the', 'first', 'st', 'ep', 'in', 'a', 'N', 'L', 'P', 'p', 'i', 'pe', 'l', 'ine', '.', 'We', 'will', 'be', 'comp', 'ar', 'ing', 'the', 'to', 'k', 'en', 's', 'g', 'en', 'er', 'ated', 'by', 'e', 'ach', 'to', 'k', 'en', 'i', 'z', 'ation', 'mo', 'de', 'l', '.']\n",
      "WordPiece: ['T', 'h', 'i', 's', 'd', 'a', 'r', 'k', 'n', 'e', 's', 's', 'i', 's', 'a', 'b', 's', 'o', 'l', 'u', 't', 'e', 'l', 'y', 'k', 'i', 'l', 'l', 'i', 'n', 'g', '!', 'I', 'f', 'w', 'e', 'e', 'v', 'e', 'r', 't', 'a', 'k', 'e', 't', 'h', 'i', 's', 't', 'r', 'i', 'p', 'a', 'g', 'a', 'i', 'n', ',', 'i', 't', 'm', 'u', 's', 't', 'b', 'e', 'a', 'b', 'o', 'u', 't', 't', 'h', 'e', 't', 'i', 'm', 'e', 'o', 'f', 't', 'h', 'e', 's', 'N', 'e', 'w', 'M', 'o', 'o', 'n', '!', 'T', 'h', 'i', 's', 'i', 's', 'a', 't', 'o', 'k', 'e', 'n', 'i', 'z', 'a', 't', 'i', 'o', 'n', 't', 'a', 's', 'k', '.', 'T', 'o', 'k', 'e', 'n', 'i', 'z', 'a', 't', 'i', 'o', 'n', 'i', 's', 't', 'h', 'e', 'f', 'i', 'r', 's', 't', 's', 't', 'e', 'p', 'i', 'n', 'a', 'N', 'L', 'P', 'p', 'i', 'p', 'e', 'l', 'i', 'n', 'e', '.', 'W', 'e', 'w', 'i', 'l', 'l', 'b', 'e', 'c', 'o', 'm', 'p', 'a', 'r', 'i', 'n', 'g', 't', 'h', 'e', 't', 'o', 'k', 'e', 'n', 's', 'g', 'e', 'n', 'e', 'r', 'a', 't', 'e', 'd', 'b', 'y', 'e', 'a', 'c', 'h', 't', 'o', 'k', 'e', 'n', 'i', 'z', 'a', 't', 'i', 'o', 'n', 'm', 'o', 'd', 'e', 'l', '.']\n"
     ]
    }
   ],
   "source": [
    "text_to_tokenize = \"\"\"\n",
    "This darkness is absolutely killing! If we ever take this trip again, it must be\n",
    "about the time of the sNew Moon! This is a tokenization task. Tokenization is\n",
    "the first step in a NLP pipeline. We will be comparing the tokens generated by\n",
    "each tokenization model.\n",
    "\"\"\"\n",
    "\n",
    "text_to_tokenize = text_to_tokenize.replace('\\n', ' ')\n",
    "\n",
    "tokenized_with_bpe = tokenize(bpe_merges, text_to_tokenize)\n",
    "tokenized_with_word_piece = tokenize(word_piece_merges, text_to_tokenize)\n",
    "\n",
    "print(f\"BPE: {tokenized_with_bpe}\")\n",
    "print(f\"WordPiece: {tokenized_with_word_piece}\")"
   ]
  },
  {
   "cell_type": "markdown",
   "metadata": {},
   "source": [
    "## Q3"
   ]
  },
  {
   "cell_type": "code",
   "execution_count": 82,
   "metadata": {},
   "outputs": [],
   "source": [
    "corpus_file = open(\"./data/Tarzan.txt\", encoding=\"utf8\")\n",
    "corpus = corpus_file.read()"
   ]
  },
  {
   "cell_type": "markdown",
   "metadata": {},
   "source": [
    "### Part 1. Pre-process your data and train your tokenizer.\n",
    "\n",
    "For this purpose I'll use the hugging face WordPiece Tokenizer. The first thing to do is to normalize the data using the `BertNormalizer` in the library."
   ]
  },
  {
   "cell_type": "code",
   "execution_count": 83,
   "metadata": {},
   "outputs": [],
   "source": [
    "from tokenizers import (\n",
    "    models,\n",
    "    normalizers,\n",
    "    pre_tokenizers,\n",
    "    processors,\n",
    "    trainers,\n",
    "    Tokenizer,\n",
    ")\n",
    "\n",
    "tokenizer = Tokenizer(models.WordPiece(unk_token=\"[UNK]\"))"
   ]
  },
  {
   "cell_type": "markdown",
   "metadata": {},
   "source": [
    "In the next step we'll normalize the data using `NFD`, `LowerCase`, and `StripAccent` normalizers."
   ]
  },
  {
   "cell_type": "code",
   "execution_count": 84,
   "metadata": {},
   "outputs": [],
   "source": [
    "tokenizer.normalizer = normalizers.Sequence(\n",
    "    [normalizers.NFD(), normalizers.Lowercase(), normalizers.StripAccents()]\n",
    ")"
   ]
  },
  {
   "cell_type": "markdown",
   "metadata": {},
   "source": [
    "Now we need to pre-tokenize the data. We can use the `BertPreTokenizer` to split the text based on whitespace and punctuations."
   ]
  },
  {
   "cell_type": "code",
   "execution_count": 85,
   "metadata": {},
   "outputs": [],
   "source": [
    "tokenizer.pre_tokenizer = pre_tokenizers.BertPreTokenizer()"
   ]
  },
  {
   "cell_type": "markdown",
   "metadata": {},
   "source": [
    "Now that we have completed our tokenization pipeline, we'll have to train it. We have to create a `WordPieceTrainer` and use it to train out tokenizer."
   ]
  },
  {
   "cell_type": "code",
   "execution_count": 86,
   "metadata": {},
   "outputs": [],
   "source": [
    "special_tokens = [\"[UNK]\", \"[PAD]\", \"[CLS]\", \"[SEP]\", \"[MASK]\"]\n",
    "trainer = trainers.WordPieceTrainer(vocab_size=25000, special_tokens=special_tokens)\n",
    "\n",
    "tokenizer.train([\"./data/Tarzan.txt\"], trainer=trainer)"
   ]
  },
  {
   "cell_type": "markdown",
   "metadata": {},
   "source": [
    "The last step for out tokenizer would be adding a post_processor so that it adds special tokens to the start and end of each sentence. We'll use `TemplateProcessor` for this purpose."
   ]
  },
  {
   "cell_type": "code",
   "execution_count": 87,
   "metadata": {},
   "outputs": [],
   "source": [
    "cls_token_id = tokenizer.token_to_id(\"[CLS]\")\n",
    "sep_token_id = tokenizer.token_to_id(\"[SEP]\")\n",
    "\n",
    "tokenizer.post_processor = processors.TemplateProcessing(\n",
    "    single=f\"[CLS]:0 $A:0 [SEP]:0\",\n",
    "    pair=f\"[CLS]:0 $A:0 [SEP]:0 $B:1 [SEP]:1\",\n",
    "    special_tokens=[(\"[CLS]\", cls_token_id), (\"[SEP]\", sep_token_id)],\n",
    ")"
   ]
  },
  {
   "cell_type": "markdown",
   "metadata": {},
   "source": [
    "Now the tokenizer is ready to encode text inputs."
   ]
  },
  {
   "cell_type": "markdown",
   "metadata": {},
   "source": [
    "### Part 2. Train a bi-gram model from the corpus. Also, what's data sparsity and how will you handle it?"
   ]
  },
  {
   "cell_type": "markdown",
   "metadata": {},
   "source": [
    "Data sparsity happens when there is missing data in the corpus. In the n-grams' case we might learn many different combinations of words from our corpus but still we might encounter new combinations in the test data. In this case we estimate the probability of that combination to zero, which is not true. In order to solve this problem, there are many solutions such as add-1 smoothing, backoff, or interpolation. In this project we'll be using backoff method to solve the problems."
   ]
  },
  {
   "cell_type": "markdown",
   "metadata": {},
   "source": [
    "First step to create a bi-gram model is to create a method that will generate n-grams from tokens."
   ]
  },
  {
   "cell_type": "code",
   "execution_count": 88,
   "metadata": {},
   "outputs": [],
   "source": [
    "def get_n_gram(text: str, n: int, tokenizer: Tokenizer) -> list[tuple[str]]:\n",
    "  \"\"\"\n",
    "  This method will first tokenize the `text` using the provided `tokenizer`.\n",
    "  After doing that it will create n-grams with respect to the given `n`.\n",
    "  \"\"\"\n",
    "\n",
    "  tokens = tokenizer.encode(text).tokens\n",
    "  result_n_grams = []\n",
    "  idx_range = range(len(tokens) - n + 1) if n > 0 else range(len(tokens) - n) \n",
    "  for i in idx_range:\n",
    "    result_n_grams = result_n_grams + [tuple(tokens[i:i+n])]\n",
    "  return result_n_grams"
   ]
  },
  {
   "cell_type": "markdown",
   "metadata": {},
   "source": [
    "Now that we can create n-grams, let's train our model. Our n-gram model is simply the probability of seeing a word after another:\n",
    "$$p(w_i|w^{i-1}_{i-k+1})=\\frac{count(w^i_{i-k+1})}{count(w^{i-1}_{i-k+1})}$$\n",
    "We'll write the function that will calculate this probability for each gram."
   ]
  },
  {
   "cell_type": "code",
   "execution_count": 89,
   "metadata": {},
   "outputs": [],
   "source": [
    "from collections import Counter\n",
    "\n",
    "def train_n_gram(text: str, n: int, tokenizer: Tokenizer) -> dict[tuple[str], int]:\n",
    "  \"\"\"\n",
    "  This method calculate the probability of seeing the nth word after seeing\n",
    "  (n-1) words before it. To do it counts the number of times we've seen the\n",
    "  sentence with n words (`big_sentence_count`) and the number of times it's seen\n",
    "  the sentence with (n-1) words (`small_sentence_count`). the result will be =\n",
    "  `big_sentence_count` \\ `small_sentence_count`.\n",
    "  \"\"\"\n",
    "\n",
    "  big_sentences = Counter(get_n_gram(text, n, tokenizer))\n",
    "  small_sentences = Counter(get_n_gram(text, n - 1, tokenizer))\n",
    "\n",
    "  result = {}\n",
    "  for big_sentence, big_sentence_count in big_sentences.items():\n",
    "    small_sentence_count = small_sentences[big_sentence[:-1]]\n",
    "    result[big_sentence] = big_sentence_count / small_sentence_count\n",
    "  \n",
    "  return result"
   ]
  },
  {
   "cell_type": "markdown",
   "metadata": {},
   "source": [
    "### Part 3. Predict the following sentences with at least 10 more tokens."
   ]
  },
  {
   "cell_type": "markdown",
   "metadata": {},
   "source": [
    "Remember that we are going to use backoff method to solve the data sparsity. Therefore We will need a method that will create n'-grams for n' from 1 to the designated n and use them. "
   ]
  },
  {
   "cell_type": "code",
   "execution_count": 90,
   "metadata": {},
   "outputs": [],
   "source": [
    "def train_n_grams(text: str, n: int, tokenizer: Tokenizer) -> list[dict[tuple[str], int]]:\n",
    "  \"\"\"\n",
    "  This method will create n-grams for n from 1 to the designated `n`. Th result\n",
    "  will be a list of these trained n-grams where the index 0 of the list will\n",
    "  correspond to a uni-gram.\n",
    "  \"\"\"\n",
    "\n",
    "  result = [None] * n\n",
    "  for i in range(1, n + 1):\n",
    "    result[i - 1] = train_n_gram(text, i, tokenizer)\n",
    "  return result"
   ]
  },
  {
   "cell_type": "markdown",
   "metadata": {},
   "source": [
    "Next thing that we need is a method to choose the next word with respect to the previous words and the trained n-gram. Note that the following implementation is not the best as it iterates over the dictionary's keys."
   ]
  },
  {
   "cell_type": "code",
   "execution_count": 91,
   "metadata": {},
   "outputs": [],
   "source": [
    "from random import choices\n",
    "\n",
    "def predict_next_word(previous_text: list[str], n_gram: dict[tuple[str], int]) -> str | None:\n",
    "    \"\"\"\n",
    "    This method simply searches for every combination of words in the n_gram\n",
    "    that matches the input text. After finding every matched combination, it\n",
    "    will make a random choice with the probabilities found in n_gram.\n",
    "    \"\"\"\n",
    "    matched_combs: list[tuple[str]] = []\n",
    "    combs_probabilities: list[int] = []\n",
    "    previous_text = tuple(previous_text)\n",
    "\n",
    "    for words_comb, probability in n_gram.items():\n",
    "       if previous_text == words_comb[:-1]:\n",
    "         matched_combs += [words_comb]\n",
    "         combs_probabilities += [probability]\n",
    "    \n",
    "    if not matched_combs:\n",
    "      return None\n",
    "\n",
    "    return choices(matched_combs, combs_probabilities)[0][-1] # Select the last word of the chosen n-gram"
   ]
  },
  {
   "cell_type": "markdown",
   "metadata": {},
   "source": [
    "The last function would be to predict the given text `n` times and backoff to lower n-grams."
   ]
  },
  {
   "cell_type": "code",
   "execution_count": 92,
   "metadata": {},
   "outputs": [],
   "source": [
    "def predict_text(\n",
    "    init_sentence: str,\n",
    "    n_tokens: int,\n",
    "    n: int,\n",
    "    trained_n_grams: list[dict[list[str], int]],\n",
    "    tokenizer: Tokenizer) -> list[str]:\n",
    "  \"\"\"\n",
    "  This method will continue the given initial sentence until `n_tokens` using\n",
    "  the trained n-grams. it will also backoff to a lower n-gram when ever it\n",
    "  doesn't find the sequence in the initial n-gram.\n",
    "  \"\"\"\n",
    "\n",
    "  result = tokenizer.encode(init_sentence).tokens[:-1] # Tokenize and remove the end of sentence special token\n",
    "  for i in range(n_tokens):\n",
    "    next_token = None\n",
    "    current_n = n\n",
    "    while next_token is None:\n",
    "      next_token = predict_next_word(result[-(current_n - 1):], trained_n_grams[current_n - 1])\n",
    "      current_n -= 1\n",
    "    \n",
    "    result += [next_token]\n",
    "  \n",
    "  return result"
   ]
  },
  {
   "cell_type": "markdown",
   "metadata": {},
   "source": [
    "Now let's train out n-grams. In this case we'll use bi-grams as the strongest model."
   ]
  },
  {
   "cell_type": "code",
   "execution_count": 93,
   "metadata": {},
   "outputs": [],
   "source": [
    "trained_n_grams = train_n_grams(corpus, 2, tokenizer)"
   ]
  },
  {
   "cell_type": "markdown",
   "metadata": {},
   "source": [
    "Now that everything is ready, let's predict the sentences!"
   ]
  },
  {
   "cell_type": "code",
   "execution_count": 94,
   "metadata": {},
   "outputs": [
    {
     "name": "stdout",
     "output_type": "stream",
     "text": [
      "['[CLS]', 'knowing', 'well', 'the', 'windings', 'of', 'the', 'trail', 'he', 'could', 'conjure', '.', 'this', 'was', 'a', 'palaver', 'with', 'raw', 'meat']\n",
      "['[CLS]', 'for', 'half', 'a', 'day', 'he', 'lolled', 'on', 'the', 'huge', 'back', 'and', 'others', 'pressed', 'about', 'the', 'pike', 'tips', '.', '\"', 'good', 'and']\n"
     ]
    }
   ],
   "source": [
    "init_sentence_1 = \"Knowing well the windings of the trail he\"\n",
    "print(predict_text(init_sentence_1, 10, 2, trained_n_grams, tokenizer))\n",
    "init_sentence_2 = \"For half a day he lolled on the huge back and\"\n",
    "print(predict_text(init_sentence_2, 10, 2, trained_n_grams, tokenizer))"
   ]
  },
  {
   "cell_type": "markdown",
   "metadata": {},
   "source": [
    "### Part 4. Now do it with 3-grams and 5-grams!!"
   ]
  },
  {
   "cell_type": "markdown",
   "metadata": {},
   "source": [
    "For 3-grams:"
   ]
  },
  {
   "cell_type": "code",
   "execution_count": 95,
   "metadata": {},
   "outputs": [],
   "source": [
    "trained_n_grams_3 = train_n_grams(corpus, 3, tokenizer)"
   ]
  },
  {
   "cell_type": "code",
   "execution_count": 96,
   "metadata": {},
   "outputs": [
    {
     "name": "stdout",
     "output_type": "stream",
     "text": [
      "['[CLS]', 'knowing', 'well', 'the', 'windings', 'of', 'the', 'trail', 'he', 'took', 'short', 'cuts', ',', 'swinging', 'through', 'the', 'trees', 'and', 'lighted']\n",
      "['[CLS]', 'for', 'half', 'a', 'day', 'he', 'lolled', 'on', 'the', 'huge', 'back', 'and', 'usha', 'tore', 'through', 'the', 'pass', 'just', 'above', 'the', 'boss', 'and']\n"
     ]
    }
   ],
   "source": [
    "print(predict_text(init_sentence_1, 10, 3, trained_n_grams_3, tokenizer))\n",
    "print(predict_text(init_sentence_2, 10, 3, trained_n_grams_3, tokenizer))"
   ]
  },
  {
   "cell_type": "markdown",
   "metadata": {},
   "source": [
    "For 5-grams:"
   ]
  },
  {
   "cell_type": "code",
   "execution_count": 97,
   "metadata": {},
   "outputs": [],
   "source": [
    "trained_n_grams_5 = train_n_grams(corpus, 5, tokenizer)"
   ]
  },
  {
   "cell_type": "code",
   "execution_count": 98,
   "metadata": {},
   "outputs": [
    {
     "name": "stdout",
     "output_type": "stream",
     "text": [
      "['[CLS]', 'knowing', 'well', 'the', 'windings', 'of', 'the', 'trail', 'he', 'took', 'short', 'cuts', ',', 'swinging', 'through', 'the', 'branches', 'of', 'the']\n",
      "['[CLS]', 'for', 'half', 'a', 'day', 'he', 'lolled', 'on', 'the', 'huge', 'back', 'and', 'essayed', 'to', 'say', '\"', 'eh', '?', '\"', 'and', 'to', 'yawn']\n"
     ]
    }
   ],
   "source": [
    "print(predict_text(init_sentence_1, 10, 5, trained_n_grams_5, tokenizer))\n",
    "print(predict_text(init_sentence_2, 10, 5, trained_n_grams_5, tokenizer))"
   ]
  },
  {
   "cell_type": "markdown",
   "metadata": {},
   "source": [
    "### Part 5. Can you increase the `n` as much as you want in a n-gram model? Why?"
   ]
  },
  {
   "cell_type": "markdown",
   "metadata": {},
   "source": [
    "No you can't. The first problem that occurs would be the increase of computation to train such a model. The second and more important problem would be the increase in data sparsity; As we are looking for larger combinations of words, the probability of seeing more larger combinations reduce dramatically leading the model to learn only a few combinations of words. For example, for the initial string of \"Knowing Well the windings\", there are less such combinations in the corpus to guess the fifth word from it."
   ]
  },
  {
   "cell_type": "markdown",
   "metadata": {},
   "source": [
    "## Q4"
   ]
  },
  {
   "cell_type": "markdown",
   "metadata": {},
   "source": [
    "Let's first load the pre-written codes for training n-grams."
   ]
  },
  {
   "cell_type": "code",
   "execution_count": 99,
   "metadata": {},
   "outputs": [
    {
     "name": "stderr",
     "output_type": "stream",
     "text": [
      "[nltk_data] Downloading package punkt to\n",
      "[nltk_data]     C:\\Users\\ali18\\AppData\\Roaming\\nltk_data...\n",
      "[nltk_data]   Package punkt is already up-to-date!\n"
     ]
    },
    {
     "data": {
      "text/plain": [
       "True"
      ]
     },
     "execution_count": 99,
     "metadata": {},
     "output_type": "execute_result"
    }
   ],
   "source": [
    "import nltk\n",
    "import pandas as pd\n",
    "from nltk import ngrams\n",
    "from nltk.probability import FreqDist\n",
    "from sklearn.metrics import accuracy_score, precision_score, recall_score\n",
    "from sklearn.model_selection import train_test_split\n",
    "\n",
    "nltk.download('punkt')"
   ]
  },
  {
   "cell_type": "code",
   "execution_count": 100,
   "metadata": {},
   "outputs": [],
   "source": [
    "# Step 1: Load the data\n",
    "data = pd.read_csv('./data/google_play_store_apps_reviews.csv')\n",
    "\n",
    "# Step 2: Split the data\n",
    "train_data, test_data = train_test_split(data, test_size = 0.2, random_state = 42)"
   ]
  },
  {
   "cell_type": "code",
   "execution_count": 101,
   "metadata": {},
   "outputs": [],
   "source": [
    "# Step 3: Build the n-gram Language Model\n",
    "def get_ngrams(text: str, n: int) -> list[str]:\n",
    "    tokens = nltk.word_tokenize(text)\n",
    "    return list(ngrams(tokens, n))\n",
    "\n",
    "def train_ngram(data: list, n: int) -> tuple[FreqDist, FreqDist]:\n",
    "    positive_ngrams = []\n",
    "    negative_ngrams = []\n",
    "\n",
    "    for index, row in data.iterrows():\n",
    "        grams = get_ngrams(row['review'], n)\n",
    "        if row['polarity'] == 1:\n",
    "            positive_ngrams.extend(grams)\n",
    "        elif row['polarity'] == 0:\n",
    "            negative_ngrams.extend(grams)\n",
    "\n",
    "    positive_freq = FreqDist(positive_ngrams)\n",
    "    negative_freq = FreqDist(negative_ngrams)\n",
    "\n",
    "    return positive_freq, negative_freq"
   ]
  },
  {
   "cell_type": "code",
   "execution_count": 102,
   "metadata": {},
   "outputs": [],
   "source": [
    "# Step 4: Train the Model\n",
    "n = 2  # Change to the desired n-gram size\n",
    "positive_freq, negative_freq = train_ngram(train_data, n)"
   ]
  },
  {
   "cell_type": "markdown",
   "metadata": {},
   "source": [
    "Now that the trained data is ready, let's write a method that would predict the label of a given sentence."
   ]
  },
  {
   "cell_type": "code",
   "execution_count": 103,
   "metadata": {},
   "outputs": [],
   "source": [
    "def predict_label(text: str, positive_freq: FreqDist, negative_freq: FreqDist, n: int) -> int:\n",
    "  \"\"\"\n",
    "  This method will simply sum up the number of times that a bi-gram has occurred\n",
    "  in each class, normalize the result and choose whichever that has bigger\n",
    "  number.\n",
    "  \"\"\"\n",
    "\n",
    "  positive_size = sum(positive_freq.values())\n",
    "  negative_size = sum(negative_freq.values())\n",
    "\n",
    "  positive_occurrence, negative_occurrence = 0, 0\n",
    "\n",
    "  text_n_grams = get_ngrams(text, n)\n",
    "  for n_gram in text_n_grams:\n",
    "    positive_occurrence += positive_freq[n_gram]\n",
    "    negative_occurrence += negative_freq[n_gram]\n",
    "  \n",
    "  positive_occurrence = positive_occurrence * negative_size / positive_size\n",
    "\n",
    "  if positive_occurrence > negative_occurrence: return 1\n",
    "  return 0\n",
    "  "
   ]
  },
  {
   "cell_type": "markdown",
   "metadata": {},
   "source": [
    "It's time to test!!"
   ]
  },
  {
   "cell_type": "code",
   "execution_count": 104,
   "metadata": {},
   "outputs": [],
   "source": [
    "# Step 5: test the n-gram\n",
    "def test_ngram(data: list, positive_freq: FreqDist, negative_freq: FreqDist, n: int) -> list:\n",
    "  pred_labels = []\n",
    "\n",
    "  for text in data:\n",
    "    pred_labels.extend([predict_label(text, positive_freq, negative_freq, n)])\n",
    "\n",
    "  return pred_labels"
   ]
  },
  {
   "cell_type": "code",
   "execution_count": 105,
   "metadata": {},
   "outputs": [],
   "source": [
    "predicted_labels = test_ngram(test_data[\"review\"].values.tolist(), positive_freq, negative_freq, n)"
   ]
  },
  {
   "cell_type": "code",
   "execution_count": 106,
   "metadata": {},
   "outputs": [
    {
     "name": "stdout",
     "output_type": "stream",
     "text": [
      "Accuracy Score: 0.7318435754189944\n",
      "Precision: 0.5384615384615384\n",
      "Recall: 0.660377358490566\n"
     ]
    }
   ],
   "source": [
    "print(f\"Accuracy Score: {accuracy_score(test_data['polarity'].values.tolist(), predicted_labels)}\")\n",
    "print(f\"Precision: {precision_score(test_data['polarity'].values.tolist(), predicted_labels)}\")\n",
    "print(f\"Recall: {recall_score(test_data['polarity'].values.tolist(), predicted_labels)}\")\n"
   ]
  },
  {
   "cell_type": "markdown",
   "metadata": {},
   "source": [
    "Here wa have an accuracy of 74% which says that out of all of out predictions, how many of them were true.\n",
    "We also calculated precision and recall. Based on the results, 55% of the positive predictions that we made were actually positive (recall), and 68% of the actual positive classes were predicted right by the model."
   ]
  },
  {
   "cell_type": "code",
   "execution_count": 107,
   "metadata": {},
   "outputs": [
    {
     "ename": "NameError",
     "evalue": "name 'calculate_n_gram_probability' is not defined",
     "output_type": "error",
     "traceback": [
      "\u001b[1;31m---------------------------------------------------------------------------\u001b[0m",
      "\u001b[1;31mNameError\u001b[0m                                 Traceback (most recent call last)",
      "Cell \u001b[1;32mIn[107], line 103\u001b[0m\n\u001b[0;32m     98\u001b[0m         current_n \u001b[38;5;241m=\u001b[39m n  \n\u001b[0;32m    100\u001b[0m     \u001b[38;5;28;01mreturn\u001b[39;00m result\n\u001b[1;32m--> 103\u001b[0m trained_n_grams_2 \u001b[38;5;241m=\u001b[39m \u001b[43mcreate_n_grams_set\u001b[49m\u001b[43m(\u001b[49m\u001b[43mfile_content\u001b[49m\u001b[43m,\u001b[49m\u001b[43m \u001b[49m\u001b[38;5;241;43m2\u001b[39;49m\u001b[43m,\u001b[49m\u001b[43m \u001b[49m\u001b[43mtokenizer\u001b[49m\u001b[43m)\u001b[49m\n\u001b[0;32m    105\u001b[0m init_seq_1 \u001b[38;5;241m=\u001b[39m \u001b[38;5;124m\"\u001b[39m\u001b[38;5;124mKnowing well the windings of the trail he\u001b[39m\u001b[38;5;124m\"\u001b[39m\n\u001b[0;32m    106\u001b[0m \u001b[38;5;28mprint\u001b[39m(generate_text(init_seq_1, \u001b[38;5;241m10\u001b[39m, \u001b[38;5;241m2\u001b[39m, trained_n_grams_2, tokenizer))\n",
      "Cell \u001b[1;32mIn[107], line 58\u001b[0m, in \u001b[0;36mcreate_n_grams_set\u001b[1;34m(text, n, tk)\u001b[0m\n\u001b[0;32m     56\u001b[0m result \u001b[38;5;241m=\u001b[39m [\u001b[38;5;28;01mNone\u001b[39;00m] \u001b[38;5;241m*\u001b[39m n\n\u001b[0;32m     57\u001b[0m \u001b[38;5;28;01mfor\u001b[39;00m i \u001b[38;5;129;01min\u001b[39;00m \u001b[38;5;28mrange\u001b[39m(\u001b[38;5;241m1\u001b[39m, n \u001b[38;5;241m+\u001b[39m \u001b[38;5;241m1\u001b[39m):\n\u001b[1;32m---> 58\u001b[0m     result[i \u001b[38;5;241m-\u001b[39m \u001b[38;5;241m1\u001b[39m] \u001b[38;5;241m=\u001b[39m \u001b[43mcalculate_n_gram_probability\u001b[49m(text, i, tk)\n\u001b[0;32m     59\u001b[0m \u001b[38;5;28;01mreturn\u001b[39;00m result\n",
      "\u001b[1;31mNameError\u001b[0m: name 'calculate_n_gram_probability' is not defined"
     ]
    }
   ],
   "source": [
    "import os\n",
    "\n",
    "file_path = open(\"./data/Tarzan.txt\", encoding=\"utf8\")\n",
    "file_content = file_path.read()\n",
    "\n",
    "from tokenizers import models as token_models\n",
    "from tokenizers import normalizers as token_normalizers\n",
    "from tokenizers import pre_tokenizers as token_pre_tokenizers\n",
    "from tokenizers import processors as token_processors\n",
    "from tokenizers import trainers as token_trainers\n",
    "from tokenizers import Tokenizer\n",
    "\n",
    "# Use BPE tokenizer\n",
    "tokenizer = Tokenizer(token_models.BPE(unk_token=\"[UNK]\"))\n",
    "\n",
    "tokenizer.normalizer = token_normalizers.Sequence(\n",
    "    [token_normalizers.NFKC(), token_normalizers.Lowercase(), token_normalizers.StripAccents()]\n",
    ")\n",
    "\n",
    "tokenizer.pre_tokenizer = token_pre_tokenizers.BertPreTokenizer()\n",
    "\n",
    "special_tokens = [\"[UNK]\", \"[PAD]\", \"[CLS]\", \"[SEP]\", \"[MASK]\"]\n",
    "token_trainer = token_trainers.BpeTrainer(special_tokens=special_tokens)\n",
    "\n",
    "tokenizer.train([\"./data/Tarzan.txt\"], trainer=token_trainer)\n",
    "\n",
    "cls_id = tokenizer.token_to_id(\"[CLS]\")\n",
    "sep_id = tokenizer.token_to_id(\"[SEP]\")\n",
    "\n",
    "# Change TemplateProcessing options\n",
    "tokenizer.post_processor = token_processors.TemplateProcessing(\n",
    "    single=\"[CLS]:0 $A:0 [SEP]:1\",  \n",
    "    pair=\"[CLS]:0 $A:0 [SEP]:1 $B:1 [SEP]:2\", \n",
    "    special_tokens=[(\"[CLS]\", cls_id), (\"[SEP]\", sep_id)],\n",
    ")\n",
    "\n",
    "from collections import Counter\n",
    "from typing import List, Dict, Tuple\n",
    "\n",
    "def generate_n_gram_probabilities(text: str, n: int, tk: Tokenizer) -> Dict[Tuple[str], float]:\n",
    "    tokens = tk.encode(text).tokens\n",
    "    result_n_grams = Counter(tuple(tokens[i:i+n]) for i in range(len(tokens) - n + 1))\n",
    "\n",
    "    result = {}\n",
    "    for n_gram, n_gram_count in result_n_grams.items():\n",
    "        if n > 1:\n",
    "            prefix = tuple(n_gram[:-1])\n",
    "            prefix_count = result_n_grams[prefix] if prefix in result_n_grams else 0\n",
    "            result[n_gram] = n_gram_count / prefix_count if prefix_count > 0 else 0\n",
    "        else:\n",
    "            result[n_gram] = n_gram_count\n",
    "\n",
    "    return result\n",
    "\n",
    "def create_n_grams_set(text: str, n: int, tk: Tokenizer) -> list[dict[tuple[str], int]]:\n",
    "    result = [None] * n\n",
    "    for i in range(1, n + 1):\n",
    "        result[i - 1] = calculate_n_gram_probability(text, i, tk)\n",
    "    return result\n",
    "\n",
    "from random import choices\n",
    "\n",
    "def predict_next_word(prev_seq: list[str], n_gram: dict[tuple[str], int]) -> str | None:\n",
    "    matched_seqs: list[tuple[str]] = []\n",
    "    seq_probs: list[int] = []\n",
    "    prev_seq = tuple(prev_seq)\n",
    "\n",
    "    for words_seq, probability in n_gram.items():\n",
    "        if prev_seq == words_seq[:-1]:\n",
    "            matched_seqs += [words_seq]\n",
    "            seq_probs += [probability]\n",
    "    \n",
    "    if not matched_seqs:\n",
    "        return None\n",
    "\n",
    "    return choices(matched_seqs, seq_probs)[0][-1] # Select the last word of the chosen n-gram\n",
    "\n",
    "def generate_text(\n",
    "    init_seq: str,\n",
    "    n_tokens: int,\n",
    "    n: int,\n",
    "    trained_n_grams: list[dict[tuple[str], int]],\n",
    "    tk: Tokenizer) -> list[str]:\n",
    "    result = tk.encode(init_seq).tokens[:-1]  # Tokenize and remove the end-of-sequence special token\n",
    "    current_n = n\n",
    "\n",
    "    for i in range(n_tokens):\n",
    "        next_token = None\n",
    "\n",
    "        while next_token is None and current_n > 0:\n",
    "            next_token = predict_next_word(result[-(current_n - 1):], trained_n_grams[current_n - 1])\n",
    "            current_n -= 1\n",
    "\n",
    "        if next_token is None:\n",
    "            break\n",
    "\n",
    "        result.append(next_token)\n",
    "        current_n = n  \n",
    "\n",
    "    return result\n",
    "\n",
    "\n",
    "trained_n_grams_2 = create_n_grams_set(file_content, 2, tokenizer)\n",
    "\n",
    "init_seq_1 = \"Knowing well the windings of the trail he\"\n",
    "print(generate_text(init_seq_1, 10, 2, trained_n_grams_2, tokenizer))\n",
    "init_seq_2 = \"For half a day he lolled on the huge back and\"\n",
    "print(generate_text(init_seq_2, 10, 2, trained_n_grams_2, tokenizer))\n",
    "\n",
    "trained_n_grams_3 = create_n_grams_set(file_content, 3, tokenizer)\n",
    "\n",
    "print(generate_text(init_seq_1, 10, 3, trained_n_grams_3, tokenizer))\n",
    "print(generate_text(init_seq_2, 10, 3, trained_n_grams_3, tokenizer))\n",
    "\n",
    "trained_n_grams_5 = create_n_grams_set(file_content, 5, tokenizer)\n",
    "\n",
    "print(generate_text(init_seq_1, 10, 5, trained_n_grams_5, tokenizer))\n",
    "print(generate_text(init_seq_2, 10, 5, trained_n_grams_5, tokenizer))"
   ]
  },
  {
   "cell_type": "code",
   "execution_count": 110,
   "metadata": {},
   "outputs": [
    {
     "ename": "ValueError",
     "evalue": "Total of weights must be greater than zero",
     "output_type": "error",
     "traceback": [
      "\u001b[1;31m---------------------------------------------------------------------------\u001b[0m",
      "\u001b[1;31mValueError\u001b[0m                                Traceback (most recent call last)",
      "Cell \u001b[1;32mIn[110], line 113\u001b[0m\n\u001b[0;32m    110\u001b[0m trained_n_grams_2 \u001b[38;5;241m=\u001b[39m create_n_grams_set(file_content, \u001b[38;5;241m2\u001b[39m, tokenizer)\n\u001b[0;32m    112\u001b[0m init_seq_1 \u001b[38;5;241m=\u001b[39m \u001b[38;5;124m\"\u001b[39m\u001b[38;5;124mKnowing well the windings of the trail he\u001b[39m\u001b[38;5;124m\"\u001b[39m\n\u001b[1;32m--> 113\u001b[0m \u001b[38;5;28mprint\u001b[39m(\u001b[43mgenerate_text\u001b[49m\u001b[43m(\u001b[49m\u001b[43minit_seq_1\u001b[49m\u001b[43m,\u001b[49m\u001b[43m \u001b[49m\u001b[38;5;241;43m10\u001b[39;49m\u001b[43m,\u001b[49m\u001b[43m \u001b[49m\u001b[38;5;241;43m2\u001b[39;49m\u001b[43m,\u001b[49m\u001b[43m \u001b[49m\u001b[43mtrained_n_grams_2\u001b[49m\u001b[43m,\u001b[49m\u001b[43m \u001b[49m\u001b[43mtokenizer\u001b[49m\u001b[43m)\u001b[49m)\n\u001b[0;32m    114\u001b[0m init_seq_2 \u001b[38;5;241m=\u001b[39m \u001b[38;5;124m\"\u001b[39m\u001b[38;5;124mFor half a day he lolled on the huge back and\u001b[39m\u001b[38;5;124m\"\u001b[39m\n\u001b[0;32m    115\u001b[0m \u001b[38;5;28mprint\u001b[39m(generate_text(init_seq_2, \u001b[38;5;241m10\u001b[39m, \u001b[38;5;241m2\u001b[39m, trained_n_grams_2, tokenizer))\n",
      "Cell \u001b[1;32mIn[110], line 98\u001b[0m, in \u001b[0;36mgenerate_text\u001b[1;34m(init_seq, n_tokens, n, trained_n_grams, tk)\u001b[0m\n\u001b[0;32m     95\u001b[0m next_token \u001b[38;5;241m=\u001b[39m \u001b[38;5;28;01mNone\u001b[39;00m\n\u001b[0;32m     97\u001b[0m \u001b[38;5;28;01mwhile\u001b[39;00m next_token \u001b[38;5;129;01mis\u001b[39;00m \u001b[38;5;28;01mNone\u001b[39;00m \u001b[38;5;129;01mand\u001b[39;00m current_n \u001b[38;5;241m>\u001b[39m \u001b[38;5;241m0\u001b[39m:\n\u001b[1;32m---> 98\u001b[0m     next_token \u001b[38;5;241m=\u001b[39m \u001b[43mpredict_next_word\u001b[49m\u001b[43m(\u001b[49m\u001b[43mresult\u001b[49m\u001b[43m[\u001b[49m\u001b[38;5;241;43m-\u001b[39;49m\u001b[43m(\u001b[49m\u001b[43mcurrent_n\u001b[49m\u001b[43m \u001b[49m\u001b[38;5;241;43m-\u001b[39;49m\u001b[43m \u001b[49m\u001b[38;5;241;43m1\u001b[39;49m\u001b[43m)\u001b[49m\u001b[43m:\u001b[49m\u001b[43m]\u001b[49m\u001b[43m,\u001b[49m\u001b[43m \u001b[49m\u001b[43mtrained_n_grams\u001b[49m\u001b[43m[\u001b[49m\u001b[43mcurrent_n\u001b[49m\u001b[43m \u001b[49m\u001b[38;5;241;43m-\u001b[39;49m\u001b[43m \u001b[49m\u001b[38;5;241;43m1\u001b[39;49m\u001b[43m]\u001b[49m\u001b[43m)\u001b[49m\n\u001b[0;32m     99\u001b[0m     current_n \u001b[38;5;241m-\u001b[39m\u001b[38;5;241m=\u001b[39m \u001b[38;5;241m1\u001b[39m\n\u001b[0;32m    101\u001b[0m \u001b[38;5;28;01mif\u001b[39;00m next_token \u001b[38;5;129;01mis\u001b[39;00m \u001b[38;5;28;01mNone\u001b[39;00m:\n",
      "Cell \u001b[1;32mIn[110], line 83\u001b[0m, in \u001b[0;36mpredict_next_word\u001b[1;34m(prev_seq, n_gram)\u001b[0m\n\u001b[0;32m     80\u001b[0m \u001b[38;5;28;01mif\u001b[39;00m \u001b[38;5;129;01mnot\u001b[39;00m matched_seqs:\n\u001b[0;32m     81\u001b[0m     \u001b[38;5;28;01mreturn\u001b[39;00m \u001b[38;5;28;01mNone\u001b[39;00m\n\u001b[1;32m---> 83\u001b[0m \u001b[38;5;28;01mreturn\u001b[39;00m \u001b[43mchoices\u001b[49m\u001b[43m(\u001b[49m\u001b[43mmatched_seqs\u001b[49m\u001b[43m,\u001b[49m\u001b[43m \u001b[49m\u001b[43mseq_probs\u001b[49m\u001b[43m)\u001b[49m[\u001b[38;5;241m0\u001b[39m][\u001b[38;5;241m-\u001b[39m\u001b[38;5;241m1\u001b[39m]\n",
      "File \u001b[1;32mC:\\Program Files\\WindowsApps\\PythonSoftwareFoundation.Python.3.11_3.11.2288.0_x64__qbz5n2kfra8p0\\Lib\\random.py:509\u001b[0m, in \u001b[0;36mRandom.choices\u001b[1;34m(self, population, weights, cum_weights, k)\u001b[0m\n\u001b[0;32m    507\u001b[0m total \u001b[38;5;241m=\u001b[39m cum_weights[\u001b[38;5;241m-\u001b[39m\u001b[38;5;241m1\u001b[39m] \u001b[38;5;241m+\u001b[39m \u001b[38;5;241m0.0\u001b[39m   \u001b[38;5;66;03m# convert to float\u001b[39;00m\n\u001b[0;32m    508\u001b[0m \u001b[38;5;28;01mif\u001b[39;00m total \u001b[38;5;241m<\u001b[39m\u001b[38;5;241m=\u001b[39m \u001b[38;5;241m0.0\u001b[39m:\n\u001b[1;32m--> 509\u001b[0m     \u001b[38;5;28;01mraise\u001b[39;00m \u001b[38;5;167;01mValueError\u001b[39;00m(\u001b[38;5;124m'\u001b[39m\u001b[38;5;124mTotal of weights must be greater than zero\u001b[39m\u001b[38;5;124m'\u001b[39m)\n\u001b[0;32m    510\u001b[0m \u001b[38;5;28;01mif\u001b[39;00m \u001b[38;5;129;01mnot\u001b[39;00m _isfinite(total):\n\u001b[0;32m    511\u001b[0m     \u001b[38;5;28;01mraise\u001b[39;00m \u001b[38;5;167;01mValueError\u001b[39;00m(\u001b[38;5;124m'\u001b[39m\u001b[38;5;124mTotal of weights must be finite\u001b[39m\u001b[38;5;124m'\u001b[39m)\n",
      "\u001b[1;31mValueError\u001b[0m: Total of weights must be greater than zero"
     ]
    }
   ],
   "source": []
  }
 ],
 "metadata": {
  "kernelspec": {
   "display_name": "Python 3",
   "language": "python",
   "name": "python3"
  },
  "language_info": {
   "codemirror_mode": {
    "name": "ipython",
    "version": 3
   },
   "file_extension": ".py",
   "mimetype": "text/x-python",
   "name": "python",
   "nbconvert_exporter": "python",
   "pygments_lexer": "ipython3",
   "version": "3.11.8"
  }
 },
 "nbformat": 4,
 "nbformat_minor": 2
}

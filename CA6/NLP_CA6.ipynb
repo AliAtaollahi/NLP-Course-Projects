{
  "cells": [
    {
      "cell_type": "code",
      "execution_count": 1,
      "metadata": {
        "colab": {
          "base_uri": "https://localhost:8080/"
        },
        "execution": {
          "iopub.execute_input": "2024-06-25T10:59:12.654168Z",
          "iopub.status.busy": "2024-06-25T10:59:12.653797Z",
          "iopub.status.idle": "2024-06-25T11:00:25.382619Z",
          "shell.execute_reply": "2024-06-25T11:00:25.381503Z",
          "shell.execute_reply.started": "2024-06-25T10:59:12.654134Z"
        },
        "id": "hgVYWoQIvyjG",
        "outputId": "af402aba-4f9b-4d4b-9c89-356e2cc706f0",
        "trusted": true
      },
      "outputs": [
        {
          "name": "stdout",
          "output_type": "stream",
          "text": [
            "^C\n"
          ]
        },
        {
          "name": "stderr",
          "output_type": "stream",
          "text": [
            "ERROR: Could not find a version that satisfies the requirement faiss-gpu (from versions: none)\n",
            "ERROR: No matching distribution found for faiss-gpu\n",
            "\n",
            "[notice] A new release of pip is available: 23.3.2 -> 24.1.1\n",
            "[notice] To update, run: C:\\Users\\ali18\\AppData\\Local\\Microsoft\\WindowsApps\\PythonSoftwareFoundation.Python.3.11_qbz5n2kfra8p0\\python.exe -m pip install --upgrade pip\n"
          ]
        },
        {
          "name": "stdout",
          "output_type": "stream",
          "text": [
            "Collecting langgraph\n",
            "  Downloading langgraph-0.1.8-py3-none-any.whl.metadata (13 kB)\n",
            "Collecting langchain-core<0.3,>=0.2.15 (from langgraph)\n",
            "  Using cached langchain_core-0.2.17-py3-none-any.whl.metadata (6.0 kB)\n",
            "Requirement already satisfied: PyYAML>=5.3 in c:\\users\\ali18\\appdata\\local\\packages\\pythonsoftwarefoundation.python.3.11_qbz5n2kfra8p0\\localcache\\local-packages\\python311\\site-packages (from langchain-core<0.3,>=0.2.15->langgraph) (6.0.1)\n",
            "Collecting jsonpatch<2.0,>=1.33 (from langchain-core<0.3,>=0.2.15->langgraph)\n",
            "  Downloading jsonpatch-1.33-py2.py3-none-any.whl.metadata (3.0 kB)\n",
            "Collecting langsmith<0.2.0,>=0.1.75 (from langchain-core<0.3,>=0.2.15->langgraph)\n",
            "  Downloading langsmith-0.1.85-py3-none-any.whl.metadata (13 kB)\n",
            "Requirement already satisfied: packaging<25,>=23.2 in c:\\users\\ali18\\appdata\\local\\packages\\pythonsoftwarefoundation.python.3.11_qbz5n2kfra8p0\\localcache\\local-packages\\python311\\site-packages (from langchain-core<0.3,>=0.2.15->langgraph) (23.2)\n",
            "Requirement already satisfied: pydantic<3,>=1 in c:\\users\\ali18\\appdata\\local\\packages\\pythonsoftwarefoundation.python.3.11_qbz5n2kfra8p0\\localcache\\local-packages\\python311\\site-packages (from langchain-core<0.3,>=0.2.15->langgraph) (2.7.1)\n",
            "Requirement already satisfied: tenacity!=8.4.0,<9.0.0,>=8.1.0 in c:\\users\\ali18\\appdata\\local\\packages\\pythonsoftwarefoundation.python.3.11_qbz5n2kfra8p0\\localcache\\local-packages\\python311\\site-packages (from langchain-core<0.3,>=0.2.15->langgraph) (8.2.3)\n",
            "Collecting jsonpointer>=1.9 (from jsonpatch<2.0,>=1.33->langchain-core<0.3,>=0.2.15->langgraph)\n",
            "  Downloading jsonpointer-3.0.0-py2.py3-none-any.whl.metadata (2.3 kB)\n",
            "Requirement already satisfied: orjson<4.0.0,>=3.9.14 in c:\\users\\ali18\\appdata\\local\\packages\\pythonsoftwarefoundation.python.3.11_qbz5n2kfra8p0\\localcache\\local-packages\\python311\\site-packages (from langsmith<0.2.0,>=0.1.75->langchain-core<0.3,>=0.2.15->langgraph) (3.10.6)\n",
            "Requirement already satisfied: requests<3,>=2 in c:\\users\\ali18\\appdata\\local\\packages\\pythonsoftwarefoundation.python.3.11_qbz5n2kfra8p0\\localcache\\local-packages\\python311\\site-packages (from langsmith<0.2.0,>=0.1.75->langchain-core<0.3,>=0.2.15->langgraph) (2.31.0)\n",
            "Requirement already satisfied: annotated-types>=0.4.0 in c:\\users\\ali18\\appdata\\local\\packages\\pythonsoftwarefoundation.python.3.11_qbz5n2kfra8p0\\localcache\\local-packages\\python311\\site-packages (from pydantic<3,>=1->langchain-core<0.3,>=0.2.15->langgraph) (0.6.0)\n",
            "Requirement already satisfied: pydantic-core==2.18.2 in c:\\users\\ali18\\appdata\\local\\packages\\pythonsoftwarefoundation.python.3.11_qbz5n2kfra8p0\\localcache\\local-packages\\python311\\site-packages (from pydantic<3,>=1->langchain-core<0.3,>=0.2.15->langgraph) (2.18.2)\n",
            "Requirement already satisfied: typing-extensions>=4.6.1 in c:\\users\\ali18\\appdata\\local\\packages\\pythonsoftwarefoundation.python.3.11_qbz5n2kfra8p0\\localcache\\local-packages\\python311\\site-packages (from pydantic<3,>=1->langchain-core<0.3,>=0.2.15->langgraph) (4.10.0)\n",
            "Requirement already satisfied: charset-normalizer<4,>=2 in c:\\users\\ali18\\appdata\\local\\packages\\pythonsoftwarefoundation.python.3.11_qbz5n2kfra8p0\\localcache\\local-packages\\python311\\site-packages (from requests<3,>=2->langsmith<0.2.0,>=0.1.75->langchain-core<0.3,>=0.2.15->langgraph) (3.3.1)\n",
            "Requirement already satisfied: idna<4,>=2.5 in c:\\users\\ali18\\appdata\\local\\packages\\pythonsoftwarefoundation.python.3.11_qbz5n2kfra8p0\\localcache\\local-packages\\python311\\site-packages (from requests<3,>=2->langsmith<0.2.0,>=0.1.75->langchain-core<0.3,>=0.2.15->langgraph) (2.10)\n",
            "Requirement already satisfied: urllib3<3,>=1.21.1 in c:\\users\\ali18\\appdata\\local\\packages\\pythonsoftwarefoundation.python.3.11_qbz5n2kfra8p0\\localcache\\local-packages\\python311\\site-packages (from requests<3,>=2->langsmith<0.2.0,>=0.1.75->langchain-core<0.3,>=0.2.15->langgraph) (2.0.7)\n",
            "Requirement already satisfied: certifi>=2017.4.17 in c:\\users\\ali18\\appdata\\local\\packages\\pythonsoftwarefoundation.python.3.11_qbz5n2kfra8p0\\localcache\\local-packages\\python311\\site-packages (from requests<3,>=2->langsmith<0.2.0,>=0.1.75->langchain-core<0.3,>=0.2.15->langgraph) (2023.7.22)\n",
            "Downloading langgraph-0.1.8-py3-none-any.whl (91 kB)\n",
            "   ---------------------------------------- 0.0/91.4 kB ? eta -:--:--\n",
            "   ------------- -------------------------- 30.7/91.4 kB 660.6 kB/s eta 0:00:01\n",
            "   ----------------- ---------------------- 41.0/91.4 kB 393.8 kB/s eta 0:00:01\n",
            "   ---------------------------------------- 91.4/91.4 kB 744.3 kB/s eta 0:00:00\n",
            "Downloading langchain_core-0.2.17-py3-none-any.whl (366 kB)\n",
            "   ---------------------------------------- 0.0/366.1 kB ? eta -:--:--\n",
            "   ---------- ----------------------------- 92.2/366.1 kB 2.6 MB/s eta 0:00:01\n",
            "   ------------- -------------------------- 122.9/366.1 kB 1.8 MB/s eta 0:00:01\n",
            "   ------------------------- -------------- 235.5/366.1 kB 1.8 MB/s eta 0:00:01\n",
            "   ---------------------------------------- 366.1/366.1 kB 2.3 MB/s eta 0:00:00\n",
            "Downloading jsonpatch-1.33-py2.py3-none-any.whl (12 kB)\n",
            "Downloading langsmith-0.1.85-py3-none-any.whl (127 kB)\n",
            "   ---------------------------------------- 0.0/127.9 kB ? eta -:--:--\n",
            "   ---------------------------------------- 127.9/127.9 kB 3.7 MB/s eta 0:00:00\n",
            "Downloading jsonpointer-3.0.0-py2.py3-none-any.whl (7.6 kB)\n",
            "Installing collected packages: jsonpointer, jsonpatch, langsmith, langchain-core, langgraph\n",
            "Successfully installed jsonpatch-1.33 jsonpointer-3.0.0 langchain-core-0.2.17 langgraph-0.1.8 langsmith-0.1.85\n"
          ]
        },
        {
          "name": "stderr",
          "output_type": "stream",
          "text": [
            "\n",
            "[notice] A new release of pip is available: 23.3.2 -> 24.1.1\n",
            "[notice] To update, run: C:\\Users\\ali18\\AppData\\Local\\Microsoft\\WindowsApps\\PythonSoftwareFoundation.Python.3.11_qbz5n2kfra8p0\\python.exe -m pip install --upgrade pip\n"
          ]
        }
      ],
      "source": [
        "!pip install -qU langchain\\\n",
        "    langchain-community\\\n",
        "    langchain-together\\\n",
        "    langchain-core\\\n",
        "    faiss-cpu\\\n",
        "    faiss-gpu\\\n",
        "    langgraph\\\n",
        "    sentence-transformers\\\n",
        "    gradio\\\n",
        "    requests\\\n",
        "    beautifulsoup4\\\n",
        "    unstructured[pdf]\\\n",
        "    langchain-huggingface\\\n",
        "    rank_bm25\\\n",
        "    tavily-python\n",
        "\n",
        "!pip install langgraph"
      ]
    },
    {
      "cell_type": "code",
      "execution_count": null,
      "metadata": {
        "execution": {
          "iopub.execute_input": "2024-06-25T11:00:25.385407Z",
          "iopub.status.busy": "2024-06-25T11:00:25.384990Z",
          "iopub.status.idle": "2024-06-25T11:00:26.350804Z",
          "shell.execute_reply": "2024-06-25T11:00:26.350038Z",
          "shell.execute_reply.started": "2024-06-25T11:00:25.385348Z"
        },
        "id": "DpPD-c_AvyjI",
        "trusted": true
      },
      "outputs": [],
      "source": [
        "import requests\n",
        "import re\n",
        "import os.path\n",
        "from bs4 import BeautifulSoup\n",
        "from urllib.parse import urljoin\n",
        "from textwrap import dedent\n",
        "\n",
        "from langchain_community.document_loaders import OnlinePDFLoader\n",
        "from langchain_text_splitters import RecursiveCharacterTextSplitter\n",
        "from langchain_huggingface.embeddings import HuggingFaceEmbeddings\n",
        "from langchain_community.vectorstores import FAISS\n",
        "from langchain.storage import LocalFileStore\n",
        "from langchain.embeddings import CacheBackedEmbeddings\n",
        "from langchain.retrievers import EnsembleRetriever\n",
        "from langchain_community.retrievers import BM25Retriever\n",
        "from langchain_together import ChatTogether\n",
        "from langchain.prompts import ChatPromptTemplate\n",
        "from langchain_core.pydantic_v1 import BaseModel, Field\n",
        "from langchain_core.messages import HumanMessage, AIMessage\n",
        "from langchain_core.documents import Document\n",
        "from langchain_core.messages.base import BaseMessage\n",
        "from langgraph.graph import StateGraph, END\n",
        "from langchain_core.runnables.graph import MermaidDrawMethod\n",
        "from langchain.output_parsers import PydanticOutputParser\n",
        "from langchain.utilities.tavily_search import TavilySearchAPIWrapper\n",
        "from langchain.tools.tavily_search import TavilySearchResults\n",
        "from langchain_core.runnables import chain\n",
        "from langchain_core.documents.base import Document\n",
        "from langchain_core.output_parsers import StrOutputParser\n",
        "\n",
        "from IPython.display import Image, display\n",
        "from IPython.core.display import Markdown\n",
        "\n",
        "from typing import Literal, TypedDict"
      ]
    },
    {
      "cell_type": "code",
      "execution_count": null,
      "metadata": {
        "id": "l3NA2orYb_ku"
      },
      "outputs": [],
      "source": [
        "os.environ[\"TAVILY_API_KEY\"] = \"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\"\n",
        "os.environ[\"TOGETHER_API_KEY\"] = \"9f24f1264668e13d395b5f214fce62f405544086d879b3fa954b5578de15b72d\""
      ]
    },
    {
      "cell_type": "markdown",
      "metadata": {
        "id": "lbmiyPEUvyjJ"
      },
      "source": [
        "## Part 1 - Receiving and Preparing Data"
      ]
    },
    {
      "cell_type": "code",
      "execution_count": null,
      "metadata": {
        "execution": {
          "iopub.execute_input": "2024-06-25T11:00:26.352934Z",
          "iopub.status.busy": "2024-06-25T11:00:26.352227Z",
          "iopub.status.idle": "2024-06-25T11:00:26.462484Z",
          "shell.execute_reply": "2024-06-25T11:00:26.461574Z",
          "shell.execute_reply.started": "2024-06-25T11:00:26.352900Z"
        },
        "id": "rNXv-RqcvyjJ",
        "trusted": true
      },
      "outputs": [],
      "source": [
        "def scrap_and_get_links(url):\n",
        "    response = requests.get(url)\n",
        "    if response.status_code != 200:\n",
        "        print(\"Failed scrap\")\n",
        "        return None\n",
        "    html_content = response.content\n",
        "    soup = BeautifulSoup(html_content, 'html.parser')\n",
        "    all_hrefs = soup.find_all('a', href=True)\n",
        "    pdf_hrefs = [link['href'] for link in all_hrefs if re.search(r'^\\d+\\.pdf$', link['href'])]\n",
        "    links = [urljoin(url, link) for link in pdf_hrefs]\n",
        "    print(\"Success scrap\")\n",
        "    return links"
      ]
    },
    {
      "cell_type": "code",
      "execution_count": null,
      "metadata": {
        "colab": {
          "base_uri": "https://localhost:8080/"
        },
        "id": "v_OYFF2aFudh",
        "outputId": "fe7769ab-e14b-4e8c-f38b-587011493b13"
      },
      "outputs": [
        {
          "name": "stdout",
          "output_type": "stream",
          "text": [
            "Success scrap\n"
          ]
        }
      ],
      "source": [
        "url = 'https://stanford.edu/~jurafsky/slp3/'\n",
        "links = scrap_and_get_links(url)"
      ]
    },
    {
      "cell_type": "code",
      "execution_count": null,
      "metadata": {
        "execution": {
          "iopub.execute_input": "2024-06-25T11:00:26.485740Z",
          "iopub.status.busy": "2024-06-25T11:00:26.485464Z",
          "iopub.status.idle": "2024-06-25T11:02:35.813821Z",
          "shell.execute_reply": "2024-06-25T11:02:35.813041Z",
          "shell.execute_reply.started": "2024-06-25T11:00:26.485716Z"
        },
        "id": "V-wCLCVgvyjK",
        "trusted": true
      },
      "outputs": [],
      "source": [
        "documents = []\n",
        "for link in links:\n",
        "    online_pdf_loader = OnlinePDFLoader(link)\n",
        "    documents.extend(online_pdf_loader.load())"
      ]
    },
    {
      "cell_type": "code",
      "execution_count": null,
      "metadata": {},
      "outputs": [],
      "source": [
        "documents"
      ]
    },
    {
      "cell_type": "code",
      "execution_count": 7,
      "metadata": {
        "execution": {
          "iopub.execute_input": "2024-06-25T11:02:35.815278Z",
          "iopub.status.busy": "2024-06-25T11:02:35.814856Z",
          "iopub.status.idle": "2024-06-25T11:02:36.071857Z",
          "shell.execute_reply": "2024-06-25T11:02:36.070933Z",
          "shell.execute_reply.started": "2024-06-25T11:02:35.815252Z"
        },
        "id": "WgtYEh0ovyjL",
        "trusted": true
      },
      "outputs": [],
      "source": [
        "recursive_character_text_splitter = RecursiveCharacterTextSplitter(\n",
        "    chunk_size=1024,\n",
        "    chunk_overlap=64,\n",
        "    length_function=len\n",
        ")\n",
        "\n",
        "chunks = recursive_character_text_splitter.split_documents(documents)"
      ]
    },
    {
      "cell_type": "markdown",
      "metadata": {
        "id": "TyZDmHBvvyjM"
      },
      "source": [
        "## Part 2 - Vector Embedding and Database Generation\n"
      ]
    },
    {
      "cell_type": "code",
      "execution_count": 8,
      "metadata": {
        "colab": {
          "base_uri": "https://localhost:8080/"
        },
        "execution": {
          "iopub.execute_input": "2024-06-25T11:03:23.821609Z",
          "iopub.status.busy": "2024-06-25T11:03:23.821024Z",
          "iopub.status.idle": "2024-06-25T11:03:25.113796Z",
          "shell.execute_reply": "2024-06-25T11:03:25.112926Z",
          "shell.execute_reply.started": "2024-06-25T11:03:23.821577Z"
        },
        "id": "KAmQ3xcIvyjM",
        "outputId": "6b39d9c2-b8cf-4256-cd85-dca3ea99492a",
        "trusted": true
      },
      "outputs": [
        {
          "name": "stderr",
          "output_type": "stream",
          "text": [
            "/usr/local/lib/python3.10/dist-packages/huggingface_hub/utils/_token.py:89: UserWarning: \n",
            "The secret `HF_TOKEN` does not exist in your Colab secrets.\n",
            "To authenticate with the Hugging Face Hub, create a token in your settings tab (https://huggingface.co/settings/tokens), set it as secret in your Google Colab and restart your session.\n",
            "You will be able to reuse this secret in all of your notebooks.\n",
            "Please note that authentication is recommended but still optional to access public models or datasets.\n",
            "  warnings.warn(\n",
            "/usr/local/lib/python3.10/dist-packages/huggingface_hub/file_download.py:1132: FutureWarning: `resume_download` is deprecated and will be removed in version 1.0.0. Downloads always resume when possible. If you want to force a new download, use `force_download=True`.\n",
            "  warnings.warn(\n"
          ]
        }
      ],
      "source": [
        "store = LocalFileStore('./cache/')\n",
        "general_embedding = HuggingFaceEmbeddings()\n",
        "embeddings = CacheBackedEmbeddings.from_bytes_store(\n",
        "    general_embedding,\n",
        "    store\n",
        ")"
      ]
    },
    {
      "cell_type": "code",
      "execution_count": 9,
      "metadata": {
        "id": "KZDwWuoZLCXg"
      },
      "outputs": [],
      "source": [
        "def load_faiss_vector_store(embeddings_db_name):\n",
        "    if not os.path.isfile(embeddings_db_name):\n",
        "        faiss_vector_store = FAISS.from_documents(chunks, embeddings)\n",
        "        faiss_vector_store.save_local(embeddings_db_name)\n",
        "    else:\n",
        "        faiss_vector_store = FAISS.load_local(embeddings_db_name)\n",
        "\n",
        "    return faiss_vector_store"
      ]
    },
    {
      "cell_type": "code",
      "execution_count": 10,
      "metadata": {
        "colab": {
          "base_uri": "https://localhost:8080/"
        },
        "execution": {
          "iopub.execute_input": "2024-06-25T11:03:35.691405Z",
          "iopub.status.busy": "2024-06-25T11:03:35.690532Z",
          "iopub.status.idle": "2024-06-25T11:04:02.027973Z",
          "shell.execute_reply": "2024-06-25T11:04:02.027084Z",
          "shell.execute_reply.started": "2024-06-25T11:03:35.691348Z"
        },
        "id": "L8ZY043PvyjN",
        "outputId": "f39229a6-a513-4ba7-9ab5-5557574f0c8e",
        "trusted": true
      },
      "outputs": [
        {
          "name": "stdout",
          "output_type": "stream",
          "text": [
            "2122\n"
          ]
        }
      ],
      "source": [
        "faiss_vector_store = load_faiss_vector_store(\n",
        "    embeddings_db_name=\"faiss_index\"\n",
        ")\n",
        "\n",
        "print(faiss_vector_store.index.ntotal)"
      ]
    },
    {
      "cell_type": "markdown",
      "metadata": {
        "id": "0qsBhswgvyjN"
      },
      "source": [
        "## Part 3 - Implementing Semantic and Lexical Retrievers"
      ]
    },
    {
      "cell_type": "code",
      "execution_count": 11,
      "metadata": {
        "execution": {
          "iopub.execute_input": "2024-06-25T11:09:08.802317Z",
          "iopub.status.busy": "2024-06-25T11:09:08.801794Z",
          "iopub.status.idle": "2024-06-25T11:09:09.063316Z",
          "shell.execute_reply": "2024-06-25T11:09:09.062523Z",
          "shell.execute_reply.started": "2024-06-25T11:09:08.802285Z"
        },
        "id": "Ji0OhGvCvyjN",
        "trusted": true
      },
      "outputs": [],
      "source": [
        "bm25_term_saturation = 4\n",
        "bm25_retriever = BM25Retriever.from_texts(\n",
        "    [chunk.page_content for chunk in chunks]\n",
        ")\n",
        "\n",
        "bm25_retriever.k = bm25_term_saturation"
      ]
    },
    {
      "cell_type": "code",
      "execution_count": 12,
      "metadata": {
        "execution": {
          "iopub.execute_input": "2024-06-25T11:09:14.696517Z",
          "iopub.status.busy": "2024-06-25T11:09:14.695896Z",
          "iopub.status.idle": "2024-06-25T11:09:14.700762Z",
          "shell.execute_reply": "2024-06-25T11:09:14.699767Z",
          "shell.execute_reply.started": "2024-06-25T11:09:14.696484Z"
        },
        "id": "OoM6pZUXvyjO",
        "trusted": true
      },
      "outputs": [],
      "source": [
        "faiss_term_saturation = 4\n",
        "faiss_retriever = faiss_vector_store.as_retriever(\n",
        "    search_kwargs={'k': faiss_term_saturation}\n",
        ")"
      ]
    },
    {
      "cell_type": "code",
      "execution_count": 13,
      "metadata": {
        "execution": {
          "iopub.execute_input": "2024-06-25T11:09:52.774189Z",
          "iopub.status.busy": "2024-06-25T11:09:52.773314Z",
          "iopub.status.idle": "2024-06-25T11:09:52.798243Z",
          "shell.execute_reply": "2024-06-25T11:09:52.797329Z",
          "shell.execute_reply.started": "2024-06-25T11:09:52.774154Z"
        },
        "id": "RvtR8dKCvyjO",
        "trusted": true
      },
      "outputs": [],
      "source": [
        "related_query = \"Named Entity Recognizers\"\n",
        "unrelated_query = \"Cloud Computing\"\n",
        "super_unrelated_query = \"Champion of Asian cup\""
      ]
    },
    {
      "cell_type": "code",
      "execution_count": 14,
      "metadata": {
        "colab": {
          "base_uri": "https://localhost:8080/"
        },
        "id": "mdW7TsmyOEsF",
        "outputId": "d0cebfb1-1e92-4042-8388-cadb2bebc62d"
      },
      "outputs": [
        {
          "name": "stdout",
          "output_type": "stream",
          "text": [
            "[Document(metadata={'source': '/tmp/tmpz3h9atcu/tmp.pdf'}, page_content='named entity\\n\\nnamed entity recognition NER\\n\\nA named entity is, roughly speaking, anything that can be referred to with a proper name: a person, a location, an organization. The task of named entity recog- nition (NER) is to ﬁnd spans of text that constitute proper names and tag the type of the entity. Four entity tags are most common: PER (person), LOC (location), ORG (organization), or GPE (geo-political entity). However, the term named entity is commonly extended to include things that aren’t entities per se, including dates, times, and other kinds of temporal expressions, and even numerical expressions like prices. Here’s an example of the output of an NER tagger:'), Document(metadata={'source': '/tmp/tmpz3h9atcu/tmp.pdf'}, page_content='8.6 Evaluation of Named Entity Recognition\\n\\nPart-of-speech taggers are evaluated by the standard metric of accuracy. Named entity recognizers are evaluated by recall, precision, and F1 measure. Recall that recall is the ratio of the number of correctly labeled responses to the total that should have been labeled; precision is the ratio of the number of correctly labeled responses to the total labeled; and F-measure is the harmonic mean of the two.\\n\\nTo know if the difference between the F1 scores of two NER systems is a signif- icant difference, we use the paired bootstrap test, or the similar randomization test (Section ??).\\n\\nFor named entity tagging, the entity rather than the word is the unit of response. Thus in the example in Fig. 8.16, the two entities Jane Villanueva and United Air- lines Holding and the non-entity discussed would each count as a single response.'), Document(metadata={'source': '/tmp/tmpz3h9atcu/tmp.pdf'}, page_content='8.5.2 Features for CRF Named Entity Recognizers\\n\\nA CRF for NER makes use of very similar features to a POS tagger, as shown in Figure 8.15.\\n\\nidentity of wi, identity of neighboring words embeddings for wi, embeddings for neighboring words part of speech of wi, part of speech of neighboring words presence of wi in a gazetteer wi contains a particular preﬁx (from all preﬁxes of length ≤ 4) wi contains a particular sufﬁx (from all sufﬁxes of length ≤ 4) word shape of wi, word shape of neighboring words short word shape of wi, short word shape of neighboring words gazetteer features Figure 8.15 Typical features for a feature-based NER system.'), Document(metadata={'source': '/tmp/tmpdc4enbfj/tmp.pdf'}, page_content='[CLS]Janetwillbackthebill\\n\\nEmbeddingLayer\\n\\nNNPMDVBDTNN\\n\\nBidirectional Transformer Encoder\\n\\nFigure 11.11 Sequence labeling for part-of-speech tagging with a bidirectional transformer encoder. The output vector for each input token is passed to a simple k-way classiﬁer.\\n\\nA complication with this approach arises from the use of subword tokenization such as WordPiece, SentencePiece Unigram LM or Byte Pair Encoding. Supervised training data for tasks like named entity recognition (NER) is typically in the form of BIO tags associated with text segmented at the word level. For example the following sentence containing two named entities:\\n\\n(11.14)\\n\\n(11.15)\\n\\n11.5\\n\\nADVANCED: SPAN-BASED MASKING 17\\n\\n[LOC Mt. Sanitas ] is in [LOC Sunshine Canyon] .\\n\\nwould have the following set of per-word BIO tags.\\n\\n(11.16) Mt.\\n\\nB-LOC\\n\\nSanitas I-LOC\\n\\nis O\\n\\nin O\\n\\nSunshine B-LOC\\n\\nCanyon I-LOC\\n\\n. O')]\n",
            "[Document(metadata={'source': '/tmp/tmp8h47rjv0/tmp.pdf'}, page_content='18 CHAPTER 15\\n\\nCHATBOTS & DIALOGUE SYSTEMS\\n\\nthink is a program but is in fact a human “wizard” disguised by a software interface (Gould et al. 1983, Good et al. 1984, Fraser and Gilbert 1991). The name comes from the chil- dren’s book The Wizard of Oz (Baum, 1900), in which the wizard turned out to be a simu- lation controlled by a man behind a curtain or screen. A wizard system can be used to test out an architecture before implementation; only the interface software and databases need to be in place. The wizard gets input from the user, uses a database interface to run queries based on the user utterance, and then outputs sentences, ei- ther by typing them or speaking them.\\n\\nWizard-of-Oz systems are not a perfect simulation, since the wizard doesn’t exactly simulate the errors or limitations of a real sys- tem; but wizard studies can still provide a useful ﬁrst idea of the domain issues.\\n\\nbarged in\\n\\nvalue sensitive design'), Document(metadata={'source': '/tmp/tmpcmslhaof/tmp.pdf'}, page_content='Basing our answers on retrieved documents can solve the above-mentioned prob- lems with using simple prompting to answer questions. First, we can ensure that the answer is grounded in facts from some curated dataset. And we can give the answer accompanied by the context of the passage or document the answer came from. This information can help users have conﬁdence in the accuracy of the answer (or help them spot when it is wrong!). And we can use our retrieval techniques on any pro- prietary data we want, such as legal or medical data for those applications.'), Document(metadata={'source': '/tmp/tmpcmslhaof/tmp.pdf'}, page_content='20 CHAPTER 14\\n\\nQUESTION ANSWERING AND INFORMATION RETRIEVAL\\n\\nThe match between a query and a document can be done by ﬁrst representing each of them with a sparse vector that represents the frequencies of words, weighted by tf-idf or BM25. Then the similarity can be measured by cosine. • Documents or queries can instead be represented by dense vectors, by encod- ing the question and document with an encoder-only model like BERT, and in that case computing similarity in embedding space.\\n\\nThe inverted index is an storage mechanism that makes it very efﬁcient to ﬁnd documents that have a particular word.\\n\\nRanked retrieval is generally evaluated by mean average precision or inter- polated precision.\\n\\nQuestion answering systems generally use the retriever/reader architecture. In the retriever stage, an IR system is given a query and returns a set of documents.'), Document(metadata={'source': '/tmp/tmpcmslhaof/tmp.pdf'}, page_content='Speech and Language Processing. Daniel Jurafsky & James H. Martin. rights reserved.\\n\\nDraft of February 3, 2024.\\n\\nCopyright © 2023.\\n\\nCHAPTER\\n\\n14 Question Answering and In-\\n\\nformation Retrieval\\n\\nThe quest for knowledge is deeply human, and so it is not surprising that practically as soon as there were computers we were asking them questions. By the early 1960s, systems used the two major paradigms of question answering—retrieval-based and knowledge-based—to answer questions about baseball statistics or scientiﬁc facts. Even imaginary computers got into the act. Deep Thought, the computer that Dou- glas Adams invented in The Hitchhiker’s Guide to the Galaxy, managed to answer “the Ultimate Question Of Life, The Universe, and Everything”.1 In 2011, IBM’s Watson question-answering system won the TV game-show Jeopardy!, surpassing humans at answering questions like:\\n\\nWILLIAM WILKINSON’S “AN ACCOUNT OF THE PRINCIPALITIES OF WALLACHIA AND MOLDOVIA”INSPIRED THIS AUTHOR’S MOST FAMOUS NOVEL\\n\\n2')]\n",
            "[Document(metadata={'source': '/tmp/tmp16hw7jef/tmp.pdf'}, page_content='Sometime between the 7th and 4th centuries BCE, the Indian grammarian P¯an. ini1 wrote a famous treatise on Sanskrit grammar, the As.t.¯adhy¯ay¯ı (‘8 books’), a treatise that has been called “one of the greatest monuments of hu- man intelligence” (Bloomﬁeld, 1933, 11). The work de- scribes the linguistics of the Sanskrit language in the form of 3959 sutras, each very efﬁciently (since it had to be memorized!) expressing part of a formal rule system that brilliantly preﬁgured modern mechanisms of formal lan- guage theory (Penn and Kiparsky, 2012). One set of rules describes the k¯arakas, semantic relationships between a verb and noun arguments, roles like agent, instrument, or destination. P¯an. ini’s work was the earliest we know of that modeled the linguistic realization of events and their participants. This task of understanding how participants relate to events—being able to answer the question “Who did what to whom” (and perhaps also “when and where”)—is a central question of natural language'), Document(metadata={'source': '/tmp/tmpkxwhtz_7/tmp.pdf'}, page_content='(13.1) English: He wrote a letter to a friend\\n\\nJapanese:\\n\\ntomodachi friend\\n\\nni to\\n\\ntegami-o letter\\n\\nkaita wrote\\n\\nNote that the elements of the sentences are in very different places in the different languages. In English, the verb is in the middle of the sentence, while in Japanese, the verb kaita comes at the end. The Japanese sentence doesn’t require the pronoun he, while English does.\\n\\nSuch differences between languages can be quite complex. In the following ac- tual sentence from the United Nations, notice the many changes between the Chinese sentence (we’ve given in red a word-by-word gloss of the Chinese characters) and its English equivalent produced by human translators. (13.2) 大会/General Assembly 在/on 1982年/1982 12月/December 10日/10 通过 了/adopted 第37号/37th 决议/resolution ，核准了/approved 第二 次/second 探索/exploration 及/and 和平peaceful colorblue利用/using 外 } 层空间/outer space 会议/conference 的/of 各项/various 建议/suggestions 。'), Document(metadata={'source': '/tmp/tmp16hw7jef/tmp.pdf'}, page_content='In this chapter we introduce a level of representation that captures the common- ality between these sentences: there was a purchase event, the participants were XYZ Corp and some stock, and XYZ Corp was the buyer. These shallow semantic representations , semantic roles, express the role that arguments of a predicate take in the event, codiﬁed in databases like PropBank and FrameNet. We’ll introduce semantic role labeling, the task of assigning roles to spans in sentences, and selec- tional restrictions, the preferences that predicates express about their arguments, such as the fact that the theme of eat is generally something edible.\\n\\n1 Figure shows a birch bark manuscript from Kashmir of the Rupavatra, a grammatical textbook based on the Sanskrit grammar of Panini. Image from the Wellcome Collection.\\n\\n2 CHAPTER 20\\n\\nSEMANTIC ROLE LABELING\\n\\n20.1 Semantic Roles'), Document(metadata={'source': '/tmp/tmpnpvt6que/tmp.pdf'}, page_content='parsing. ACL.\\n\\nNaur, P., J. W. Backus, F. L. Bauer, J. Green, C. Katz, J. McCarthy, A. J. Perlis, H. Rutishauser, K. Samelson, B. Vauquois, J. H. Wegstein, A. van Wijnagaarden, and M. Woodger. 1960. Report on the algorithmic language ALGOL 60. CACM, 3(5):299–314. Revised in CACM 6:1, 1-17, 1963.\\n\\nNorvig, P. 1991. Techniques for automatic memoization with applications to context-free parsing. Computational Lin- guistics, 17(1):91–98.\\n\\nPercival, W. K. 1976. On the historical source of immediate constituent analysis. In J. D. McCawley, editor, Syntax and Semantics Volume 7, Notes from the Linguistic Un- derground, pages 229–242. Academic Press.\\n\\nPollard, C. and I. A. Sag. 1994. Head-Driven Phrase Struc-\\n\\nture Grammar. University of Chicago Press.\\n\\nSalomaa, A. 1969. Probabilistic and weighted grammars.\\n\\nInformation and Control, 15:529–544.\\n\\nSekine, S. and M. Collins. 1997. The evalb software. http:\\n\\n//cs.nyu.edu/cs/projects/proteus/evalb.\\n\\n25\\n\\n26 Chapter 17\\n\\nContext-Free Grammars and Constituency Parsing')]\n"
          ]
        }
      ],
      "source": [
        "print(faiss_retriever.invoke(related_query))\n",
        "print(faiss_retriever.invoke(unrelated_query))\n",
        "print(faiss_retriever.invoke(super_unrelated_query))"
      ]
    },
    {
      "cell_type": "code",
      "execution_count": 15,
      "metadata": {
        "colab": {
          "base_uri": "https://localhost:8080/"
        },
        "execution": {
          "iopub.execute_input": "2024-06-25T11:10:03.255175Z",
          "iopub.status.busy": "2024-06-25T11:10:03.254440Z",
          "iopub.status.idle": "2024-06-25T11:10:03.267224Z",
          "shell.execute_reply": "2024-06-25T11:10:03.266360Z",
          "shell.execute_reply.started": "2024-06-25T11:10:03.255143Z"
        },
        "id": "_kY02eA0vyjP",
        "outputId": "5ba6b5f4-a8b1-4a60-f23f-aba50a53edea",
        "trusted": true
      },
      "outputs": [
        {
          "name": "stdout",
          "output_type": "stream",
          "text": [
            "[Document(page_content='8.5.2 Features for CRF Named Entity Recognizers\\n\\nA CRF for NER makes use of very similar features to a POS tagger, as shown in Figure 8.15.\\n\\nidentity of wi, identity of neighboring words embeddings for wi, embeddings for neighboring words part of speech of wi, part of speech of neighboring words presence of wi in a gazetteer wi contains a particular preﬁx (from all preﬁxes of length ≤ 4) wi contains a particular sufﬁx (from all sufﬁxes of length ≤ 4) word shape of wi, word shape of neighboring words short word shape of wi, short word shape of neighboring words gazetteer features Figure 8.15 Typical features for a feature-based NER system.'), Document(page_content='The known-word templates are computed for every word seen in the training set; the unknown word features can also be computed for all words in training, or only on training words whose frequency is below some threshold. The result of the known-word templates and word-signature features is a very large set of features. Generally a feature cutoff is used in which features are thrown out if they have count < 5 in the training set.\\n\\nRemember that in a CRF we don’t learn weights for each of these local features fk. Instead, we ﬁrst sum the values of each local feature (for example feature f3743) over the entire sentence, to create each global feature (for example F3743). It is those global features that will then be multiplied by weight w3743. Thus for training and inference there is always a ﬁxed set of K features with K weights, even though the length of each sentence is different.\\n\\n8.5.2 Features for CRF Named Entity Recognizers'), Document(page_content='8.3 Named Entities and Named Entity Tagging\\n\\nPart of speech tagging can tell us that words like Janet, Stanford University, and Colorado are all proper nouns; being a proper noun is a grammatical property of these words. But viewed from a semantic perspective, these proper nouns refer to different kinds of entities: Janet is a person, Stanford University is an organization, and Colorado is a location.\\n\\nnamed entity\\n\\nnamed entity recognition NER'), Document(page_content='Nonetheless, many words are easy to disambiguate, because their different tags aren’t equally likely. For example, a can be a determiner or the letter a, but the determiner sense is much more likely.\\n\\nThis idea suggests a useful baseline: given an ambiguous word, choose the tag\\n\\nwhich is most frequent in the training corpus. This is a key concept:\\n\\nMost Frequent Class Baseline: Always compare a classiﬁer against a baseline at least as good as the most frequent class baseline (assigning each token to the class it occurred in most often in the training set).\\n\\n6 CHAPTER 8\\n\\nSEQUENCE LABELING FOR PARTS OF SPEECH AND NAMED ENTITIES\\n\\nThe most-frequent-tag baseline has an accuracy of about 92%1. The baseline\\n\\nthus differs from the state-of-the-art and human ceiling (97%) by only 5%.\\n\\n8.3 Named Entities and Named Entity Tagging')]\n",
            "[Document(page_content='(cid:80)K\\n\\n(where c is the correct class)\\n\\n(7.26)\\n\\n7.5.2 Computing the Gradient\\n\\nHow do we compute the gradient of this loss function? Computing the gradient requires the partial derivative of the loss function with respect to each parameter. For a network with one weight layer and sigmoid output (which is what logistic regression is), we could simply use the derivative of the loss that we used for logistic regression in Eq. 7.27 (and derived in Section ??):\\n\\n∂ LCE (ˆy, y) ∂ w j\\n\\n= ( ˆy − y) x j\\n\\n= (σ (w · x + b) − y) x j\\n\\n(7.27)\\n\\nOr for a network with one weight layer and softmax output (=multinomial logistic regression), we could use the derivative of the softmax loss from Eq. ??, shown for\\n\\n16 CHAPTER 7\\n\\nerror back- propagation\\n\\nchain rule\\n\\nNEURAL NETWORKS AND NEURAL LANGUAGE MODELS\\n\\na particular weight wk and input xi\\n\\n∂ LCE(ˆy, y) ∂ wk,i\\n\\n= −(yk − ˆyk)xi\\n\\n= −(yk − p(yk = 1|x))xi\\n\\n= −\\n\\n(cid:32)\\n\\nyk −\\n\\nexp (wk · x + bk) j=1 exp (wj · x + b j)\\n\\n(cid:80)K\\n\\n(cid:33)\\n\\nxi'), Document(page_content='h1 head\\n\\nFFN\\n\\nENCODER\\n\\nhead\\n\\nW\\n\\nscore(h1head, h3dep)\\n\\nFigure 18.14 Computing scores for a single edge (book→ ﬂight) in the biafﬁne parser of Dozat and Manning (2017); Dozat et al. (2017). The parser uses distinct feedforward net- works to turn the encoder output for each word into a head and dependent representation for the word. The biafﬁne function turns the head embedding of the head and the dependent embedding of the dependent into a score for the dependency edge.'), Document(page_content='exp(s(i, yi)) y(cid:48)∈Y (i) exp(s(i, y(cid:48)))\\n\\n(22.48)\\n\\nThis score s(i, j) includes three factors that we’ll deﬁne below: m(i); whether span i is a mention; m( j); whether span j is a mention; and c(i, j); whether j is the antecedent of i:\\n\\ns(i, j) = m(i) + m( j) + c(i, j)\\n\\n(22.49)\\n\\nFor the dummy antecedent (cid:15), the score s(i, (cid:15)) is ﬁxed to 0. This way if any non- dummy scores are positive, the model predicts the highest-scoring antecedent, but if all the scores are negative it abstains.\\n\\n22.6.1 Computing span representations'), Document(page_content='Fig. 23.8 from Barzilay and Lapata (2008) shows a grid for the text shown in Fig. 23.9. There is one row for each of the six sentences. The second column, for the entity ‘trial’, is O – – – X, showing that the trial appears in the ﬁrst sentence as direct object, in the last sentence as an oblique, and does not appear in the middle sentences. The third column, for the entity Microsoft, shows that it appears as sub- ject in sentence 1 (it also appears as the object of the preposition against, but entities that appear multiple times are recorded with their highest-ranked grammatical func- tion). Computing the entity grids requires extracting entities and doing coreference\\n\\nBarzilayandLapataModelingLocalCoherence')]\n",
            "[Document(page_content='9.8\\n\\nimpression 5.95 3.65 0.98\\n\\nagreement 0.3\\n\\nWord Relatedness The meaning of two words can be related in ways other than similarity. One such class of connections is called word relatedness (Budanitsky and Hirst, 2006), also traditionally called word association in psychology.\\n\\nConsider the meanings of the words coffee and cup. Coffee is not similar to cup; they share practically no features (coffee is a plant or a beverage, while a cup is a manufactured object with a particular shape). But coffee and cup are clearly related; they are associated by co-participating in an everyday event (the event of drinking coffee out of a cup). Similarly scalpel and surgeon are not similar but are related eventively (a surgeon tends to make use of a scalpel).\\n\\nOne common kind of relatedness between words is if they belong to the same semantic ﬁeld. A semantic ﬁeld is a set of words which cover a particular semantic domain and bear structured relations with each other. For example, words might be\\n\\n4 CHAPTER 6'), Document(page_content='8.5.2 Features for CRF Named Entity Recognizers\\n\\nA CRF for NER makes use of very similar features to a POS tagger, as shown in Figure 8.15.\\n\\nidentity of wi, identity of neighboring words embeddings for wi, embeddings for neighboring words part of speech of wi, part of speech of neighboring words presence of wi in a gazetteer wi contains a particular preﬁx (from all preﬁxes of length ≤ 4) wi contains a particular sufﬁx (from all sufﬁxes of length ≤ 4) word shape of wi, word shape of neighboring words short word shape of wi, short word shape of neighboring words gazetteer features Figure 8.15 Typical features for a feature-based NER system.'), Document(page_content='parts of speech\\n\\nDionysius Thrax of Alexandria (c. 100 B.C.), or perhaps someone else (it was a long time ago), wrote a grammatical sketch of Greek (a “techn¯e”) that summarized the linguistic knowledge of his day. This work is the source of an astonishing proportion of modern linguistic vocabulary, including the words syntax, diphthong, clitic, and analogy. Also included are a description of eight parts of speech: noun, verb, pronoun, preposition, adverb, conjunction, participle, and article. Although earlier scholars (including Aristotle as well as the Stoics) had their own lists of parts of speech, it was Thrax’s set of eight that became the basis for descriptions of European languages for the next 2000 years. (All the way to the Schoolhouse Rock educational television shows of our childhood, which had songs about 8 parts of speech, like the late great Bob Dorough’s Conjunction Junction.) The durability of parts of speech through two millennia speaks to their centrality in models of human language.'), Document(page_content='First or last word (or embedding) of antecedent/anaphor Head word (or head embedding) of antecedent/anaphor The number, gender, animacy, person, named entity type attributes of (antecedent/anaphor) length in words of (antecedent/anaphor) Type: (P)roper, (D)eﬁnite, (I)ndeﬁnite, (Pr)onoun) of an- tecedent/anaphor Features of the Antecedent Entity\\n\\nEntity shape\\n\\nP-Pr-D\\n\\nThe ‘shape’ or list of types of the mentions in the antecedent entity (cluster), i.e., sequences of (P)roper, (D)eﬁnite, (I)ndeﬁnite, (Pr)onoun.\\n\\nEntity attributes\\n\\nSg-F-A-3-PER The number, gender, animacy, person, named entity type\\n\\nAnt. cluster size\\n\\n3\\n\\nattributes of the antecedent entity Number of mentions in the antecedent cluster\\n\\nFeatures of the Pair of Mentions\\n\\nSentence distance Mention distance i-within-i Cosine\\n\\n1 4 F\\n\\nThe number of sentences between antecedent and anaphor The number of mentions between antecedent and anaphor Anaphor has i-within-i relation with antecedent Cosine between antecedent and anaphor embeddings')]\n"
          ]
        }
      ],
      "source": [
        "print(bm25_retriever.invoke(related_query))\n",
        "print(bm25_retriever.invoke(unrelated_query))\n",
        "print(bm25_retriever.invoke(super_unrelated_query))"
      ]
    },
    {
      "cell_type": "code",
      "execution_count": 16,
      "metadata": {
        "id": "ORfRrSKFQN9H"
      },
      "outputs": [],
      "source": [
        "def build_ensemble_retriever(wights):\n",
        "    return EnsembleRetriever(\n",
        "        retrievers=[bm25_retriever, faiss_retriever], wights=wights\n",
        "    )\n",
        "\n",
        "def test_ensemble_retriever(wights):\n",
        "    ensemble_retriever = build_ensemble_retriever(wights)\n",
        "    print(f\"for {wights}:\")\n",
        "    print(ensemble_retriever.invoke(related_query))\n",
        "    print(ensemble_retriever.invoke(unrelated_query))\n",
        "    print(ensemble_retriever.invoke(super_unrelated_query))\n",
        "    print(\"\\n\")"
      ]
    },
    {
      "cell_type": "code",
      "execution_count": 17,
      "metadata": {
        "colab": {
          "base_uri": "https://localhost:8080/"
        },
        "id": "AD3F1wYvQk6R",
        "outputId": "1ebffd94-6268-4469-bdab-77b14cac4a8b"
      },
      "outputs": [
        {
          "name": "stdout",
          "output_type": "stream",
          "text": [
            "for [0.5, 0.5]:\n",
            "[Document(page_content='8.5.2 Features for CRF Named Entity Recognizers\\n\\nA CRF for NER makes use of very similar features to a POS tagger, as shown in Figure 8.15.\\n\\nidentity of wi, identity of neighboring words embeddings for wi, embeddings for neighboring words part of speech of wi, part of speech of neighboring words presence of wi in a gazetteer wi contains a particular preﬁx (from all preﬁxes of length ≤ 4) wi contains a particular sufﬁx (from all sufﬁxes of length ≤ 4) word shape of wi, word shape of neighboring words short word shape of wi, short word shape of neighboring words gazetteer features Figure 8.15 Typical features for a feature-based NER system.'), Document(metadata={'source': '/tmp/tmpz3h9atcu/tmp.pdf'}, page_content='named entity\\n\\nnamed entity recognition NER\\n\\nA named entity is, roughly speaking, anything that can be referred to with a proper name: a person, a location, an organization. The task of named entity recog- nition (NER) is to ﬁnd spans of text that constitute proper names and tag the type of the entity. Four entity tags are most common: PER (person), LOC (location), ORG (organization), or GPE (geo-political entity). However, the term named entity is commonly extended to include things that aren’t entities per se, including dates, times, and other kinds of temporal expressions, and even numerical expressions like prices. Here’s an example of the output of an NER tagger:'), Document(page_content='The known-word templates are computed for every word seen in the training set; the unknown word features can also be computed for all words in training, or only on training words whose frequency is below some threshold. The result of the known-word templates and word-signature features is a very large set of features. Generally a feature cutoff is used in which features are thrown out if they have count < 5 in the training set.\\n\\nRemember that in a CRF we don’t learn weights for each of these local features fk. Instead, we ﬁrst sum the values of each local feature (for example feature f3743) over the entire sentence, to create each global feature (for example F3743). It is those global features that will then be multiplied by weight w3743. Thus for training and inference there is always a ﬁxed set of K features with K weights, even though the length of each sentence is different.\\n\\n8.5.2 Features for CRF Named Entity Recognizers'), Document(metadata={'source': '/tmp/tmpz3h9atcu/tmp.pdf'}, page_content='8.6 Evaluation of Named Entity Recognition\\n\\nPart-of-speech taggers are evaluated by the standard metric of accuracy. Named entity recognizers are evaluated by recall, precision, and F1 measure. Recall that recall is the ratio of the number of correctly labeled responses to the total that should have been labeled; precision is the ratio of the number of correctly labeled responses to the total labeled; and F-measure is the harmonic mean of the two.\\n\\nTo know if the difference between the F1 scores of two NER systems is a signif- icant difference, we use the paired bootstrap test, or the similar randomization test (Section ??).\\n\\nFor named entity tagging, the entity rather than the word is the unit of response. Thus in the example in Fig. 8.16, the two entities Jane Villanueva and United Air- lines Holding and the non-entity discussed would each count as a single response.'), Document(page_content='8.3 Named Entities and Named Entity Tagging\\n\\nPart of speech tagging can tell us that words like Janet, Stanford University, and Colorado are all proper nouns; being a proper noun is a grammatical property of these words. But viewed from a semantic perspective, these proper nouns refer to different kinds of entities: Janet is a person, Stanford University is an organization, and Colorado is a location.\\n\\nnamed entity\\n\\nnamed entity recognition NER'), Document(page_content='Nonetheless, many words are easy to disambiguate, because their different tags aren’t equally likely. For example, a can be a determiner or the letter a, but the determiner sense is much more likely.\\n\\nThis idea suggests a useful baseline: given an ambiguous word, choose the tag\\n\\nwhich is most frequent in the training corpus. This is a key concept:\\n\\nMost Frequent Class Baseline: Always compare a classiﬁer against a baseline at least as good as the most frequent class baseline (assigning each token to the class it occurred in most often in the training set).\\n\\n6 CHAPTER 8\\n\\nSEQUENCE LABELING FOR PARTS OF SPEECH AND NAMED ENTITIES\\n\\nThe most-frequent-tag baseline has an accuracy of about 92%1. The baseline\\n\\nthus differs from the state-of-the-art and human ceiling (97%) by only 5%.\\n\\n8.3 Named Entities and Named Entity Tagging'), Document(metadata={'source': '/tmp/tmpdc4enbfj/tmp.pdf'}, page_content='[CLS]Janetwillbackthebill\\n\\nEmbeddingLayer\\n\\nNNPMDVBDTNN\\n\\nBidirectional Transformer Encoder\\n\\nFigure 11.11 Sequence labeling for part-of-speech tagging with a bidirectional transformer encoder. The output vector for each input token is passed to a simple k-way classiﬁer.\\n\\nA complication with this approach arises from the use of subword tokenization such as WordPiece, SentencePiece Unigram LM or Byte Pair Encoding. Supervised training data for tasks like named entity recognition (NER) is typically in the form of BIO tags associated with text segmented at the word level. For example the following sentence containing two named entities:\\n\\n(11.14)\\n\\n(11.15)\\n\\n11.5\\n\\nADVANCED: SPAN-BASED MASKING 17\\n\\n[LOC Mt. Sanitas ] is in [LOC Sunshine Canyon] .\\n\\nwould have the following set of per-word BIO tags.\\n\\n(11.16) Mt.\\n\\nB-LOC\\n\\nSanitas I-LOC\\n\\nis O\\n\\nin O\\n\\nSunshine B-LOC\\n\\nCanyon I-LOC\\n\\n. O')]\n",
            "[Document(page_content='(cid:80)K\\n\\n(where c is the correct class)\\n\\n(7.26)\\n\\n7.5.2 Computing the Gradient\\n\\nHow do we compute the gradient of this loss function? Computing the gradient requires the partial derivative of the loss function with respect to each parameter. For a network with one weight layer and sigmoid output (which is what logistic regression is), we could simply use the derivative of the loss that we used for logistic regression in Eq. 7.27 (and derived in Section ??):\\n\\n∂ LCE (ˆy, y) ∂ w j\\n\\n= ( ˆy − y) x j\\n\\n= (σ (w · x + b) − y) x j\\n\\n(7.27)\\n\\nOr for a network with one weight layer and softmax output (=multinomial logistic regression), we could use the derivative of the softmax loss from Eq. ??, shown for\\n\\n16 CHAPTER 7\\n\\nerror back- propagation\\n\\nchain rule\\n\\nNEURAL NETWORKS AND NEURAL LANGUAGE MODELS\\n\\na particular weight wk and input xi\\n\\n∂ LCE(ˆy, y) ∂ wk,i\\n\\n= −(yk − ˆyk)xi\\n\\n= −(yk − p(yk = 1|x))xi\\n\\n= −\\n\\n(cid:32)\\n\\nyk −\\n\\nexp (wk · x + bk) j=1 exp (wj · x + b j)\\n\\n(cid:80)K\\n\\n(cid:33)\\n\\nxi'), Document(metadata={'source': '/tmp/tmp8h47rjv0/tmp.pdf'}, page_content='18 CHAPTER 15\\n\\nCHATBOTS & DIALOGUE SYSTEMS\\n\\nthink is a program but is in fact a human “wizard” disguised by a software interface (Gould et al. 1983, Good et al. 1984, Fraser and Gilbert 1991). The name comes from the chil- dren’s book The Wizard of Oz (Baum, 1900), in which the wizard turned out to be a simu- lation controlled by a man behind a curtain or screen. A wizard system can be used to test out an architecture before implementation; only the interface software and databases need to be in place. The wizard gets input from the user, uses a database interface to run queries based on the user utterance, and then outputs sentences, ei- ther by typing them or speaking them.\\n\\nWizard-of-Oz systems are not a perfect simulation, since the wizard doesn’t exactly simulate the errors or limitations of a real sys- tem; but wizard studies can still provide a useful ﬁrst idea of the domain issues.\\n\\nbarged in\\n\\nvalue sensitive design'), Document(page_content='h1 head\\n\\nFFN\\n\\nENCODER\\n\\nhead\\n\\nW\\n\\nscore(h1head, h3dep)\\n\\nFigure 18.14 Computing scores for a single edge (book→ ﬂight) in the biafﬁne parser of Dozat and Manning (2017); Dozat et al. (2017). The parser uses distinct feedforward net- works to turn the encoder output for each word into a head and dependent representation for the word. The biafﬁne function turns the head embedding of the head and the dependent embedding of the dependent into a score for the dependency edge.'), Document(metadata={'source': '/tmp/tmpcmslhaof/tmp.pdf'}, page_content='Basing our answers on retrieved documents can solve the above-mentioned prob- lems with using simple prompting to answer questions. First, we can ensure that the answer is grounded in facts from some curated dataset. And we can give the answer accompanied by the context of the passage or document the answer came from. This information can help users have conﬁdence in the accuracy of the answer (or help them spot when it is wrong!). And we can use our retrieval techniques on any pro- prietary data we want, such as legal or medical data for those applications.'), Document(page_content='exp(s(i, yi)) y(cid:48)∈Y (i) exp(s(i, y(cid:48)))\\n\\n(22.48)\\n\\nThis score s(i, j) includes three factors that we’ll deﬁne below: m(i); whether span i is a mention; m( j); whether span j is a mention; and c(i, j); whether j is the antecedent of i:\\n\\ns(i, j) = m(i) + m( j) + c(i, j)\\n\\n(22.49)\\n\\nFor the dummy antecedent (cid:15), the score s(i, (cid:15)) is ﬁxed to 0. This way if any non- dummy scores are positive, the model predicts the highest-scoring antecedent, but if all the scores are negative it abstains.\\n\\n22.6.1 Computing span representations'), Document(metadata={'source': '/tmp/tmpcmslhaof/tmp.pdf'}, page_content='20 CHAPTER 14\\n\\nQUESTION ANSWERING AND INFORMATION RETRIEVAL\\n\\nThe match between a query and a document can be done by ﬁrst representing each of them with a sparse vector that represents the frequencies of words, weighted by tf-idf or BM25. Then the similarity can be measured by cosine. • Documents or queries can instead be represented by dense vectors, by encod- ing the question and document with an encoder-only model like BERT, and in that case computing similarity in embedding space.\\n\\nThe inverted index is an storage mechanism that makes it very efﬁcient to ﬁnd documents that have a particular word.\\n\\nRanked retrieval is generally evaluated by mean average precision or inter- polated precision.\\n\\nQuestion answering systems generally use the retriever/reader architecture. In the retriever stage, an IR system is given a query and returns a set of documents.'), Document(page_content='Fig. 23.8 from Barzilay and Lapata (2008) shows a grid for the text shown in Fig. 23.9. There is one row for each of the six sentences. The second column, for the entity ‘trial’, is O – – – X, showing that the trial appears in the ﬁrst sentence as direct object, in the last sentence as an oblique, and does not appear in the middle sentences. The third column, for the entity Microsoft, shows that it appears as sub- ject in sentence 1 (it also appears as the object of the preposition against, but entities that appear multiple times are recorded with their highest-ranked grammatical func- tion). Computing the entity grids requires extracting entities and doing coreference\\n\\nBarzilayandLapataModelingLocalCoherence'), Document(metadata={'source': '/tmp/tmpcmslhaof/tmp.pdf'}, page_content='Speech and Language Processing. Daniel Jurafsky & James H. Martin. rights reserved.\\n\\nDraft of February 3, 2024.\\n\\nCopyright © 2023.\\n\\nCHAPTER\\n\\n14 Question Answering and In-\\n\\nformation Retrieval\\n\\nThe quest for knowledge is deeply human, and so it is not surprising that practically as soon as there were computers we were asking them questions. By the early 1960s, systems used the two major paradigms of question answering—retrieval-based and knowledge-based—to answer questions about baseball statistics or scientiﬁc facts. Even imaginary computers got into the act. Deep Thought, the computer that Dou- glas Adams invented in The Hitchhiker’s Guide to the Galaxy, managed to answer “the Ultimate Question Of Life, The Universe, and Everything”.1 In 2011, IBM’s Watson question-answering system won the TV game-show Jeopardy!, surpassing humans at answering questions like:\\n\\nWILLIAM WILKINSON’S “AN ACCOUNT OF THE PRINCIPALITIES OF WALLACHIA AND MOLDOVIA”INSPIRED THIS AUTHOR’S MOST FAMOUS NOVEL\\n\\n2')]\n",
            "[Document(page_content='9.8\\n\\nimpression 5.95 3.65 0.98\\n\\nagreement 0.3\\n\\nWord Relatedness The meaning of two words can be related in ways other than similarity. One such class of connections is called word relatedness (Budanitsky and Hirst, 2006), also traditionally called word association in psychology.\\n\\nConsider the meanings of the words coffee and cup. Coffee is not similar to cup; they share practically no features (coffee is a plant or a beverage, while a cup is a manufactured object with a particular shape). But coffee and cup are clearly related; they are associated by co-participating in an everyday event (the event of drinking coffee out of a cup). Similarly scalpel and surgeon are not similar but are related eventively (a surgeon tends to make use of a scalpel).\\n\\nOne common kind of relatedness between words is if they belong to the same semantic ﬁeld. A semantic ﬁeld is a set of words which cover a particular semantic domain and bear structured relations with each other. For example, words might be\\n\\n4 CHAPTER 6'), Document(metadata={'source': '/tmp/tmp16hw7jef/tmp.pdf'}, page_content='Sometime between the 7th and 4th centuries BCE, the Indian grammarian P¯an. ini1 wrote a famous treatise on Sanskrit grammar, the As.t.¯adhy¯ay¯ı (‘8 books’), a treatise that has been called “one of the greatest monuments of hu- man intelligence” (Bloomﬁeld, 1933, 11). The work de- scribes the linguistics of the Sanskrit language in the form of 3959 sutras, each very efﬁciently (since it had to be memorized!) expressing part of a formal rule system that brilliantly preﬁgured modern mechanisms of formal lan- guage theory (Penn and Kiparsky, 2012). One set of rules describes the k¯arakas, semantic relationships between a verb and noun arguments, roles like agent, instrument, or destination. P¯an. ini’s work was the earliest we know of that modeled the linguistic realization of events and their participants. This task of understanding how participants relate to events—being able to answer the question “Who did what to whom” (and perhaps also “when and where”)—is a central question of natural language'), Document(page_content='8.5.2 Features for CRF Named Entity Recognizers\\n\\nA CRF for NER makes use of very similar features to a POS tagger, as shown in Figure 8.15.\\n\\nidentity of wi, identity of neighboring words embeddings for wi, embeddings for neighboring words part of speech of wi, part of speech of neighboring words presence of wi in a gazetteer wi contains a particular preﬁx (from all preﬁxes of length ≤ 4) wi contains a particular sufﬁx (from all sufﬁxes of length ≤ 4) word shape of wi, word shape of neighboring words short word shape of wi, short word shape of neighboring words gazetteer features Figure 8.15 Typical features for a feature-based NER system.'), Document(metadata={'source': '/tmp/tmpkxwhtz_7/tmp.pdf'}, page_content='(13.1) English: He wrote a letter to a friend\\n\\nJapanese:\\n\\ntomodachi friend\\n\\nni to\\n\\ntegami-o letter\\n\\nkaita wrote\\n\\nNote that the elements of the sentences are in very different places in the different languages. In English, the verb is in the middle of the sentence, while in Japanese, the verb kaita comes at the end. The Japanese sentence doesn’t require the pronoun he, while English does.\\n\\nSuch differences between languages can be quite complex. In the following ac- tual sentence from the United Nations, notice the many changes between the Chinese sentence (we’ve given in red a word-by-word gloss of the Chinese characters) and its English equivalent produced by human translators. (13.2) 大会/General Assembly 在/on 1982年/1982 12月/December 10日/10 通过 了/adopted 第37号/37th 决议/resolution ，核准了/approved 第二 次/second 探索/exploration 及/and 和平peaceful colorblue利用/using 外 } 层空间/outer space 会议/conference 的/of 各项/various 建议/suggestions 。'), Document(page_content='parts of speech\\n\\nDionysius Thrax of Alexandria (c. 100 B.C.), or perhaps someone else (it was a long time ago), wrote a grammatical sketch of Greek (a “techn¯e”) that summarized the linguistic knowledge of his day. This work is the source of an astonishing proportion of modern linguistic vocabulary, including the words syntax, diphthong, clitic, and analogy. Also included are a description of eight parts of speech: noun, verb, pronoun, preposition, adverb, conjunction, participle, and article. Although earlier scholars (including Aristotle as well as the Stoics) had their own lists of parts of speech, it was Thrax’s set of eight that became the basis for descriptions of European languages for the next 2000 years. (All the way to the Schoolhouse Rock educational television shows of our childhood, which had songs about 8 parts of speech, like the late great Bob Dorough’s Conjunction Junction.) The durability of parts of speech through two millennia speaks to their centrality in models of human language.'), Document(metadata={'source': '/tmp/tmp16hw7jef/tmp.pdf'}, page_content='In this chapter we introduce a level of representation that captures the common- ality between these sentences: there was a purchase event, the participants were XYZ Corp and some stock, and XYZ Corp was the buyer. These shallow semantic representations , semantic roles, express the role that arguments of a predicate take in the event, codiﬁed in databases like PropBank and FrameNet. We’ll introduce semantic role labeling, the task of assigning roles to spans in sentences, and selec- tional restrictions, the preferences that predicates express about their arguments, such as the fact that the theme of eat is generally something edible.\\n\\n1 Figure shows a birch bark manuscript from Kashmir of the Rupavatra, a grammatical textbook based on the Sanskrit grammar of Panini. Image from the Wellcome Collection.\\n\\n2 CHAPTER 20\\n\\nSEMANTIC ROLE LABELING\\n\\n20.1 Semantic Roles'), Document(page_content='First or last word (or embedding) of antecedent/anaphor Head word (or head embedding) of antecedent/anaphor The number, gender, animacy, person, named entity type attributes of (antecedent/anaphor) length in words of (antecedent/anaphor) Type: (P)roper, (D)eﬁnite, (I)ndeﬁnite, (Pr)onoun) of an- tecedent/anaphor Features of the Antecedent Entity\\n\\nEntity shape\\n\\nP-Pr-D\\n\\nThe ‘shape’ or list of types of the mentions in the antecedent entity (cluster), i.e., sequences of (P)roper, (D)eﬁnite, (I)ndeﬁnite, (Pr)onoun.\\n\\nEntity attributes\\n\\nSg-F-A-3-PER The number, gender, animacy, person, named entity type\\n\\nAnt. cluster size\\n\\n3\\n\\nattributes of the antecedent entity Number of mentions in the antecedent cluster\\n\\nFeatures of the Pair of Mentions\\n\\nSentence distance Mention distance i-within-i Cosine\\n\\n1 4 F\\n\\nThe number of sentences between antecedent and anaphor The number of mentions between antecedent and anaphor Anaphor has i-within-i relation with antecedent Cosine between antecedent and anaphor embeddings'), Document(metadata={'source': '/tmp/tmpnpvt6que/tmp.pdf'}, page_content='parsing. ACL.\\n\\nNaur, P., J. W. Backus, F. L. Bauer, J. Green, C. Katz, J. McCarthy, A. J. Perlis, H. Rutishauser, K. Samelson, B. Vauquois, J. H. Wegstein, A. van Wijnagaarden, and M. Woodger. 1960. Report on the algorithmic language ALGOL 60. CACM, 3(5):299–314. Revised in CACM 6:1, 1-17, 1963.\\n\\nNorvig, P. 1991. Techniques for automatic memoization with applications to context-free parsing. Computational Lin- guistics, 17(1):91–98.\\n\\nPercival, W. K. 1976. On the historical source of immediate constituent analysis. In J. D. McCawley, editor, Syntax and Semantics Volume 7, Notes from the Linguistic Un- derground, pages 229–242. Academic Press.\\n\\nPollard, C. and I. A. Sag. 1994. Head-Driven Phrase Struc-\\n\\nture Grammar. University of Chicago Press.\\n\\nSalomaa, A. 1969. Probabilistic and weighted grammars.\\n\\nInformation and Control, 15:529–544.\\n\\nSekine, S. and M. Collins. 1997. The evalb software. http:\\n\\n//cs.nyu.edu/cs/projects/proteus/evalb.\\n\\n25\\n\\n26 Chapter 17\\n\\nContext-Free Grammars and Constituency Parsing')]\n",
            "\n",
            "\n",
            "for [0.1, 0.9]:\n",
            "[Document(page_content='8.5.2 Features for CRF Named Entity Recognizers\\n\\nA CRF for NER makes use of very similar features to a POS tagger, as shown in Figure 8.15.\\n\\nidentity of wi, identity of neighboring words embeddings for wi, embeddings for neighboring words part of speech of wi, part of speech of neighboring words presence of wi in a gazetteer wi contains a particular preﬁx (from all preﬁxes of length ≤ 4) wi contains a particular sufﬁx (from all sufﬁxes of length ≤ 4) word shape of wi, word shape of neighboring words short word shape of wi, short word shape of neighboring words gazetteer features Figure 8.15 Typical features for a feature-based NER system.'), Document(metadata={'source': '/tmp/tmpz3h9atcu/tmp.pdf'}, page_content='named entity\\n\\nnamed entity recognition NER\\n\\nA named entity is, roughly speaking, anything that can be referred to with a proper name: a person, a location, an organization. The task of named entity recog- nition (NER) is to ﬁnd spans of text that constitute proper names and tag the type of the entity. Four entity tags are most common: PER (person), LOC (location), ORG (organization), or GPE (geo-political entity). However, the term named entity is commonly extended to include things that aren’t entities per se, including dates, times, and other kinds of temporal expressions, and even numerical expressions like prices. Here’s an example of the output of an NER tagger:'), Document(page_content='The known-word templates are computed for every word seen in the training set; the unknown word features can also be computed for all words in training, or only on training words whose frequency is below some threshold. The result of the known-word templates and word-signature features is a very large set of features. Generally a feature cutoff is used in which features are thrown out if they have count < 5 in the training set.\\n\\nRemember that in a CRF we don’t learn weights for each of these local features fk. Instead, we ﬁrst sum the values of each local feature (for example feature f3743) over the entire sentence, to create each global feature (for example F3743). It is those global features that will then be multiplied by weight w3743. Thus for training and inference there is always a ﬁxed set of K features with K weights, even though the length of each sentence is different.\\n\\n8.5.2 Features for CRF Named Entity Recognizers'), Document(metadata={'source': '/tmp/tmpz3h9atcu/tmp.pdf'}, page_content='8.6 Evaluation of Named Entity Recognition\\n\\nPart-of-speech taggers are evaluated by the standard metric of accuracy. Named entity recognizers are evaluated by recall, precision, and F1 measure. Recall that recall is the ratio of the number of correctly labeled responses to the total that should have been labeled; precision is the ratio of the number of correctly labeled responses to the total labeled; and F-measure is the harmonic mean of the two.\\n\\nTo know if the difference between the F1 scores of two NER systems is a signif- icant difference, we use the paired bootstrap test, or the similar randomization test (Section ??).\\n\\nFor named entity tagging, the entity rather than the word is the unit of response. Thus in the example in Fig. 8.16, the two entities Jane Villanueva and United Air- lines Holding and the non-entity discussed would each count as a single response.'), Document(page_content='8.3 Named Entities and Named Entity Tagging\\n\\nPart of speech tagging can tell us that words like Janet, Stanford University, and Colorado are all proper nouns; being a proper noun is a grammatical property of these words. But viewed from a semantic perspective, these proper nouns refer to different kinds of entities: Janet is a person, Stanford University is an organization, and Colorado is a location.\\n\\nnamed entity\\n\\nnamed entity recognition NER'), Document(page_content='Nonetheless, many words are easy to disambiguate, because their different tags aren’t equally likely. For example, a can be a determiner or the letter a, but the determiner sense is much more likely.\\n\\nThis idea suggests a useful baseline: given an ambiguous word, choose the tag\\n\\nwhich is most frequent in the training corpus. This is a key concept:\\n\\nMost Frequent Class Baseline: Always compare a classiﬁer against a baseline at least as good as the most frequent class baseline (assigning each token to the class it occurred in most often in the training set).\\n\\n6 CHAPTER 8\\n\\nSEQUENCE LABELING FOR PARTS OF SPEECH AND NAMED ENTITIES\\n\\nThe most-frequent-tag baseline has an accuracy of about 92%1. The baseline\\n\\nthus differs from the state-of-the-art and human ceiling (97%) by only 5%.\\n\\n8.3 Named Entities and Named Entity Tagging'), Document(metadata={'source': '/tmp/tmpdc4enbfj/tmp.pdf'}, page_content='[CLS]Janetwillbackthebill\\n\\nEmbeddingLayer\\n\\nNNPMDVBDTNN\\n\\nBidirectional Transformer Encoder\\n\\nFigure 11.11 Sequence labeling for part-of-speech tagging with a bidirectional transformer encoder. The output vector for each input token is passed to a simple k-way classiﬁer.\\n\\nA complication with this approach arises from the use of subword tokenization such as WordPiece, SentencePiece Unigram LM or Byte Pair Encoding. Supervised training data for tasks like named entity recognition (NER) is typically in the form of BIO tags associated with text segmented at the word level. For example the following sentence containing two named entities:\\n\\n(11.14)\\n\\n(11.15)\\n\\n11.5\\n\\nADVANCED: SPAN-BASED MASKING 17\\n\\n[LOC Mt. Sanitas ] is in [LOC Sunshine Canyon] .\\n\\nwould have the following set of per-word BIO tags.\\n\\n(11.16) Mt.\\n\\nB-LOC\\n\\nSanitas I-LOC\\n\\nis O\\n\\nin O\\n\\nSunshine B-LOC\\n\\nCanyon I-LOC\\n\\n. O')]\n",
            "[Document(page_content='(cid:80)K\\n\\n(where c is the correct class)\\n\\n(7.26)\\n\\n7.5.2 Computing the Gradient\\n\\nHow do we compute the gradient of this loss function? Computing the gradient requires the partial derivative of the loss function with respect to each parameter. For a network with one weight layer and sigmoid output (which is what logistic regression is), we could simply use the derivative of the loss that we used for logistic regression in Eq. 7.27 (and derived in Section ??):\\n\\n∂ LCE (ˆy, y) ∂ w j\\n\\n= ( ˆy − y) x j\\n\\n= (σ (w · x + b) − y) x j\\n\\n(7.27)\\n\\nOr for a network with one weight layer and softmax output (=multinomial logistic regression), we could use the derivative of the softmax loss from Eq. ??, shown for\\n\\n16 CHAPTER 7\\n\\nerror back- propagation\\n\\nchain rule\\n\\nNEURAL NETWORKS AND NEURAL LANGUAGE MODELS\\n\\na particular weight wk and input xi\\n\\n∂ LCE(ˆy, y) ∂ wk,i\\n\\n= −(yk − ˆyk)xi\\n\\n= −(yk − p(yk = 1|x))xi\\n\\n= −\\n\\n(cid:32)\\n\\nyk −\\n\\nexp (wk · x + bk) j=1 exp (wj · x + b j)\\n\\n(cid:80)K\\n\\n(cid:33)\\n\\nxi'), Document(metadata={'source': '/tmp/tmp8h47rjv0/tmp.pdf'}, page_content='18 CHAPTER 15\\n\\nCHATBOTS & DIALOGUE SYSTEMS\\n\\nthink is a program but is in fact a human “wizard” disguised by a software interface (Gould et al. 1983, Good et al. 1984, Fraser and Gilbert 1991). The name comes from the chil- dren’s book The Wizard of Oz (Baum, 1900), in which the wizard turned out to be a simu- lation controlled by a man behind a curtain or screen. A wizard system can be used to test out an architecture before implementation; only the interface software and databases need to be in place. The wizard gets input from the user, uses a database interface to run queries based on the user utterance, and then outputs sentences, ei- ther by typing them or speaking them.\\n\\nWizard-of-Oz systems are not a perfect simulation, since the wizard doesn’t exactly simulate the errors or limitations of a real sys- tem; but wizard studies can still provide a useful ﬁrst idea of the domain issues.\\n\\nbarged in\\n\\nvalue sensitive design'), Document(page_content='h1 head\\n\\nFFN\\n\\nENCODER\\n\\nhead\\n\\nW\\n\\nscore(h1head, h3dep)\\n\\nFigure 18.14 Computing scores for a single edge (book→ ﬂight) in the biafﬁne parser of Dozat and Manning (2017); Dozat et al. (2017). The parser uses distinct feedforward net- works to turn the encoder output for each word into a head and dependent representation for the word. The biafﬁne function turns the head embedding of the head and the dependent embedding of the dependent into a score for the dependency edge.'), Document(metadata={'source': '/tmp/tmpcmslhaof/tmp.pdf'}, page_content='Basing our answers on retrieved documents can solve the above-mentioned prob- lems with using simple prompting to answer questions. First, we can ensure that the answer is grounded in facts from some curated dataset. And we can give the answer accompanied by the context of the passage or document the answer came from. This information can help users have conﬁdence in the accuracy of the answer (or help them spot when it is wrong!). And we can use our retrieval techniques on any pro- prietary data we want, such as legal or medical data for those applications.'), Document(page_content='exp(s(i, yi)) y(cid:48)∈Y (i) exp(s(i, y(cid:48)))\\n\\n(22.48)\\n\\nThis score s(i, j) includes three factors that we’ll deﬁne below: m(i); whether span i is a mention; m( j); whether span j is a mention; and c(i, j); whether j is the antecedent of i:\\n\\ns(i, j) = m(i) + m( j) + c(i, j)\\n\\n(22.49)\\n\\nFor the dummy antecedent (cid:15), the score s(i, (cid:15)) is ﬁxed to 0. This way if any non- dummy scores are positive, the model predicts the highest-scoring antecedent, but if all the scores are negative it abstains.\\n\\n22.6.1 Computing span representations'), Document(metadata={'source': '/tmp/tmpcmslhaof/tmp.pdf'}, page_content='20 CHAPTER 14\\n\\nQUESTION ANSWERING AND INFORMATION RETRIEVAL\\n\\nThe match between a query and a document can be done by ﬁrst representing each of them with a sparse vector that represents the frequencies of words, weighted by tf-idf or BM25. Then the similarity can be measured by cosine. • Documents or queries can instead be represented by dense vectors, by encod- ing the question and document with an encoder-only model like BERT, and in that case computing similarity in embedding space.\\n\\nThe inverted index is an storage mechanism that makes it very efﬁcient to ﬁnd documents that have a particular word.\\n\\nRanked retrieval is generally evaluated by mean average precision or inter- polated precision.\\n\\nQuestion answering systems generally use the retriever/reader architecture. In the retriever stage, an IR system is given a query and returns a set of documents.'), Document(page_content='Fig. 23.8 from Barzilay and Lapata (2008) shows a grid for the text shown in Fig. 23.9. There is one row for each of the six sentences. The second column, for the entity ‘trial’, is O – – – X, showing that the trial appears in the ﬁrst sentence as direct object, in the last sentence as an oblique, and does not appear in the middle sentences. The third column, for the entity Microsoft, shows that it appears as sub- ject in sentence 1 (it also appears as the object of the preposition against, but entities that appear multiple times are recorded with their highest-ranked grammatical func- tion). Computing the entity grids requires extracting entities and doing coreference\\n\\nBarzilayandLapataModelingLocalCoherence'), Document(metadata={'source': '/tmp/tmpcmslhaof/tmp.pdf'}, page_content='Speech and Language Processing. Daniel Jurafsky & James H. Martin. rights reserved.\\n\\nDraft of February 3, 2024.\\n\\nCopyright © 2023.\\n\\nCHAPTER\\n\\n14 Question Answering and In-\\n\\nformation Retrieval\\n\\nThe quest for knowledge is deeply human, and so it is not surprising that practically as soon as there were computers we were asking them questions. By the early 1960s, systems used the two major paradigms of question answering—retrieval-based and knowledge-based—to answer questions about baseball statistics or scientiﬁc facts. Even imaginary computers got into the act. Deep Thought, the computer that Dou- glas Adams invented in The Hitchhiker’s Guide to the Galaxy, managed to answer “the Ultimate Question Of Life, The Universe, and Everything”.1 In 2011, IBM’s Watson question-answering system won the TV game-show Jeopardy!, surpassing humans at answering questions like:\\n\\nWILLIAM WILKINSON’S “AN ACCOUNT OF THE PRINCIPALITIES OF WALLACHIA AND MOLDOVIA”INSPIRED THIS AUTHOR’S MOST FAMOUS NOVEL\\n\\n2')]\n",
            "[Document(page_content='9.8\\n\\nimpression 5.95 3.65 0.98\\n\\nagreement 0.3\\n\\nWord Relatedness The meaning of two words can be related in ways other than similarity. One such class of connections is called word relatedness (Budanitsky and Hirst, 2006), also traditionally called word association in psychology.\\n\\nConsider the meanings of the words coffee and cup. Coffee is not similar to cup; they share practically no features (coffee is a plant or a beverage, while a cup is a manufactured object with a particular shape). But coffee and cup are clearly related; they are associated by co-participating in an everyday event (the event of drinking coffee out of a cup). Similarly scalpel and surgeon are not similar but are related eventively (a surgeon tends to make use of a scalpel).\\n\\nOne common kind of relatedness between words is if they belong to the same semantic ﬁeld. A semantic ﬁeld is a set of words which cover a particular semantic domain and bear structured relations with each other. For example, words might be\\n\\n4 CHAPTER 6'), Document(metadata={'source': '/tmp/tmp16hw7jef/tmp.pdf'}, page_content='Sometime between the 7th and 4th centuries BCE, the Indian grammarian P¯an. ini1 wrote a famous treatise on Sanskrit grammar, the As.t.¯adhy¯ay¯ı (‘8 books’), a treatise that has been called “one of the greatest monuments of hu- man intelligence” (Bloomﬁeld, 1933, 11). The work de- scribes the linguistics of the Sanskrit language in the form of 3959 sutras, each very efﬁciently (since it had to be memorized!) expressing part of a formal rule system that brilliantly preﬁgured modern mechanisms of formal lan- guage theory (Penn and Kiparsky, 2012). One set of rules describes the k¯arakas, semantic relationships between a verb and noun arguments, roles like agent, instrument, or destination. P¯an. ini’s work was the earliest we know of that modeled the linguistic realization of events and their participants. This task of understanding how participants relate to events—being able to answer the question “Who did what to whom” (and perhaps also “when and where”)—is a central question of natural language'), Document(page_content='8.5.2 Features for CRF Named Entity Recognizers\\n\\nA CRF for NER makes use of very similar features to a POS tagger, as shown in Figure 8.15.\\n\\nidentity of wi, identity of neighboring words embeddings for wi, embeddings for neighboring words part of speech of wi, part of speech of neighboring words presence of wi in a gazetteer wi contains a particular preﬁx (from all preﬁxes of length ≤ 4) wi contains a particular sufﬁx (from all sufﬁxes of length ≤ 4) word shape of wi, word shape of neighboring words short word shape of wi, short word shape of neighboring words gazetteer features Figure 8.15 Typical features for a feature-based NER system.'), Document(metadata={'source': '/tmp/tmpkxwhtz_7/tmp.pdf'}, page_content='(13.1) English: He wrote a letter to a friend\\n\\nJapanese:\\n\\ntomodachi friend\\n\\nni to\\n\\ntegami-o letter\\n\\nkaita wrote\\n\\nNote that the elements of the sentences are in very different places in the different languages. In English, the verb is in the middle of the sentence, while in Japanese, the verb kaita comes at the end. The Japanese sentence doesn’t require the pronoun he, while English does.\\n\\nSuch differences between languages can be quite complex. In the following ac- tual sentence from the United Nations, notice the many changes between the Chinese sentence (we’ve given in red a word-by-word gloss of the Chinese characters) and its English equivalent produced by human translators. (13.2) 大会/General Assembly 在/on 1982年/1982 12月/December 10日/10 通过 了/adopted 第37号/37th 决议/resolution ，核准了/approved 第二 次/second 探索/exploration 及/and 和平peaceful colorblue利用/using 外 } 层空间/outer space 会议/conference 的/of 各项/various 建议/suggestions 。'), Document(page_content='parts of speech\\n\\nDionysius Thrax of Alexandria (c. 100 B.C.), or perhaps someone else (it was a long time ago), wrote a grammatical sketch of Greek (a “techn¯e”) that summarized the linguistic knowledge of his day. This work is the source of an astonishing proportion of modern linguistic vocabulary, including the words syntax, diphthong, clitic, and analogy. Also included are a description of eight parts of speech: noun, verb, pronoun, preposition, adverb, conjunction, participle, and article. Although earlier scholars (including Aristotle as well as the Stoics) had their own lists of parts of speech, it was Thrax’s set of eight that became the basis for descriptions of European languages for the next 2000 years. (All the way to the Schoolhouse Rock educational television shows of our childhood, which had songs about 8 parts of speech, like the late great Bob Dorough’s Conjunction Junction.) The durability of parts of speech through two millennia speaks to their centrality in models of human language.'), Document(metadata={'source': '/tmp/tmp16hw7jef/tmp.pdf'}, page_content='In this chapter we introduce a level of representation that captures the common- ality between these sentences: there was a purchase event, the participants were XYZ Corp and some stock, and XYZ Corp was the buyer. These shallow semantic representations , semantic roles, express the role that arguments of a predicate take in the event, codiﬁed in databases like PropBank and FrameNet. We’ll introduce semantic role labeling, the task of assigning roles to spans in sentences, and selec- tional restrictions, the preferences that predicates express about their arguments, such as the fact that the theme of eat is generally something edible.\\n\\n1 Figure shows a birch bark manuscript from Kashmir of the Rupavatra, a grammatical textbook based on the Sanskrit grammar of Panini. Image from the Wellcome Collection.\\n\\n2 CHAPTER 20\\n\\nSEMANTIC ROLE LABELING\\n\\n20.1 Semantic Roles'), Document(page_content='First or last word (or embedding) of antecedent/anaphor Head word (or head embedding) of antecedent/anaphor The number, gender, animacy, person, named entity type attributes of (antecedent/anaphor) length in words of (antecedent/anaphor) Type: (P)roper, (D)eﬁnite, (I)ndeﬁnite, (Pr)onoun) of an- tecedent/anaphor Features of the Antecedent Entity\\n\\nEntity shape\\n\\nP-Pr-D\\n\\nThe ‘shape’ or list of types of the mentions in the antecedent entity (cluster), i.e., sequences of (P)roper, (D)eﬁnite, (I)ndeﬁnite, (Pr)onoun.\\n\\nEntity attributes\\n\\nSg-F-A-3-PER The number, gender, animacy, person, named entity type\\n\\nAnt. cluster size\\n\\n3\\n\\nattributes of the antecedent entity Number of mentions in the antecedent cluster\\n\\nFeatures of the Pair of Mentions\\n\\nSentence distance Mention distance i-within-i Cosine\\n\\n1 4 F\\n\\nThe number of sentences between antecedent and anaphor The number of mentions between antecedent and anaphor Anaphor has i-within-i relation with antecedent Cosine between antecedent and anaphor embeddings'), Document(metadata={'source': '/tmp/tmpnpvt6que/tmp.pdf'}, page_content='parsing. ACL.\\n\\nNaur, P., J. W. Backus, F. L. Bauer, J. Green, C. Katz, J. McCarthy, A. J. Perlis, H. Rutishauser, K. Samelson, B. Vauquois, J. H. Wegstein, A. van Wijnagaarden, and M. Woodger. 1960. Report on the algorithmic language ALGOL 60. CACM, 3(5):299–314. Revised in CACM 6:1, 1-17, 1963.\\n\\nNorvig, P. 1991. Techniques for automatic memoization with applications to context-free parsing. Computational Lin- guistics, 17(1):91–98.\\n\\nPercival, W. K. 1976. On the historical source of immediate constituent analysis. In J. D. McCawley, editor, Syntax and Semantics Volume 7, Notes from the Linguistic Un- derground, pages 229–242. Academic Press.\\n\\nPollard, C. and I. A. Sag. 1994. Head-Driven Phrase Struc-\\n\\nture Grammar. University of Chicago Press.\\n\\nSalomaa, A. 1969. Probabilistic and weighted grammars.\\n\\nInformation and Control, 15:529–544.\\n\\nSekine, S. and M. Collins. 1997. The evalb software. http:\\n\\n//cs.nyu.edu/cs/projects/proteus/evalb.\\n\\n25\\n\\n26 Chapter 17\\n\\nContext-Free Grammars and Constituency Parsing')]\n",
            "\n",
            "\n",
            "for [0.9, 0.1]:\n",
            "[Document(page_content='8.5.2 Features for CRF Named Entity Recognizers\\n\\nA CRF for NER makes use of very similar features to a POS tagger, as shown in Figure 8.15.\\n\\nidentity of wi, identity of neighboring words embeddings for wi, embeddings for neighboring words part of speech of wi, part of speech of neighboring words presence of wi in a gazetteer wi contains a particular preﬁx (from all preﬁxes of length ≤ 4) wi contains a particular sufﬁx (from all sufﬁxes of length ≤ 4) word shape of wi, word shape of neighboring words short word shape of wi, short word shape of neighboring words gazetteer features Figure 8.15 Typical features for a feature-based NER system.'), Document(metadata={'source': '/tmp/tmpz3h9atcu/tmp.pdf'}, page_content='named entity\\n\\nnamed entity recognition NER\\n\\nA named entity is, roughly speaking, anything that can be referred to with a proper name: a person, a location, an organization. The task of named entity recog- nition (NER) is to ﬁnd spans of text that constitute proper names and tag the type of the entity. Four entity tags are most common: PER (person), LOC (location), ORG (organization), or GPE (geo-political entity). However, the term named entity is commonly extended to include things that aren’t entities per se, including dates, times, and other kinds of temporal expressions, and even numerical expressions like prices. Here’s an example of the output of an NER tagger:'), Document(page_content='The known-word templates are computed for every word seen in the training set; the unknown word features can also be computed for all words in training, or only on training words whose frequency is below some threshold. The result of the known-word templates and word-signature features is a very large set of features. Generally a feature cutoff is used in which features are thrown out if they have count < 5 in the training set.\\n\\nRemember that in a CRF we don’t learn weights for each of these local features fk. Instead, we ﬁrst sum the values of each local feature (for example feature f3743) over the entire sentence, to create each global feature (for example F3743). It is those global features that will then be multiplied by weight w3743. Thus for training and inference there is always a ﬁxed set of K features with K weights, even though the length of each sentence is different.\\n\\n8.5.2 Features for CRF Named Entity Recognizers'), Document(metadata={'source': '/tmp/tmpz3h9atcu/tmp.pdf'}, page_content='8.6 Evaluation of Named Entity Recognition\\n\\nPart-of-speech taggers are evaluated by the standard metric of accuracy. Named entity recognizers are evaluated by recall, precision, and F1 measure. Recall that recall is the ratio of the number of correctly labeled responses to the total that should have been labeled; precision is the ratio of the number of correctly labeled responses to the total labeled; and F-measure is the harmonic mean of the two.\\n\\nTo know if the difference between the F1 scores of two NER systems is a signif- icant difference, we use the paired bootstrap test, or the similar randomization test (Section ??).\\n\\nFor named entity tagging, the entity rather than the word is the unit of response. Thus in the example in Fig. 8.16, the two entities Jane Villanueva and United Air- lines Holding and the non-entity discussed would each count as a single response.'), Document(page_content='8.3 Named Entities and Named Entity Tagging\\n\\nPart of speech tagging can tell us that words like Janet, Stanford University, and Colorado are all proper nouns; being a proper noun is a grammatical property of these words. But viewed from a semantic perspective, these proper nouns refer to different kinds of entities: Janet is a person, Stanford University is an organization, and Colorado is a location.\\n\\nnamed entity\\n\\nnamed entity recognition NER'), Document(page_content='Nonetheless, many words are easy to disambiguate, because their different tags aren’t equally likely. For example, a can be a determiner or the letter a, but the determiner sense is much more likely.\\n\\nThis idea suggests a useful baseline: given an ambiguous word, choose the tag\\n\\nwhich is most frequent in the training corpus. This is a key concept:\\n\\nMost Frequent Class Baseline: Always compare a classiﬁer against a baseline at least as good as the most frequent class baseline (assigning each token to the class it occurred in most often in the training set).\\n\\n6 CHAPTER 8\\n\\nSEQUENCE LABELING FOR PARTS OF SPEECH AND NAMED ENTITIES\\n\\nThe most-frequent-tag baseline has an accuracy of about 92%1. The baseline\\n\\nthus differs from the state-of-the-art and human ceiling (97%) by only 5%.\\n\\n8.3 Named Entities and Named Entity Tagging'), Document(metadata={'source': '/tmp/tmpdc4enbfj/tmp.pdf'}, page_content='[CLS]Janetwillbackthebill\\n\\nEmbeddingLayer\\n\\nNNPMDVBDTNN\\n\\nBidirectional Transformer Encoder\\n\\nFigure 11.11 Sequence labeling for part-of-speech tagging with a bidirectional transformer encoder. The output vector for each input token is passed to a simple k-way classiﬁer.\\n\\nA complication with this approach arises from the use of subword tokenization such as WordPiece, SentencePiece Unigram LM or Byte Pair Encoding. Supervised training data for tasks like named entity recognition (NER) is typically in the form of BIO tags associated with text segmented at the word level. For example the following sentence containing two named entities:\\n\\n(11.14)\\n\\n(11.15)\\n\\n11.5\\n\\nADVANCED: SPAN-BASED MASKING 17\\n\\n[LOC Mt. Sanitas ] is in [LOC Sunshine Canyon] .\\n\\nwould have the following set of per-word BIO tags.\\n\\n(11.16) Mt.\\n\\nB-LOC\\n\\nSanitas I-LOC\\n\\nis O\\n\\nin O\\n\\nSunshine B-LOC\\n\\nCanyon I-LOC\\n\\n. O')]\n",
            "[Document(page_content='(cid:80)K\\n\\n(where c is the correct class)\\n\\n(7.26)\\n\\n7.5.2 Computing the Gradient\\n\\nHow do we compute the gradient of this loss function? Computing the gradient requires the partial derivative of the loss function with respect to each parameter. For a network with one weight layer and sigmoid output (which is what logistic regression is), we could simply use the derivative of the loss that we used for logistic regression in Eq. 7.27 (and derived in Section ??):\\n\\n∂ LCE (ˆy, y) ∂ w j\\n\\n= ( ˆy − y) x j\\n\\n= (σ (w · x + b) − y) x j\\n\\n(7.27)\\n\\nOr for a network with one weight layer and softmax output (=multinomial logistic regression), we could use the derivative of the softmax loss from Eq. ??, shown for\\n\\n16 CHAPTER 7\\n\\nerror back- propagation\\n\\nchain rule\\n\\nNEURAL NETWORKS AND NEURAL LANGUAGE MODELS\\n\\na particular weight wk and input xi\\n\\n∂ LCE(ˆy, y) ∂ wk,i\\n\\n= −(yk − ˆyk)xi\\n\\n= −(yk − p(yk = 1|x))xi\\n\\n= −\\n\\n(cid:32)\\n\\nyk −\\n\\nexp (wk · x + bk) j=1 exp (wj · x + b j)\\n\\n(cid:80)K\\n\\n(cid:33)\\n\\nxi'), Document(metadata={'source': '/tmp/tmp8h47rjv0/tmp.pdf'}, page_content='18 CHAPTER 15\\n\\nCHATBOTS & DIALOGUE SYSTEMS\\n\\nthink is a program but is in fact a human “wizard” disguised by a software interface (Gould et al. 1983, Good et al. 1984, Fraser and Gilbert 1991). The name comes from the chil- dren’s book The Wizard of Oz (Baum, 1900), in which the wizard turned out to be a simu- lation controlled by a man behind a curtain or screen. A wizard system can be used to test out an architecture before implementation; only the interface software and databases need to be in place. The wizard gets input from the user, uses a database interface to run queries based on the user utterance, and then outputs sentences, ei- ther by typing them or speaking them.\\n\\nWizard-of-Oz systems are not a perfect simulation, since the wizard doesn’t exactly simulate the errors or limitations of a real sys- tem; but wizard studies can still provide a useful ﬁrst idea of the domain issues.\\n\\nbarged in\\n\\nvalue sensitive design'), Document(page_content='h1 head\\n\\nFFN\\n\\nENCODER\\n\\nhead\\n\\nW\\n\\nscore(h1head, h3dep)\\n\\nFigure 18.14 Computing scores for a single edge (book→ ﬂight) in the biafﬁne parser of Dozat and Manning (2017); Dozat et al. (2017). The parser uses distinct feedforward net- works to turn the encoder output for each word into a head and dependent representation for the word. The biafﬁne function turns the head embedding of the head and the dependent embedding of the dependent into a score for the dependency edge.'), Document(metadata={'source': '/tmp/tmpcmslhaof/tmp.pdf'}, page_content='Basing our answers on retrieved documents can solve the above-mentioned prob- lems with using simple prompting to answer questions. First, we can ensure that the answer is grounded in facts from some curated dataset. And we can give the answer accompanied by the context of the passage or document the answer came from. This information can help users have conﬁdence in the accuracy of the answer (or help them spot when it is wrong!). And we can use our retrieval techniques on any pro- prietary data we want, such as legal or medical data for those applications.'), Document(page_content='exp(s(i, yi)) y(cid:48)∈Y (i) exp(s(i, y(cid:48)))\\n\\n(22.48)\\n\\nThis score s(i, j) includes three factors that we’ll deﬁne below: m(i); whether span i is a mention; m( j); whether span j is a mention; and c(i, j); whether j is the antecedent of i:\\n\\ns(i, j) = m(i) + m( j) + c(i, j)\\n\\n(22.49)\\n\\nFor the dummy antecedent (cid:15), the score s(i, (cid:15)) is ﬁxed to 0. This way if any non- dummy scores are positive, the model predicts the highest-scoring antecedent, but if all the scores are negative it abstains.\\n\\n22.6.1 Computing span representations'), Document(metadata={'source': '/tmp/tmpcmslhaof/tmp.pdf'}, page_content='20 CHAPTER 14\\n\\nQUESTION ANSWERING AND INFORMATION RETRIEVAL\\n\\nThe match between a query and a document can be done by ﬁrst representing each of them with a sparse vector that represents the frequencies of words, weighted by tf-idf or BM25. Then the similarity can be measured by cosine. • Documents or queries can instead be represented by dense vectors, by encod- ing the question and document with an encoder-only model like BERT, and in that case computing similarity in embedding space.\\n\\nThe inverted index is an storage mechanism that makes it very efﬁcient to ﬁnd documents that have a particular word.\\n\\nRanked retrieval is generally evaluated by mean average precision or inter- polated precision.\\n\\nQuestion answering systems generally use the retriever/reader architecture. In the retriever stage, an IR system is given a query and returns a set of documents.'), Document(page_content='Fig. 23.8 from Barzilay and Lapata (2008) shows a grid for the text shown in Fig. 23.9. There is one row for each of the six sentences. The second column, for the entity ‘trial’, is O – – – X, showing that the trial appears in the ﬁrst sentence as direct object, in the last sentence as an oblique, and does not appear in the middle sentences. The third column, for the entity Microsoft, shows that it appears as sub- ject in sentence 1 (it also appears as the object of the preposition against, but entities that appear multiple times are recorded with their highest-ranked grammatical func- tion). Computing the entity grids requires extracting entities and doing coreference\\n\\nBarzilayandLapataModelingLocalCoherence'), Document(metadata={'source': '/tmp/tmpcmslhaof/tmp.pdf'}, page_content='Speech and Language Processing. Daniel Jurafsky & James H. Martin. rights reserved.\\n\\nDraft of February 3, 2024.\\n\\nCopyright © 2023.\\n\\nCHAPTER\\n\\n14 Question Answering and In-\\n\\nformation Retrieval\\n\\nThe quest for knowledge is deeply human, and so it is not surprising that practically as soon as there were computers we were asking them questions. By the early 1960s, systems used the two major paradigms of question answering—retrieval-based and knowledge-based—to answer questions about baseball statistics or scientiﬁc facts. Even imaginary computers got into the act. Deep Thought, the computer that Dou- glas Adams invented in The Hitchhiker’s Guide to the Galaxy, managed to answer “the Ultimate Question Of Life, The Universe, and Everything”.1 In 2011, IBM’s Watson question-answering system won the TV game-show Jeopardy!, surpassing humans at answering questions like:\\n\\nWILLIAM WILKINSON’S “AN ACCOUNT OF THE PRINCIPALITIES OF WALLACHIA AND MOLDOVIA”INSPIRED THIS AUTHOR’S MOST FAMOUS NOVEL\\n\\n2')]\n",
            "[Document(page_content='9.8\\n\\nimpression 5.95 3.65 0.98\\n\\nagreement 0.3\\n\\nWord Relatedness The meaning of two words can be related in ways other than similarity. One such class of connections is called word relatedness (Budanitsky and Hirst, 2006), also traditionally called word association in psychology.\\n\\nConsider the meanings of the words coffee and cup. Coffee is not similar to cup; they share practically no features (coffee is a plant or a beverage, while a cup is a manufactured object with a particular shape). But coffee and cup are clearly related; they are associated by co-participating in an everyday event (the event of drinking coffee out of a cup). Similarly scalpel and surgeon are not similar but are related eventively (a surgeon tends to make use of a scalpel).\\n\\nOne common kind of relatedness between words is if they belong to the same semantic ﬁeld. A semantic ﬁeld is a set of words which cover a particular semantic domain and bear structured relations with each other. For example, words might be\\n\\n4 CHAPTER 6'), Document(metadata={'source': '/tmp/tmp16hw7jef/tmp.pdf'}, page_content='Sometime between the 7th and 4th centuries BCE, the Indian grammarian P¯an. ini1 wrote a famous treatise on Sanskrit grammar, the As.t.¯adhy¯ay¯ı (‘8 books’), a treatise that has been called “one of the greatest monuments of hu- man intelligence” (Bloomﬁeld, 1933, 11). The work de- scribes the linguistics of the Sanskrit language in the form of 3959 sutras, each very efﬁciently (since it had to be memorized!) expressing part of a formal rule system that brilliantly preﬁgured modern mechanisms of formal lan- guage theory (Penn and Kiparsky, 2012). One set of rules describes the k¯arakas, semantic relationships between a verb and noun arguments, roles like agent, instrument, or destination. P¯an. ini’s work was the earliest we know of that modeled the linguistic realization of events and their participants. This task of understanding how participants relate to events—being able to answer the question “Who did what to whom” (and perhaps also “when and where”)—is a central question of natural language'), Document(page_content='8.5.2 Features for CRF Named Entity Recognizers\\n\\nA CRF for NER makes use of very similar features to a POS tagger, as shown in Figure 8.15.\\n\\nidentity of wi, identity of neighboring words embeddings for wi, embeddings for neighboring words part of speech of wi, part of speech of neighboring words presence of wi in a gazetteer wi contains a particular preﬁx (from all preﬁxes of length ≤ 4) wi contains a particular sufﬁx (from all sufﬁxes of length ≤ 4) word shape of wi, word shape of neighboring words short word shape of wi, short word shape of neighboring words gazetteer features Figure 8.15 Typical features for a feature-based NER system.'), Document(metadata={'source': '/tmp/tmpkxwhtz_7/tmp.pdf'}, page_content='(13.1) English: He wrote a letter to a friend\\n\\nJapanese:\\n\\ntomodachi friend\\n\\nni to\\n\\ntegami-o letter\\n\\nkaita wrote\\n\\nNote that the elements of the sentences are in very different places in the different languages. In English, the verb is in the middle of the sentence, while in Japanese, the verb kaita comes at the end. The Japanese sentence doesn’t require the pronoun he, while English does.\\n\\nSuch differences between languages can be quite complex. In the following ac- tual sentence from the United Nations, notice the many changes between the Chinese sentence (we’ve given in red a word-by-word gloss of the Chinese characters) and its English equivalent produced by human translators. (13.2) 大会/General Assembly 在/on 1982年/1982 12月/December 10日/10 通过 了/adopted 第37号/37th 决议/resolution ，核准了/approved 第二 次/second 探索/exploration 及/and 和平peaceful colorblue利用/using 外 } 层空间/outer space 会议/conference 的/of 各项/various 建议/suggestions 。'), Document(page_content='parts of speech\\n\\nDionysius Thrax of Alexandria (c. 100 B.C.), or perhaps someone else (it was a long time ago), wrote a grammatical sketch of Greek (a “techn¯e”) that summarized the linguistic knowledge of his day. This work is the source of an astonishing proportion of modern linguistic vocabulary, including the words syntax, diphthong, clitic, and analogy. Also included are a description of eight parts of speech: noun, verb, pronoun, preposition, adverb, conjunction, participle, and article. Although earlier scholars (including Aristotle as well as the Stoics) had their own lists of parts of speech, it was Thrax’s set of eight that became the basis for descriptions of European languages for the next 2000 years. (All the way to the Schoolhouse Rock educational television shows of our childhood, which had songs about 8 parts of speech, like the late great Bob Dorough’s Conjunction Junction.) The durability of parts of speech through two millennia speaks to their centrality in models of human language.'), Document(metadata={'source': '/tmp/tmp16hw7jef/tmp.pdf'}, page_content='In this chapter we introduce a level of representation that captures the common- ality between these sentences: there was a purchase event, the participants were XYZ Corp and some stock, and XYZ Corp was the buyer. These shallow semantic representations , semantic roles, express the role that arguments of a predicate take in the event, codiﬁed in databases like PropBank and FrameNet. We’ll introduce semantic role labeling, the task of assigning roles to spans in sentences, and selec- tional restrictions, the preferences that predicates express about their arguments, such as the fact that the theme of eat is generally something edible.\\n\\n1 Figure shows a birch bark manuscript from Kashmir of the Rupavatra, a grammatical textbook based on the Sanskrit grammar of Panini. Image from the Wellcome Collection.\\n\\n2 CHAPTER 20\\n\\nSEMANTIC ROLE LABELING\\n\\n20.1 Semantic Roles'), Document(page_content='First or last word (or embedding) of antecedent/anaphor Head word (or head embedding) of antecedent/anaphor The number, gender, animacy, person, named entity type attributes of (antecedent/anaphor) length in words of (antecedent/anaphor) Type: (P)roper, (D)eﬁnite, (I)ndeﬁnite, (Pr)onoun) of an- tecedent/anaphor Features of the Antecedent Entity\\n\\nEntity shape\\n\\nP-Pr-D\\n\\nThe ‘shape’ or list of types of the mentions in the antecedent entity (cluster), i.e., sequences of (P)roper, (D)eﬁnite, (I)ndeﬁnite, (Pr)onoun.\\n\\nEntity attributes\\n\\nSg-F-A-3-PER The number, gender, animacy, person, named entity type\\n\\nAnt. cluster size\\n\\n3\\n\\nattributes of the antecedent entity Number of mentions in the antecedent cluster\\n\\nFeatures of the Pair of Mentions\\n\\nSentence distance Mention distance i-within-i Cosine\\n\\n1 4 F\\n\\nThe number of sentences between antecedent and anaphor The number of mentions between antecedent and anaphor Anaphor has i-within-i relation with antecedent Cosine between antecedent and anaphor embeddings'), Document(metadata={'source': '/tmp/tmpnpvt6que/tmp.pdf'}, page_content='parsing. ACL.\\n\\nNaur, P., J. W. Backus, F. L. Bauer, J. Green, C. Katz, J. McCarthy, A. J. Perlis, H. Rutishauser, K. Samelson, B. Vauquois, J. H. Wegstein, A. van Wijnagaarden, and M. Woodger. 1960. Report on the algorithmic language ALGOL 60. CACM, 3(5):299–314. Revised in CACM 6:1, 1-17, 1963.\\n\\nNorvig, P. 1991. Techniques for automatic memoization with applications to context-free parsing. Computational Lin- guistics, 17(1):91–98.\\n\\nPercival, W. K. 1976. On the historical source of immediate constituent analysis. In J. D. McCawley, editor, Syntax and Semantics Volume 7, Notes from the Linguistic Un- derground, pages 229–242. Academic Press.\\n\\nPollard, C. and I. A. Sag. 1994. Head-Driven Phrase Struc-\\n\\nture Grammar. University of Chicago Press.\\n\\nSalomaa, A. 1969. Probabilistic and weighted grammars.\\n\\nInformation and Control, 15:529–544.\\n\\nSekine, S. and M. Collins. 1997. The evalb software. http:\\n\\n//cs.nyu.edu/cs/projects/proteus/evalb.\\n\\n25\\n\\n26 Chapter 17\\n\\nContext-Free Grammars and Constituency Parsing')]\n",
            "\n",
            "\n"
          ]
        }
      ],
      "source": [
        "test_ensemble_retriever([0.5, 0.5])\n",
        "test_ensemble_retriever([0.1, 0.9])\n",
        "test_ensemble_retriever([0.9, 0.1])"
      ]
    },
    {
      "cell_type": "markdown",
      "metadata": {
        "id": "qvrbojBjvyjP"
      },
      "source": [
        "## Part 4 - Implementing Router Chain"
      ]
    },
    {
      "cell_type": "code",
      "execution_count": 18,
      "metadata": {
        "id": "leie7mEtvyjP"
      },
      "outputs": [],
      "source": [
        "router_prompt_template = \\\n",
        "    \"\"\"\n",
        "    Your task is to categorize user quiries into one of three categories: VectorStore, SearchEngine, or None.\n",
        "    Select VectorStore for questions related to Natural Language Processing or Speech Processing.\n",
        "    Choose SearchEngine for inquiries about computer science topics not involving NLP.\n",
        "    Opt for None if the question does not pertain to NLP or Computer Science.\n",
        "    Provide only the selected category as your response. Do not include any additional information.\n",
        "    {output_instruction}\n",
        "    query: {query}\n",
        "    \"\"\"\n"
      ]
    },
    {
      "cell_type": "code",
      "execution_count": 19,
      "metadata": {
        "id": "EbAr--P2vyjQ"
      },
      "outputs": [],
      "source": [
        "router_prompt_template = dedent(router_prompt_template)\n",
        "\n",
        "router_prompt = ChatPromptTemplate.from_template(\n",
        "    template=router_prompt_template\n",
        ")\n",
        "\n",
        "router_llm = ChatTogether(\n",
        "    together_api_key=os.environ[\"TOGETHER_API_KEY\"],\n",
        "    model=\"meta-llama/Llama-3-70b-chat-hf\",\n",
        "    temperature=0.0\n",
        ")\n",
        "\n",
        "class QueryType(BaseModel):\n",
        "    class_name: Literal[\"None\", \"SearchEngine\", \"VectorStore\"] = Field()\n",
        "\n",
        "router_parser = PydanticOutputParser(pydantic_object=QueryType)"
      ]
    },
    {
      "cell_type": "code",
      "execution_count": 20,
      "metadata": {
        "colab": {
          "base_uri": "https://localhost:8080/"
        },
        "id": "FHETN97lvyjQ",
        "outputId": "fa5042e2-7d91-4193-ea37-9ba452ace1ba"
      },
      "outputs": [
        {
          "data": {
            "text/plain": [
              "ChatPromptValue(messages=[HumanMessage(content='\\nYour task is to categorize user quiries into one of three categories: VectorStore, SearchEngine, or None.\\nSelect VectorStore for questions related to Natural Language Processing or Speech Processing.\\nChoose SearchEngine for inquiries about computer science topics not involving NLP.\\nOpt for None if the question does not pertain to NLP or Computer Science.\\nProvide only the selected category as your response. Do not include any additional information.\\nThe output should be formatted as a JSON instance that conforms to the JSON schema below.\\n\\nAs an example, for the schema {\"properties\": {\"foo\": {\"title\": \"Foo\", \"description\": \"a list of strings\", \"type\": \"array\", \"items\": {\"type\": \"string\"}}}, \"required\": [\"foo\"]}\\nthe object {\"foo\": [\"bar\", \"baz\"]} is a well-formatted instance of the schema. The object {\"properties\": {\"foo\": [\"bar\", \"baz\"]}} is not well-formatted.\\n\\nHere is the output schema:\\n```\\n{\"properties\": {\"class_name\": {\"title\": \"Class Name\", \"enum\": [\"None\", \"SearchEngine\", \"VectorStore\"], \"type\": \"string\"}}, \"required\": [\"class_name\"]}\\n```\\nquery: What is NLI?\\n')])"
            ]
          },
          "execution_count": 20,
          "metadata": {},
          "output_type": "execute_result"
        }
      ],
      "source": [
        "# for test\n",
        "router_prompt.invoke({\n",
        "    \"query\": \"What is NLI?\",\n",
        "    \"output_instruction\": router_parser.get_format_instructions()\n",
        "})"
      ]
    },
    {
      "cell_type": "code",
      "execution_count": 21,
      "metadata": {
        "id": "GMOEF1P3vyjQ"
      },
      "outputs": [],
      "source": [
        "router_chain = router_prompt | router_llm | router_parser"
      ]
    },
    {
      "cell_type": "code",
      "execution_count": 22,
      "metadata": {
        "colab": {
          "base_uri": "https://localhost:8080/"
        },
        "id": "zM9x5kEnX-By",
        "outputId": "112e7dc8-0200-4407-8ac9-8fcbb6614f44"
      },
      "outputs": [
        {
          "name": "stdout",
          "output_type": "stream",
          "text": [
            "related_query: class_name='VectorStore'\n",
            "unrelated_query: class_name='SearchEngine'\n",
            "super_unrelated_query: class_name='None'\n",
            "\n"
          ]
        }
      ],
      "source": [
        "def test_router_chain(query):\n",
        "    return router_chain.invoke({\n",
        "        \"query\": query,\n",
        "        \"output_instruction\": router_parser.get_format_instructions()\n",
        "    })\n",
        "\n",
        "print(\n",
        "    f\"related_query: {test_router_chain('What are the main uses of Named Entity Recognizers?')}\\n\"\n",
        "    f\"unrelated_query: {test_router_chain('Who are the top providers of cloud computing services?')}\\n\"\n",
        "    f\"super_unrelated_query: {test_router_chain('Which teams have won the most Asian Cup titles?')}\\n\"\n",
        ")"
      ]
    },
    {
      "cell_type": "markdown",
      "metadata": {
        "id": "EJqCM4J7vyjQ"
      },
      "source": [
        "## Part 5 - Implementing Search Engine Chain\n"
      ]
    },
    {
      "cell_type": "code",
      "execution_count": 23,
      "metadata": {
        "id": "ZIaxAcosvyjQ"
      },
      "outputs": [],
      "source": [
        "tavily_search_wrapper = TavilySearchAPIWrapper(tavily_api_key=os.environ[\"TAVILY_API_KEY\"])\n",
        "tavily_search = TavilySearchResults(api_wrapper=tavily_search_wrapper, max_results=5)"
      ]
    },
    {
      "cell_type": "code",
      "execution_count": 24,
      "metadata": {
        "colab": {
          "base_uri": "https://localhost:8080/"
        },
        "id": "tn0Je23aehAG",
        "outputId": "e824ac51-aac6-463b-d99f-396ebf9759c6"
      },
      "outputs": [
        {
          "data": {
            "text/plain": [
              "[{'url': 'https://www.sciencedirect.com/science/article/pii/S2949719124000074',\n",
              "  'content': 'Natural Language Processing Journal\\nRecent advancements and challenges of NLP-based sentiment analysis: A state-of-the-art review\\nAbstract\\nSentiment analysis is a method within natural language processing that evaluates and identifies the emotional tone or mood conveyed in textual data. This extensive review provides a complete understanding of sentiment analysis, covering its models, application domains, results analysis, challenges, and research directions.\\n Therefore, in this extensive survey, we began exploring the vast array of application domains for sentiment analysis, scrutinizing them within the context of existing research. The significance of sentiment analysis lies in its capacity to derive valuable insights from extensive textual data, empowering businesses to grasp customer sentiments, make informed choices, and enhance their offerings. For the further advancement of sentiment analysis, gaining a deep understanding of its algorithms, applications, current performance, and challenges is imperative.'},\n",
              " {'url': 'https://link.springer.com/article/10.1007/s41060-024-00594-x',\n",
              "  'content': 'In recent years, sentiment analysis has emerged as a pivotal field within natural language processing (NLP), driven by the exponential growth of digital data and the increasing need to extract insights from textual information. With the prevalence of social media platforms, online reviews, and customer feedback, understanding the sentiments expressed in a text has become essential for various ...'},\n",
              " {'url': 'https://www.researchgate.net/publication/378613766_Recent_advancements_and_challenges_of_NLP-based_sentiment_analysis_A_state-of-the-art_review',\n",
              "  'content': 'For the further advancement of sentiment analysis, gaining a deep understanding of its algorithms, applications, current performance, and challenges is imperative.'},\n",
              " {'url': 'https://www.nature.com/collections/fbehficiij',\n",
              "  'content': \"Editors\\nSuparna De\\nUniversity of Surrey, UK\\nEinat Liebenthal\\nHarvard Medical School, USA\\nLaura Po\\nUniversity of Modena and Reggio Emilia, Italy\\nExplore content\\nAbout the journal\\nPublish with us\\nSearch\\nQuick links\\nImage credit: monsitj / Getty Images / iStock\\nScientific Reports (Sci Rep)\\nISSN 2045-2322 (online)\\nnature.com sitemap\\nAbout Nature Portfolio\\nDiscover content\\nPublishing policies\\nAuthor & Researcher services\\nLibraries & institutions\\nAdvertising & partnerships\\nProfessional development\\nRegional websites\\n Advertisement\\nCollection\\nAdvances in Natural Language Processing\\nNatural language processing (NLP) is an interdisciplinary field spanning computational science and artificial intelligence (AI), concerned with the understanding of human language, in both written and verbal forms, by machines. This Collection is dedicated to the latest research on methodology in the vast field of NLP, which addresses and carries the potential to solve at least one of the many struggles the state-of-the-art NLP approaches face. At the same time, NLP progress is halted by the limited AI hardware infrastructure which struggles to accommodate more refined NLP models, the sparsity of good-quality NLP-training data, and complex linguistic problems, such as machine's understanding of homonymy or generation of polysemy.\\n In the growing NLP domain, two main methodological branches can be distinguished: natural language understanding (NLU), which aims to improve the machine's reading comprehension, and natural language generation (NLG), focused on enabling machines to produce human language text responses based on a given data input.\\n\"},\n",
              " {'url': 'https://www.startus-insights.com/innovators-guide/natural-language-processing-trends/',\n",
              "  'content': 'Top 9 Natural Language Processing Trends\\nClick to download\\nTree Map reveals the Impact of the Top 9 Natural Language Processing Trends\\nBased on the Natural Language Processing Innovation Map, the Tree Map below illustrates the impact of the Top 9 NLP Trends in 2023. Explore our in-depth industry research on 1 645 NLP startups & scaleups and get data-driven insights into technology-based solutions in our Natural Language Processing Innovation Map!\\nNatural language processing (NLP) is a subset of AI which finds growing importance due to the increasing amount of unstructured language data. Click to download\\nSchedule Platform Demo\\nGlobal Startup Heat Map covers 1 645 Natural Language Processing Startups & Scaleups\\nThe Global Startup Heat Map below highlights the global distribution of the 1 645 exemplary startups & scaleups that we analyzed for this research. One of the barriers to effective searches is the lack of understanding of the context and intent of the input data. Innovation Map outlines the Top 9 Natural Language Processing Trends & 18 Promising Startups\\nFor this in-depth research on the Top Natural Language Processing Trends & Startups, we analyzed a sample of 1 645 global startups & scaleups.'}]"
            ]
          },
          "execution_count": 24,
          "metadata": {},
          "output_type": "execute_result"
        }
      ],
      "source": [
        "tavily_search.invoke(\"What are the latest advancements in NLP for improving sentiment analysis?\")"
      ]
    },
    {
      "cell_type": "code",
      "execution_count": 25,
      "metadata": {
        "id": "aLS-qAotvyjQ"
      },
      "outputs": [],
      "source": [
        "@chain\n",
        "def parse_tavily_search(documents):\n",
        "    return [Document(\n",
        "              page_content=doc['content'],\n",
        "              metadata={'url': doc['url']}\n",
        "            ) for doc in documents]\n",
        "\n",
        "    return result_documents"
      ]
    },
    {
      "cell_type": "code",
      "execution_count": 26,
      "metadata": {
        "id": "gZ4qdUcnvyjR"
      },
      "outputs": [],
      "source": [
        "search_engine_chain = tavily_search | parse_tavily_search"
      ]
    },
    {
      "cell_type": "code",
      "execution_count": 27,
      "metadata": {
        "colab": {
          "base_uri": "https://localhost:8080/"
        },
        "id": "cvDNKXpXeckY",
        "outputId": "00aa62a6-77b5-4452-8765-3a448ae9b954"
      },
      "outputs": [
        {
          "data": {
            "text/plain": [
              "[Document(metadata={'url': 'https://www.sciencedirect.com/science/article/pii/S2949719124000074'}, page_content='Natural Language Processing Journal\\nRecent advancements and challenges of NLP-based sentiment analysis: A state-of-the-art review\\nAbstract\\nSentiment analysis is a method within natural language processing that evaluates and identifies the emotional tone or mood conveyed in textual data. This extensive review provides a complete understanding of sentiment analysis, covering its models, application domains, results analysis, challenges, and research directions.\\n Therefore, in this extensive survey, we began exploring the vast array of application domains for sentiment analysis, scrutinizing them within the context of existing research. The significance of sentiment analysis lies in its capacity to derive valuable insights from extensive textual data, empowering businesses to grasp customer sentiments, make informed choices, and enhance their offerings. For the further advancement of sentiment analysis, gaining a deep understanding of its algorithms, applications, current performance, and challenges is imperative.'),\n",
              " Document(metadata={'url': 'https://link.springer.com/article/10.1007/s41060-024-00594-x'}, page_content='In recent years, sentiment analysis has emerged as a pivotal field within natural language processing (NLP), driven by the exponential growth of digital data and the increasing need to extract insights from textual information. With the prevalence of social media platforms, online reviews, and customer feedback, understanding the sentiments expressed in a text has become essential for various ...'),\n",
              " Document(metadata={'url': 'https://www.intechopen.com/chapters/87589'}, page_content='The 2023 Sentiment Analysis Roadmap\\nWritten By\\nPublished: 10 January 2024\\nDOI: 10.5772/intechopen.112276\\nCite this chapter\\nThere are two ways to cite this chapter:\\nFrom the Edited Volume\\nAdvances in Sentiment Analysis - Techniques, Applications, and Challenges\\nEdited by Jinfeng Li\\nTo purchase hard copies of this book, please contact the representative in India:\\nCBS Publishers & Distributors Pvt. Methodologies in sentiment analysis\\nDepending on targeted prediction performance (accuracy and speed) versus computational cost (connected to data complexity in various projects), sentiment analysis can be undertaken in diverse ways, i.e., rule-based approach (which requires a lexicon and weightings for the wordlist to calculate the overall polarity of the text), machine learning-based approach (which requires training with manually tagged labels in order to learn new dataset by supervised learning), and a mix (hybrid approach). It covers a wide range of topics, including but not limited to the advancements in NLP techniques, the challenges of sentiment analysis in social media, the ethical considerations of sentiment analysis, and the future directions of the field.\\n However, as sentiment analysis techniques are implemented in diverse contexts, it becomes imperative to address the ethical considerations inherent in this practice, i.e., the key ethical concerns associated with sentiment analysis as summarized below, including biases and limitations, privacy and consent, and the responsible use of sentiment analysis in sensitive domains.\\n [3] to analyze and understand the emotions, opinions, and attitudes expressed in unstructured text data (including but not limited to social media posts, customer reviews, and other online content), and hence to gauge the overall sentiment or opinion (how people feel) of a particular topic or brand (by assessing the polarity of the text) for informed decision making.'),\n",
              " Document(metadata={'url': 'https://www.researchgate.net/publication/378613766_Recent_advancements_and_challenges_of_NLP-based_sentiment_analysis_A_state-of-the-art_review'}, page_content='For the further advancement of sentiment analysis, gaining a deep understanding of its algorithms, applications, current performance, and challenges is imperative.'),\n",
              " Document(metadata={'url': 'https://www.startus-insights.com/innovators-guide/natural-language-processing-trends/'}, page_content='Top 9 Natural Language Processing Trends\\nClick to download\\nTree Map reveals the Impact of the Top 9 Natural Language Processing Trends\\nBased on the Natural Language Processing Innovation Map, the Tree Map below illustrates the impact of the Top 9 NLP Trends in 2023. Explore our in-depth industry research on 1 645 NLP startups & scaleups and get data-driven insights into technology-based solutions in our Natural Language Processing Innovation Map!\\nNatural language processing (NLP) is a subset of AI which finds growing importance due to the increasing amount of unstructured language data. Click to download\\nSchedule Platform Demo\\nGlobal Startup Heat Map covers 1 645 Natural Language Processing Startups & Scaleups\\nThe Global Startup Heat Map below highlights the global distribution of the 1 645 exemplary startups & scaleups that we analyzed for this research. One of the barriers to effective searches is the lack of understanding of the context and intent of the input data. Innovation Map outlines the Top 9 Natural Language Processing Trends & 18 Promising Startups\\nFor this in-depth research on the Top Natural Language Processing Trends & Startups, we analyzed a sample of 1 645 global startups & scaleups.')]"
            ]
          },
          "execution_count": 27,
          "metadata": {},
          "output_type": "execute_result"
        }
      ],
      "source": [
        "search_engine_chain.invoke(\"What are the latest advancements in NLP for improving sentiment analysis?\")"
      ]
    },
    {
      "cell_type": "markdown",
      "metadata": {
        "id": "cbi91kixvyjR"
      },
      "source": [
        "## Part 6 - Implementing Relevancy Check Chain\n"
      ]
    },
    {
      "cell_type": "code",
      "execution_count": 28,
      "metadata": {
        "id": "fDF2hFR6vyjR"
      },
      "outputs": [],
      "source": [
        "relevancy_check_template = \\\n",
        "\"\"\"You are provided with a user question and a document. If the given document is relevant to the user question and can be used to answer it, output 'Relevant', and if not, output 'Irrelevant'. Only output the words Relevant and Irrelevant in a JSON format as described in the output instructions.\n",
        "User question: {user_query}\n",
        "Document: {retrieved_document}\n",
        "Output instruction: {output_instruction}\n",
        "\"\"\"\n"
      ]
    },
    {
      "cell_type": "code",
      "execution_count": 29,
      "metadata": {
        "id": "wSCZU9lsvyjR"
      },
      "outputs": [],
      "source": [
        "relevancy_check_template = dedent(relevancy_check_template)\n",
        "relevancy_check_prompt = ChatPromptTemplate.from_template(\n",
        "    template=relevancy_check_template\n",
        ")\n",
        "\n",
        "relevancy_check_llm = ChatTogether(\n",
        "    together_api_key=os.environ[\"TOGETHER_API_KEY\"],\n",
        "    model=\"meta-llama/Llama-3-70b-chat-hf\",\n",
        "    temperature=0\n",
        ")\n",
        "\n",
        "class RelevancyType(BaseModel):\n",
        "    class_name: Literal[\"Relevant\", \"Irrelevant\"] = Field()\n",
        "\n",
        "relevancy_check_parser = PydanticOutputParser(pydantic_object=RelevancyType)"
      ]
    },
    {
      "cell_type": "code",
      "execution_count": 30,
      "metadata": {
        "id": "Ufv8ROMrvyjS"
      },
      "outputs": [],
      "source": [
        "relevancy_check = relevancy_check_prompt | relevancy_check_llm | relevancy_check_parser"
      ]
    },
    {
      "cell_type": "code",
      "execution_count": 31,
      "metadata": {
        "id": "hjI5StdyhNAT"
      },
      "outputs": [],
      "source": [
        "def test_relevancy_check(query, document=None):\n",
        "    if document == None:\n",
        "        document = search_engine_chain.invoke(query)[0]\n",
        "\n",
        "    result = relevancy_check.invoke({\n",
        "        \"user_query\": query,\n",
        "        \"retrieved_document\": document,\n",
        "        \"output_instruction\": relevancy_check_parser.get_format_instructions()\n",
        "    })\n",
        "\n",
        "    if result.class_name == 'Irrelevant':\n",
        "        print('Irrelevant query')\n",
        "        return result\n",
        "\n",
        "    print(f'Retrieved Document: {document}')\n",
        "    return result, document"
      ]
    },
    {
      "cell_type": "code",
      "execution_count": 32,
      "metadata": {
        "colab": {
          "base_uri": "https://localhost:8080/"
        },
        "id": "PmlWQRV6wZsL",
        "outputId": "ed321362-548b-4187-f620-3dc34b1b1f21"
      },
      "outputs": [
        {
          "name": "stdout",
          "output_type": "stream",
          "text": [
            "Retrieved Document: page_content='Using the previous example, “Goth” will be recognized as a last name rather than a subculture since the identification process determined it to be a proper noun and the classification process placed it under the category of “person.”\n",
            " You must create the rules based on two types of instruction: pattern-based rules, which relate to word forms and structure, and context-based rules like “if a contraction such as Mr. or Ms. precedes a name, then that contraction is the person’s honorific title.” Pros and cons of using named entity recognition systems\n",
            "Learn more about named entity recognition with Coursera\n",
            "You can strengthen your knowledge of natural language processing with expert-level guidance on Coursera. Coursera Footer\n",
            "Popular AI Content\n",
            "Popular Programs\n",
            "Popular Skills\n",
            "Popular Career Resources\n",
            "Coursera\n",
            "Community\n",
            "More Breaking this term down into two parts can help us better understand it:\n",
            "Named Entity: A named entity is any object that can be referenced by name in text.\n",
            "' metadata={'url': 'https://www.coursera.org/articles/named-entity-recognition'}\n"
          ]
        },
        {
          "data": {
            "text/plain": [
              "RelevancyType(class_name='Relevant')"
            ]
          },
          "execution_count": 32,
          "metadata": {},
          "output_type": "execute_result"
        }
      ],
      "source": [
        "result, result_document = test_relevancy_check(\"What are the main uses of Named Entity Recognizers?\")\n",
        "result"
      ]
    },
    {
      "cell_type": "code",
      "execution_count": 33,
      "metadata": {
        "colab": {
          "base_uri": "https://localhost:8080/"
        },
        "id": "eOkTjdsxwZjs",
        "outputId": "fa6e3385-5d72-459e-edf1-b5c8a0469d1e"
      },
      "outputs": [
        {
          "name": "stdout",
          "output_type": "stream",
          "text": [
            "Irrelevant query\n"
          ]
        },
        {
          "data": {
            "text/plain": [
              "RelevancyType(class_name='Irrelevant')"
            ]
          },
          "execution_count": 33,
          "metadata": {},
          "output_type": "execute_result"
        }
      ],
      "source": [
        "test_relevancy_check(\"What are the best practices for growing tomatoes in a home garden?\", document=result_document)"
      ]
    },
    {
      "cell_type": "markdown",
      "metadata": {
        "id": "S7fWDfyXvyjS"
      },
      "source": [
        "## Part 7 - Implementing Fallback Chain"
      ]
    },
    {
      "cell_type": "code",
      "execution_count": 34,
      "metadata": {
        "id": "qvtYGrf_vyjS"
      },
      "outputs": [],
      "source": [
        "fallback_template = \"\"\"You are a helpful and knowledgeable teaching assistant. Your role is to supply educational information focused on Natural Language Processing (NLP) and Speech Recognition to the human user. Avoid addressing questions that fall outside the scope of NLP and Speech Recognition. If a query is not relevant, please acknowledge this limitation.\n",
        "Current conversation:\n",
        "{chat_history}\n",
        "Human: {query}\n",
        "\"\"\""
      ]
    },
    {
      "cell_type": "code",
      "execution_count": 35,
      "metadata": {
        "id": "O2DGLnPIvyjd"
      },
      "outputs": [],
      "source": [
        "@chain\n",
        "def chat_history_gather(state):\n",
        "    return {\n",
        "        \"chat_history\": gather_chat_history(state),\n",
        "        \"query\": state['query']\n",
        "    }\n",
        "\n",
        "def gather_chat_history(state):\n",
        "    return [(\n",
        "          f\"human: {msg.content}\"\n",
        "          if isinstance(msg, HumanMessage)\n",
        "          else f\"AI: {msg.content}\"\n",
        "      ) for msg in state[\"chat_history\"]]\n",
        "\n",
        "fallback_template = dedent(fallback_template)\n",
        "fallback_prompt = ChatPromptTemplate.from_template(\n",
        "    fallback_template\n",
        ")\n",
        "\n",
        "fallback_llm = ChatTogether(\n",
        "    together_api_key=os.environ[\"TOGETHER_API_KEY\"],\n",
        "    model=\"meta-llama/Llama-3-70b-chat-hf\",\n",
        "    temperature=1\n",
        ")"
      ]
    },
    {
      "cell_type": "code",
      "execution_count": 36,
      "metadata": {
        "id": "G-sgW2XBvyjd"
      },
      "outputs": [],
      "source": [
        "fallback_chain = chat_history_gather | fallback_prompt | fallback_llm | StrOutputParser()"
      ]
    },
    {
      "cell_type": "code",
      "execution_count": 37,
      "metadata": {
        "id": "jpMXRo6uCVBt"
      },
      "outputs": [],
      "source": [
        "class AgentSate(TypedDict):\n",
        "    \"\"\"Represents the current chat context and history with the agent.\"\"\"\n",
        "    query: str\n",
        "    generation: str\n",
        "    documents: list[Document]\n",
        "    chat_history: list[BaseMessage]"
      ]
    },
    {
      "cell_type": "code",
      "execution_count": 38,
      "metadata": {
        "colab": {
          "base_uri": "https://localhost:8080/",
          "height": 107
        },
        "id": "5gb24cNUBOWt",
        "outputId": "a5b55fba-48f7-46da-a8a5-dddab0c1af66"
      },
      "outputs": [
        {
          "data": {
            "application/vnd.google.colaboratory.intrinsic+json": {
              "type": "string"
            },
            "text/plain": [
              "\"I'm happy to help! However, I must respectfully point out that growing tomatoes in a home garden falls outside the scope of Natural Language Processing (NLP) and Speech Recognition, which are the areas of expertise I'm trained to assist with.\\n\\nIf you're interested in learning more about NLP or Speech Recognition, I'd be delighted to provide information and answer any questions you may have. Alternatively, I can suggest some reputable resources or gardening experts who might be able to offer valuable advice on growing tomatoes!\\n\\nPlease feel free to rephrase or ask a new question within the realm of NLP or Speech Recognition, and I'll do my best to assist you.\""
            ]
          },
          "execution_count": 38,
          "metadata": {},
          "output_type": "execute_result"
        }
      ],
      "source": [
        "state = AgentSate(\n",
        "    query=\"What are the best practices for growing tomatoes in a home garden?\",\n",
        "    generation=\"\",\n",
        "    documents=[],\n",
        "    chat_history=[]\n",
        ")\n",
        "\n",
        "fallback_chain.invoke(state)"
      ]
    },
    {
      "cell_type": "markdown",
      "metadata": {
        "id": "Il1PW1Hrvyje"
      },
      "source": [
        "## Part 8 - Implementing Generate with Context Chain"
      ]
    },
    {
      "cell_type": "code",
      "execution_count": 39,
      "metadata": {
        "id": "ex8HLbBYvyje"
      },
      "outputs": [],
      "source": [
        "generate_template = \"\"\"You are an intelligent and helpful assistant. Answer the user's query using only the information provided in the given context. If the context does not contain the necessary information, inform the user that you cannot answer based on the available context, and refrain from providing information outside of it.\n",
        "Context: {documents}\n",
        "Query: {query}\n",
        "\"\"\""
      ]
    },
    {
      "cell_type": "code",
      "execution_count": 40,
      "metadata": {
        "id": "FTxsaQicH2Ll"
      },
      "outputs": [],
      "source": [
        "generate_template = dedent(generate_template)\n",
        "generate_prompt = ChatPromptTemplate.from_template(generate_template)"
      ]
    },
    {
      "cell_type": "code",
      "execution_count": 41,
      "metadata": {
        "id": "cp6xyQ_fvyje"
      },
      "outputs": [],
      "source": [
        "generate_chain = generate_prompt | fallback_llm | StrOutputParser()"
      ]
    },
    {
      "cell_type": "code",
      "execution_count": 42,
      "metadata": {
        "colab": {
          "base_uri": "https://localhost:8080/",
          "height": 90
        },
        "id": "CH2_vSNWIJfs",
        "outputId": "d726f528-225a-4d5f-a8f9-bfb27503877d"
      },
      "outputs": [
        {
          "data": {
            "application/vnd.google.colaboratory.intrinsic+json": {
              "type": "string"
            },
            "text/plain": [
              "\"I apologize, but based on the provided context, I cannot answer your question about growing tomatoes in a home garden. The context only discusses named entity recognition, natural language processing, and Coursera, which is unrelated to gardening or growing tomatoes. I refrain from providing information outside of the context. If you have any questions about named entity recognition or related topics, I'd be happy to help!\""
            ]
          },
          "execution_count": 42,
          "metadata": {},
          "output_type": "execute_result"
        }
      ],
      "source": [
        "state = AgentSate(\n",
        "    query=\"What are the best practices for growing tomatoes in a home garden?\",\n",
        "    generation=\"\",\n",
        "    documents=[result_document],\n",
        "    chat_history=[]\n",
        ")\n",
        "\n",
        "generate_chain.invoke(state)"
      ]
    },
    {
      "cell_type": "markdown",
      "metadata": {
        "id": "j1NgZF7bvyje"
      },
      "source": [
        "## Part 9 - Graph Preparation using LANGGRAPH"
      ]
    },
    {
      "cell_type": "code",
      "execution_count": 43,
      "metadata": {
        "id": "QzdbFx4svyjf"
      },
      "outputs": [],
      "source": [
        "def router_node(state: dict):\n",
        "    try:\n",
        "        response = question_router.invoke({\"query\": query,\n",
        "                                   \"output_instructions\": question_router_parser.get_format_instructions()\n",
        "        })\n",
        "    except:\n",
        "        return 'LLMFallback'\n",
        "\n",
        "    return 'LLMFallback' if response.class_name == 'None' else response.class_name"
      ]
    },
    {
      "cell_type": "code",
      "execution_count": 44,
      "metadata": {
        "id": "PZmkBXVLvyjg"
      },
      "outputs": [],
      "source": [
        "def filter_documents(state: dict):\n",
        "    relevant_documents = []\n",
        "    for document in state['documents']:\n",
        "        try:\n",
        "            relevancy_result = relevancy_check.invoke({\n",
        "                'user_query': state['query'],\n",
        "                'retrieved_document': document,\n",
        "                'output_instruction': relevancy_check_parser.get_format_instructions()\n",
        "            })\n",
        "            if relevancy_result.class_name == 'Relevant':\n",
        "                relevant_documents.append(document)\n",
        "        except Exception:\n",
        "            continue\n",
        "\n",
        "    return relevant_documents"
      ]
    },
    {
      "cell_type": "code",
      "execution_count": 45,
      "metadata": {
        "id": "PKFmjntXvyjh"
      },
      "outputs": [],
      "source": [
        "workflow = StateGraph(AgentSate)\n",
        "\n",
        "ensemble_retriever = build_ensemble_retriever([0.5, 0.5])\n",
        "workflow.add_node('vector_store', lambda state: {'documents': ensemble_retriever.invoke(input=state['query'])})\n",
        "workflow.add_node('search_engine', lambda state: {'documents': search_engine_chain.invoke(state['query'])})\n",
        "workflow.add_node('fallback', lambda state: {'generation': fallback_chain.invoke(state)})\n",
        "workflow.add_node('generate_with_context', lambda state: {'generation': generate_chain.invoke(state)})\n",
        "workflow.add_node('filter_docs', lambda state: {'documents': filter_docs_node(state)})\n",
        "\n",
        "workflow.set_conditional_entry_point(\n",
        "    router_node,\n",
        "    {\n",
        "        'VectorStore': 'vector_store',\n",
        "        'SearchEngine': 'search_engine',\n",
        "        'LLMFallback': 'fallback',\n",
        "    }\n",
        ")\n",
        "\n",
        "workflow.add_edge('vector_store', 'filter_docs')\n",
        "workflow.add_edge('search_engine', 'filter_docs')\n",
        "workflow.add_edge('fallback', END)\n",
        "workflow.add_edge('generate_with_context', END)\n",
        "\n",
        "workflow.add_conditional_edges(\n",
        "    'filter_docs',\n",
        "    lambda docs: 'generate_with_context' if len(docs) != 0 else 'search_engine',\n",
        "    {\n",
        "        'search_engine': 'search_engine',\n",
        "        'generate_with_context': 'generate_with_context'\n",
        "    }\n",
        ")"
      ]
    },
    {
      "cell_type": "code",
      "execution_count": 46,
      "metadata": {
        "colab": {
          "base_uri": "https://localhost:8080/",
          "height": 462
        },
        "id": "VYmYya5nvyjh",
        "outputId": "0e2afd6b-d7d6-41f6-a24a-360acd4fcd99"
      },
      "outputs": [
        {
          "data": {
            "image/jpeg": "[encoded data removed]",
            "text/plain": [
              "<IPython.core.display.Image object>"
            ]
          },
          "metadata": {},
          "output_type": "display_data"
        }
      ],
      "source": [
        "app = workflow.compile(debug=False)\n",
        "display(Image(app.get_graph().draw_mermaid_png(draw_method=MermaidDrawMethod.API,)))"
      ]
    },
    {
      "cell_type": "code",
      "execution_count": 47,
      "metadata": {
        "id": "7PaE4juDleSe"
      },
      "outputs": [],
      "source": [
        "def send_new_message(query, state=None):\n",
        "    if state == None:\n",
        "        state = {}\n",
        "        state['chat_history'] = []\n",
        "\n",
        "    response = app.invoke({\n",
        "        'query': query,\n",
        "        'chat_history': state['chat_history']\n",
        "    })\n",
        "\n",
        "    response['chat_history'] = [HumanMessage(response['query']), AIMessage(response['generation'])]\n",
        "    return response"
      ]
    },
    {
      "cell_type": "code",
      "execution_count": 48,
      "metadata": {
        "colab": {
          "base_uri": "https://localhost:8080/",
          "height": 362
        },
        "id": "eFrj38Gdvyjh",
        "outputId": "460ee2dd-8b36-40be-d00e-645fdd86fabb"
      },
      "outputs": [
        {
          "data": {
            "text/markdown": [
              "Hello!\n",
              "\n",
              "LSTM (Long Short-Term Memory) is a fascinating topic in the realm of Natural Language Processing (NLP). LSTM is a type of Recurrent Neural Network (RNN) architecture that's particularly well-suited for modeling sequential data, such as speech, text, or time series data.\n",
              "\n",
              "The main advantage of LSTM over traditional RNNs is its ability to learn long-term dependencies in data. This is achieved through the use of memory cells, which allow the network to store information for extended periods of time. This is particularly useful in NLP tasks, where context and relationships between words or tokens can span multiple time steps.\n",
              "\n",
              "In the context of speech recognition, LSTM is often used as a key component in acoustic models, which aim to predict phonemes or speech sounds from audio inputs. LSTM's ability to capture long-term dependencies helps to improve the accuracy of speech recognition systems.\n",
              "\n",
              "Some of the key benefits of LSTM include:\n",
              "\n",
              "1. **Improved performance**: LSTM outperforms traditional RNNs in many NLP tasks, particularly those involving long-range dependencies.\n",
              "2. **Handling vanishing gradients**: LSTM's memory cells help to mitigate the vanishing gradient problem, which occurs when gradients are backpropagated through time, causing them to shrink exponentially.\n",
              "3. **Modeling complex patterns**: LSTM is capable of modeling complex patterns and relationships in sequential data, making it a powerful tool for tasks like language modeling, machine translation, and text classification.\n",
              "\n",
              "Would you like to know more about how LSTM is used in specific NLP tasks, such as language modeling or machine translation?"
            ],
            "text/plain": [
              "<IPython.core.display.Markdown object>"
            ]
          },
          "execution_count": 48,
          "metadata": {},
          "output_type": "execute_result"
        }
      ],
      "source": [
        "state = send_new_message(\"Hello Atask! I want to know about LSTM\")\n",
        "Markdown(state['generation'])"
      ]
    },
    {
      "cell_type": "code",
      "execution_count": 49,
      "metadata": {
        "colab": {
          "base_uri": "https://localhost:8080/",
          "height": 270
        },
        "id": "-XfNp07K0PQi",
        "outputId": "2ca8d99d-f4a3-48c9-f712-034c3377ca44"
      },
      "outputs": [
        {
          "data": {
            "text/markdown": [
              "The \"forget gate\" is a crucial component of the LSTM architecture.\n",
              "\n",
              "In an LSTM network, the forget gate is one of the three gates that regulate the flow of information into and out of the memory cell. The forget gate is responsible for deciding what information to discard or \"forget\" from the previous time step.\n",
              "\n",
              "The forget gate is a sigmoid neural network layer that takes the previous hidden state and the current input as inputs. It outputs a vector of values between 0 and 1, where 1 indicates \"completely remember\" and 0 indicates \"completely forget\". The output of the forget gate is then element-wise multiplied with the previous memory cell state, effectively \"forgetting\" or removing some information from the memory cell.\n",
              "\n",
              "The forget gate plays a crucial role in learning long-term dependencies, as it allows the LSTM network to selectively retain or discard information that is no longer relevant. By forgetting some information, the network can focus on the most important aspects of the input data and reduce the impact of irrelevant information.\n",
              "\n",
              "In the context of speech recognition, the forget gate helps the LSTM network to forget some of the acoustic features that are not relevant for predicting the next phoneme, allowing the network to focus on the most important features that are relevant for accurate speech recognition.\n",
              "\n",
              "Would you like to know more about the other gates in the LSTM architecture, such as the input gate and the output gate?"
            ],
            "text/plain": [
              "<IPython.core.display.Markdown object>"
            ]
          },
          "execution_count": 49,
          "metadata": {},
          "output_type": "execute_result"
        }
      ],
      "source": [
        "state = send_new_message(\"Now I want to know about forgive gate\", state)\n",
        "Markdown(state['generation'])"
      ]
    },
    {
      "cell_type": "code",
      "execution_count": 50,
      "metadata": {
        "colab": {
          "base_uri": "https://localhost:8080/",
          "height": 437
        },
        "id": "tLNUhLoAoqkW",
        "outputId": "483c2716-d085-4d12-9228-3e56bfa2accb"
      },
      "outputs": [
        {
          "data": {
            "text/markdown": [
              "In recent years, several new mechanisms have been proposed to enhance the functionality of gates in LSTM networks. Here are a few examples:\n",
              "\n",
              "1. **Gated Recurrent Units (GRUs)**: While not exactly a modification to the LSTM gate, GRUs are a related type of RNN that use gates in a slightly different way. GRUs have two gates: a reset gate and an update gate. The reset gate determines how much of the previous memory to forget, while the update gate determines how much new information to add. GRUs are simpler and faster to train than LSTMs but still capture long-term dependencies effectively.\n",
              "\n",
              "2. **Coupled Input and Forget Gates**: In traditional LSTMs, the input and forget gates are learned independently. However, some researchers have proposed coupling these gates, so that the forget gate's output is used as an input to the input gate. This coupling helps the network to better balance the amount of information to forget and the amount of new information to add.\n",
              "\n",
              "3. **Gate Attention Mechanisms**: This mechanism involves adding attention weights to the gates, allowing the network to focus on specific parts of the input sequence when deciding what to remember or forget. This can be particularly useful in speech recognition tasks, where certain acoustic features may be more relevant than others.\n",
              "\n",
              "4. **Learned Normalize Gate**: This mechanism involves adding a learnable normalization factor to the gates, allowing the network to adjust the scale of the gate outputs. This can help to stabilize the learning process and improve the network's ability to capture long-term dependencies.\n",
              "\n",
              "5. **Phase-LSTM**: This is a type of LSTM that uses a phase component to modulate the gates. The phase component is a learnable parameter that captures the periodic patterns in the input sequence, allowing the network to better capture long-term dependencies.\n",
              "\n",
              "6. **Gating Mechanisms with External Memory**: This involves using external memory to store information that can be used to inform the gating mechanism. For example, the network might use an external memory to store information about the context in which a word is being used, and then use this information to decide what to remember or forget.\n",
              "\n",
              "These are just a few examples of the new mechanisms that have been proposed to enhance the functionality of gates in LSTM networks. Would you like to know more about any of these mechanisms, or is there something else you'd like to explore?"
            ],
            "text/plain": [
              "<IPython.core.display.Markdown object>"
            ]
          },
          "execution_count": 50,
          "metadata": {},
          "output_type": "execute_result"
        }
      ],
      "source": [
        "state = send_new_message(\"Now tell me about new mechanisms for gates in LSTM\", state)\n",
        "Markdown(state['generation'])"
      ]
    }
  ],
  "metadata": {
    "accelerator": "GPU",
    "colab": {
      "gpuType": "T4",
      "provenance": []
    },
    "kaggle": {
      "accelerator": "gpu",
      "dataSources": [],
      "dockerImageVersionId": 30733,
      "isGpuEnabled": true,
      "isInternetEnabled": true,
      "language": "python",
      "sourceType": "notebook"
    },
    "kernelspec": {
      "display_name": "Python 3",
      "name": "python3"
    },
    "language_info": {
      "codemirror_mode": {
        "name": "ipython",
        "version": 3
      },
      "file_extension": ".py",
      "mimetype": "text/x-python",
      "name": "python",
      "nbconvert_exporter": "python",
      "pygments_lexer": "ipython3",
      "version": "3.11.9"
    }
  },
  "nbformat": 4,
  "nbformat_minor": 0
}
